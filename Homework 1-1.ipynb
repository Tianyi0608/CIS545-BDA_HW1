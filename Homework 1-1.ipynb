{
 "cells": [
  {
   "cell_type": "code",
   "execution_count": 3,
   "metadata": {},
   "outputs": [],
   "source": [
    "# CIS 545"
   ]
  },
  {
   "cell_type": "code",
   "execution_count": 4,
   "metadata": {
    "deletable": false,
    "editable": false,
    "nbgrader": {
     "checksum": "b229a6dc7c38a2041fb06edd93f1609c",
     "grade": false,
     "grade_id": "setup",
     "locked": true,
     "schema_version": 1,
     "solution": false
    }
   },
   "outputs": [],
   "source": [
    "## CIS 545 Homework 1 - Spring 2019\n",
    "# Updated January 2019"
   ]
  },
  {
   "cell_type": "markdown",
   "metadata": {
    "deletable": false,
    "editable": false,
    "nbgrader": {
     "checksum": "3973a474f2d3a77aa36d4cf747b4a189",
     "grade": false,
     "grade_id": "hw1",
     "locked": true,
     "schema_version": 1,
     "solution": false
    }
   },
   "source": [
    "# CIS 545 Homework 1: Data Wrangling and Analysis\n",
    "### Due February 11, 2019 by 10pm\n",
    "\n",
    "Big data analytics often requires (1) importing data from multiple sources, possibly extracting content from text; then (2) combining data from multiple sources, possibly from multiple different organizations, in heterogeneous formats.  For this assignment, our primary goals are to get you comfortable with importing, extracting, saving, and combining data -- largely using `Pandas DataFrames` as the basic abstraction.  You’ll read data from files, address issues with missing values, save the data in a database, combine the data, and generate visualizations.\n",
    "\n",
    "*The Task*     \n",
    "Most of you likely were on a plane over the summer, and chances are that at least one of your flights got delayed.  Did you ever wonder how well different airlines do?  We’ll answer those questions in this assignment!  (Caveat: with apologies to international travelers, most of the data is only available for US cities and routes!)\n",
    "\n",
    "*Terminology*      \n",
    "We’ll generally use `field`, `column`, and `attribute` interchangeably to mean a named column in a DataFrame.  We’ll also generally assume that `table`, `DataFrame`, and `relation` mean the same thing.\n",
    "\n",
    "*Submission*      \n",
    "See the external document for submission information.  Remember to also do **Homework 1, Part 2** and optionally **Homework 1-Advanced**.\n",
    "\n",
    "*NBGrader Information*      \n",
    "We're using a package called `nbgrader` to grade your assignments using an autograding system. With that, there's a couple things to take note:\n",
    "- If we specify a format, please use it!\n",
    "- Some cells will not be able to be edited - that is totally fine, we'll mark them\n",
    "- You may add/remove cells, but if a cell is marked test cases, please don't change it...just add cells before/after it!\n",
    "\n",
    "*Score Breakdown*\n",
    "Homework 1 has two parts, Part 1 and Part 2, which are each worth 50 points. The Advanced assignment, when released, will be worth an additional portion (ex: Advanced assignments may be graded out of 120 or 125 instead of 100).\n",
    "- Step 1: 21 pts\n",
    "- Step 2: 29 pts\n",
    "- Step 3: 0 pts (However, if this is done incorrectly, tests in Step 4 will fail!)\n",
    "- Step 4: 30 pts\n",
    "- Step 5: 20 pts"
   ]
  },
  {
   "cell_type": "markdown",
   "metadata": {
    "deletable": false,
    "editable": false,
    "nbgrader": {
     "checksum": "f760732c42a051eadb3227644d849e01",
     "grade": false,
     "grade_id": "hw1-1",
     "locked": true,
     "schema_version": 1,
     "solution": false
    }
   },
   "source": [
    "## Part 1: Data Extraction and Cleaning\n",
    "We'll begin by importing the data and doing some basic information extraction and cleaning. This helps prepare our dataset for analysis later on, in Part 2: Data Wrangling and Analysis.\n",
    "\n",
    "The data files, whose contents are described in the provided notebook _Dataset Descriptions_, are:\n",
    "\n",
    "* `airports.dat.txt` - data on airports, in comma-separated values (CSVs) with no header row\n",
    "\n",
    "* `airlines.dat.txt` - data on airlines, in CSV with no header row\n",
    "\n",
    "* `routes.dat.txt` - data on flight routes, in CSV with no header row\n",
    "\n",
    "* http://docs.google.com/uc?export=download&id=1PPtjGx8lr_cDUfVa3qwlk1W8yY6hY91n - remote file with data on actual flights, with performance info, with a header row\n",
    "\n",
    "* `aircraft_incidents.htm` - webpage that lists commercial aircraft incidents by year"
   ]
  },
  {
   "cell_type": "markdown",
   "metadata": {
    "deletable": false,
    "editable": false,
    "nbgrader": {
     "checksum": "030c8040956245cd8b2009ffcf258384",
     "grade": false,
     "grade_id": "step1",
     "locked": true,
     "schema_version": 1,
     "solution": false
    }
   },
   "source": [
    "## Step 1: Importing CSV Data\n",
    "\n",
    "The first task will be to import tabular data.  Before you get started, run the following..."
   ]
  },
  {
   "cell_type": "code",
   "execution_count": 5,
   "metadata": {
    "deletable": false,
    "editable": false,
    "nbgrader": {
     "checksum": "11441b5299dface90d376491384924d4",
     "grade": false,
     "grade_id": "pandas",
     "locked": true,
     "schema_version": 1,
     "solution": false
    }
   },
   "outputs": [],
   "source": [
    "# csv is a package for file reading/IO\n",
    "import csv\n",
    "\n",
    "# pandas is the data analysis library we'll use in this course\n",
    "import pandas as pd"
   ]
  },
  {
   "cell_type": "code",
   "execution_count": 6,
   "metadata": {
    "deletable": false,
    "nbgrader": {
     "checksum": "298c269b5ddd95b7f64e289cc4b3a12e",
     "grade": false,
     "grade_id": "install_nltk",
     "locked": false,
     "schema_version": 1,
     "solution": true
    },
    "scrolled": true
   },
   "outputs": [],
   "source": [
    "# YOUR CODE HERE\n"
   ]
  },
  {
   "cell_type": "code",
   "execution_count": null,
   "metadata": {
    "deletable": false,
    "nbgrader": {
     "checksum": "862f3db2091aec3de1dec3c5dcb95aa1",
     "grade": false,
     "grade_id": "stopwords",
     "locked": false,
     "schema_version": 1,
     "solution": true
    },
    "scrolled": false
   },
   "outputs": [],
   "source": []
  },
  {
   "cell_type": "code",
   "execution_count": 7,
   "metadata": {
    "deletable": false,
    "editable": false,
    "nbgrader": {
     "checksum": "f63db9704c98da078c57b5aafa7c17c7",
     "grade": false,
     "grade_id": "base_dfs",
     "locked": true,
     "schema_version": 1,
     "solution": false
    }
   },
   "outputs": [],
   "source": [
    "# This cell can ultimately be removed - it is just to let your notebook compile\n",
    "# until you write your solution\n",
    "airports_df = pd.DataFrame({})\n",
    "airlines_df = pd.DataFrame({})\n",
    "flights_df = pd.DataFrame({})\n",
    "routes_df = pd.DataFrame({})\n"
   ]
  },
  {
   "cell_type": "markdown",
   "metadata": {
    "deletable": false,
    "editable": false,
    "nbgrader": {
     "checksum": "96ba99d3e745960a49b1484f8c6e1795",
     "grade": false,
     "grade_id": "step1-1",
     "locked": true,
     "schema_version": 1,
     "solution": false
    }
   },
   "source": [
    "## 1.1 Importing Tabular Data\n",
    "\n",
    "Fill in the Cells below to read the specified input files using Pandas’ `read_csv` function.  For the first 3 sources you’ll need to assign column names to the data, based on the **Dataset Descriptions** and some hints below.  \n",
    "\n",
    "We use the variable names `airports_df`, `airlines_df`, `routes_df`, and `flights_df` to refer to the DataFrames below. The `_df` is because Python is dynamically typed, so it helps make code more clear when the type is apparent from the variable name.\n",
    "\n",
    "For your variables and your column names, follow the Python convention that names are in lowercase and underscores are used as spaces. Specifically, when naming columns that are ***shared*** between datasets, use the format datasource_property (i.e. `airport_id`, `airport_name`, `airline_id`, etc.). Distinct columns do not need to be treated this way, similarly with columns that are okay to share with same name (use your data scientist thinking to figure out which these might be!)\n",
    "\n",
    "Please keep `lat`, `lon` and `alt` as abbreviations, but note that under the Python naming conventions these are lowercase in our dataframe columns!"
   ]
  },
  {
   "cell_type": "code",
   "execution_count": 8,
   "metadata": {
    "deletable": false,
    "nbgrader": {
     "checksum": "74f428516744dd9cbabd94eaa300863e",
     "grade": false,
     "grade_id": "load_airports",
     "locked": false,
     "schema_version": 1,
     "solution": true
    }
   },
   "outputs": [
    {
     "data": {
      "text/html": [
       "<div>\n",
       "<style scoped>\n",
       "    .dataframe tbody tr th:only-of-type {\n",
       "        vertical-align: middle;\n",
       "    }\n",
       "\n",
       "    .dataframe tbody tr th {\n",
       "        vertical-align: top;\n",
       "    }\n",
       "\n",
       "    .dataframe thead th {\n",
       "        text-align: right;\n",
       "    }\n",
       "</style>\n",
       "<table border=\"1\" class=\"dataframe\">\n",
       "  <thead>\n",
       "    <tr style=\"text-align: right;\">\n",
       "      <th></th>\n",
       "      <th>airport_id</th>\n",
       "      <th>airport_name</th>\n",
       "      <th>airport_city</th>\n",
       "      <th>airport_country</th>\n",
       "      <th>airprot_iata_faa</th>\n",
       "      <th>airport_icao</th>\n",
       "      <th>latitude</th>\n",
       "      <th>longitude</th>\n",
       "      <th>altitude</th>\n",
       "      <th>timezone</th>\n",
       "      <th>dst</th>\n",
       "      <th>tz</th>\n",
       "    </tr>\n",
       "  </thead>\n",
       "  <tbody>\n",
       "    <tr>\n",
       "      <th>0</th>\n",
       "      <td>1</td>\n",
       "      <td>Goroka</td>\n",
       "      <td>Goroka</td>\n",
       "      <td>Papua New Guinea</td>\n",
       "      <td>GKA</td>\n",
       "      <td>AYGA</td>\n",
       "      <td>-6.081689</td>\n",
       "      <td>145.391881</td>\n",
       "      <td>5282</td>\n",
       "      <td>10.0</td>\n",
       "      <td>U</td>\n",
       "      <td>Pacific/Port_Moresby</td>\n",
       "    </tr>\n",
       "    <tr>\n",
       "      <th>1</th>\n",
       "      <td>2</td>\n",
       "      <td>Madang</td>\n",
       "      <td>Madang</td>\n",
       "      <td>Papua New Guinea</td>\n",
       "      <td>MAG</td>\n",
       "      <td>AYMD</td>\n",
       "      <td>-5.207083</td>\n",
       "      <td>145.788700</td>\n",
       "      <td>20</td>\n",
       "      <td>10.0</td>\n",
       "      <td>U</td>\n",
       "      <td>Pacific/Port_Moresby</td>\n",
       "    </tr>\n",
       "    <tr>\n",
       "      <th>2</th>\n",
       "      <td>3</td>\n",
       "      <td>Mount Hagen</td>\n",
       "      <td>Mount Hagen</td>\n",
       "      <td>Papua New Guinea</td>\n",
       "      <td>HGU</td>\n",
       "      <td>AYMH</td>\n",
       "      <td>-5.826789</td>\n",
       "      <td>144.295861</td>\n",
       "      <td>5388</td>\n",
       "      <td>10.0</td>\n",
       "      <td>U</td>\n",
       "      <td>Pacific/Port_Moresby</td>\n",
       "    </tr>\n",
       "    <tr>\n",
       "      <th>3</th>\n",
       "      <td>4</td>\n",
       "      <td>Nadzab</td>\n",
       "      <td>Nadzab</td>\n",
       "      <td>Papua New Guinea</td>\n",
       "      <td>LAE</td>\n",
       "      <td>AYNZ</td>\n",
       "      <td>-6.569828</td>\n",
       "      <td>146.726242</td>\n",
       "      <td>239</td>\n",
       "      <td>10.0</td>\n",
       "      <td>U</td>\n",
       "      <td>Pacific/Port_Moresby</td>\n",
       "    </tr>\n",
       "    <tr>\n",
       "      <th>4</th>\n",
       "      <td>5</td>\n",
       "      <td>Port Moresby Jacksons Intl</td>\n",
       "      <td>Port Moresby</td>\n",
       "      <td>Papua New Guinea</td>\n",
       "      <td>POM</td>\n",
       "      <td>AYPY</td>\n",
       "      <td>-9.443383</td>\n",
       "      <td>147.220050</td>\n",
       "      <td>146</td>\n",
       "      <td>10.0</td>\n",
       "      <td>U</td>\n",
       "      <td>Pacific/Port_Moresby</td>\n",
       "    </tr>\n",
       "    <tr>\n",
       "      <th>5</th>\n",
       "      <td>6</td>\n",
       "      <td>Wewak Intl</td>\n",
       "      <td>Wewak</td>\n",
       "      <td>Papua New Guinea</td>\n",
       "      <td>WWK</td>\n",
       "      <td>AYWK</td>\n",
       "      <td>-3.583828</td>\n",
       "      <td>143.669186</td>\n",
       "      <td>19</td>\n",
       "      <td>10.0</td>\n",
       "      <td>U</td>\n",
       "      <td>Pacific/Port_Moresby</td>\n",
       "    </tr>\n",
       "    <tr>\n",
       "      <th>6</th>\n",
       "      <td>7</td>\n",
       "      <td>Narsarsuaq</td>\n",
       "      <td>Narssarssuaq</td>\n",
       "      <td>Greenland</td>\n",
       "      <td>UAK</td>\n",
       "      <td>BGBW</td>\n",
       "      <td>61.160517</td>\n",
       "      <td>-45.425978</td>\n",
       "      <td>112</td>\n",
       "      <td>-3.0</td>\n",
       "      <td>E</td>\n",
       "      <td>America/Godthab</td>\n",
       "    </tr>\n",
       "    <tr>\n",
       "      <th>7</th>\n",
       "      <td>8</td>\n",
       "      <td>Nuuk</td>\n",
       "      <td>Godthaab</td>\n",
       "      <td>Greenland</td>\n",
       "      <td>GOH</td>\n",
       "      <td>BGGH</td>\n",
       "      <td>64.190922</td>\n",
       "      <td>-51.678064</td>\n",
       "      <td>283</td>\n",
       "      <td>-3.0</td>\n",
       "      <td>E</td>\n",
       "      <td>America/Godthab</td>\n",
       "    </tr>\n",
       "    <tr>\n",
       "      <th>8</th>\n",
       "      <td>9</td>\n",
       "      <td>Sondre Stromfjord</td>\n",
       "      <td>Sondrestrom</td>\n",
       "      <td>Greenland</td>\n",
       "      <td>SFJ</td>\n",
       "      <td>BGSF</td>\n",
       "      <td>67.016969</td>\n",
       "      <td>-50.689325</td>\n",
       "      <td>165</td>\n",
       "      <td>-3.0</td>\n",
       "      <td>E</td>\n",
       "      <td>America/Godthab</td>\n",
       "    </tr>\n",
       "    <tr>\n",
       "      <th>9</th>\n",
       "      <td>10</td>\n",
       "      <td>Thule Air Base</td>\n",
       "      <td>Thule</td>\n",
       "      <td>Greenland</td>\n",
       "      <td>THU</td>\n",
       "      <td>BGTL</td>\n",
       "      <td>76.531203</td>\n",
       "      <td>-68.703161</td>\n",
       "      <td>251</td>\n",
       "      <td>-4.0</td>\n",
       "      <td>E</td>\n",
       "      <td>America/Thule</td>\n",
       "    </tr>\n",
       "  </tbody>\n",
       "</table>\n",
       "</div>"
      ],
      "text/plain": [
       "   airport_id                airport_name  airport_city   airport_country  \\\n",
       "0           1                      Goroka        Goroka  Papua New Guinea   \n",
       "1           2                      Madang        Madang  Papua New Guinea   \n",
       "2           3                 Mount Hagen   Mount Hagen  Papua New Guinea   \n",
       "3           4                      Nadzab        Nadzab  Papua New Guinea   \n",
       "4           5  Port Moresby Jacksons Intl  Port Moresby  Papua New Guinea   \n",
       "5           6                  Wewak Intl         Wewak  Papua New Guinea   \n",
       "6           7                  Narsarsuaq  Narssarssuaq         Greenland   \n",
       "7           8                        Nuuk      Godthaab         Greenland   \n",
       "8           9           Sondre Stromfjord   Sondrestrom         Greenland   \n",
       "9          10              Thule Air Base         Thule         Greenland   \n",
       "\n",
       "  airprot_iata_faa airport_icao   latitude   longitude  altitude  timezone  \\\n",
       "0              GKA         AYGA  -6.081689  145.391881      5282      10.0   \n",
       "1              MAG         AYMD  -5.207083  145.788700        20      10.0   \n",
       "2              HGU         AYMH  -5.826789  144.295861      5388      10.0   \n",
       "3              LAE         AYNZ  -6.569828  146.726242       239      10.0   \n",
       "4              POM         AYPY  -9.443383  147.220050       146      10.0   \n",
       "5              WWK         AYWK  -3.583828  143.669186        19      10.0   \n",
       "6              UAK         BGBW  61.160517  -45.425978       112      -3.0   \n",
       "7              GOH         BGGH  64.190922  -51.678064       283      -3.0   \n",
       "8              SFJ         BGSF  67.016969  -50.689325       165      -3.0   \n",
       "9              THU         BGTL  76.531203  -68.703161       251      -4.0   \n",
       "\n",
       "  dst                    tz  \n",
       "0   U  Pacific/Port_Moresby  \n",
       "1   U  Pacific/Port_Moresby  \n",
       "2   U  Pacific/Port_Moresby  \n",
       "3   U  Pacific/Port_Moresby  \n",
       "4   U  Pacific/Port_Moresby  \n",
       "5   U  Pacific/Port_Moresby  \n",
       "6   E       America/Godthab  \n",
       "7   E       America/Godthab  \n",
       "8   E       America/Godthab  \n",
       "9   E         America/Thule  "
      ]
     },
     "execution_count": 8,
     "metadata": {},
     "output_type": "execute_result"
    }
   ],
   "source": [
    "# TODO: Load airports.dat.txt into a dataframe called airports_df\n",
    "# Read the above paragraph for namings!\n",
    "\n",
    "airports_df = pd.read_csv('airports.dat.txt', header = None, names = ['airport_id','airport_name','airport_city','airport_country','airprot_iata_faa','airport_icao','latitude','longitude','altitude','timezone','dst','tz'])\n",
    "flights_df = pd.DataFrame({})\n",
    "airports_df.head(10)"
   ]
  },
  {
   "cell_type": "markdown",
   "metadata": {
    "deletable": false,
    "editable": false,
    "nbgrader": {
     "checksum": "72615ec70375d78ee469270efa6e49ac",
     "grade": false,
     "grade_id": "view_schema",
     "locked": true,
     "schema_version": 1,
     "solution": false
    }
   },
   "source": [
    "You should see info on your dataframe's schema if you run this cell..."
   ]
  },
  {
   "cell_type": "code",
   "execution_count": 9,
   "metadata": {
    "deletable": false,
    "editable": false,
    "nbgrader": {
     "checksum": "eac634722a6c7960b4bae0ffb9c34f7d",
     "grade": false,
     "grade_id": "airports_schema",
     "locked": true,
     "schema_version": 1,
     "solution": false
    }
   },
   "outputs": [
    {
     "data": {
      "text/plain": [
       "airport_id            int64\n",
       "airport_name         object\n",
       "airport_city         object\n",
       "airport_country      object\n",
       "airprot_iata_faa     object\n",
       "airport_icao         object\n",
       "latitude            float64\n",
       "longitude           float64\n",
       "altitude              int64\n",
       "timezone            float64\n",
       "dst                  object\n",
       "tz                   object\n",
       "dtype: object"
      ]
     },
     "execution_count": 9,
     "metadata": {},
     "output_type": "execute_result"
    }
   ],
   "source": [
    "airports_df.dtypes"
   ]
  },
  {
   "cell_type": "markdown",
   "metadata": {
    "deletable": false,
    "editable": false,
    "nbgrader": {
     "checksum": "3685943a52a6cda2a93fd9faee2354b3",
     "grade": false,
     "grade_id": "test_cells",
     "locked": true,
     "schema_version": 1,
     "solution": false
    }
   },
   "source": [
    "This is the first of many *test case* cells that will help you to (partly) validate that you're on the right path with your answers.  If this (or any of the other cells) fails, this is a clue that your output isn't what we expect.\n",
    "\n",
    "We also have hidden test cells used to grade your homework, which are marked with:\n",
    "\n",
    "`[CIS 545 Test Cases] (XXX pts)` and end with `print('[CIS 545 Test Cases] (XXX pts)')`\n",
    "\n",
    "The test cells should be read-only, but you still should not attempt to edit any of these cells. Typically, our hidden cells are more restrictive in addition to being worth more points. The public test cells are meant just as a gentle guidance, and passing them doesn't mean your answer will receive full points! Being very thorough in your work will help the chances of that."
   ]
  },
  {
   "cell_type": "code",
   "execution_count": 10,
   "metadata": {
    "deletable": false,
    "editable": false,
    "nbgrader": {
     "checksum": "a1254db2064c70c8520aa61c7231774a",
     "grade": true,
     "grade_id": "test_airports1",
     "locked": true,
     "points": 0,
     "schema_version": 1,
     "solution": false
    }
   },
   "outputs": [
    {
     "name": "stdout",
     "output_type": "stream",
     "text": [
      "[CIS 545 Test Cases] (0 pts)\n"
     ]
    }
   ],
   "source": [
    "# [CIS 545 Test Cases] (0 pts)\n",
    "# This is an example of a test cell! \n",
    "# Please don't edit it!\n",
    "\n",
    "if (len(airports_df) < 8100 or len(airports_df) > 8150): \n",
    "    raise ValueError('Your DataFrame doesn''t have the expected number of rows')\n",
    "    \n",
    "if (len(airports_df.columns) < 11 or len(airports_df.columns) > 12): # 11 or 12 expected\n",
    "    raise ValueError('Your DataFrame doesn''t have the expected number of columns')\n",
    "\n",
    "try:\n",
    "    if (airports_df['airport_id'].dtype != 'int64'):\n",
    "        raise ValueError('Airport ID is wrong type, should be integer')\n",
    "    if (airports_df['airport_name'].dtype != 'object'):\n",
    "        raise ValueError('Airport name is wrong type, should be object (string)')\n",
    "    pass\n",
    "\n",
    "except KeyError:\n",
    "    raise KeyError('You likely misspelled a column name or didn''t load the dataframe')\n",
    "    pass\n",
    "\n",
    "\n",
    "print('[CIS 545 Test Cases] (0 pts)')"
   ]
  },
  {
   "cell_type": "code",
   "execution_count": 11,
   "metadata": {
    "deletable": false,
    "editable": false,
    "nbgrader": {
     "checksum": "11e65f3d69710ba0e6962b6dc84c1ced",
     "grade": true,
     "grade_id": "test_airports2",
     "locked": true,
     "points": 2,
     "schema_version": 1,
     "solution": false
    }
   },
   "outputs": [
    {
     "name": "stdout",
     "output_type": "stream",
     "text": [
      "[CIS 545 Test Cases] (2 pts)\n"
     ]
    }
   ],
   "source": [
    "# [CIS 545 Test Cases] (2 pts)\n",
    "# Testing dtypes of your dataframe\n",
    "\n",
    "\n",
    "print('[CIS 545 Test Cases] (2 pts)')"
   ]
  },
  {
   "cell_type": "code",
   "execution_count": 12,
   "metadata": {
    "deletable": false,
    "nbgrader": {
     "checksum": "ce3530702c7b74e6a62975d8a3ecb219",
     "grade": false,
     "grade_id": "load_airlines",
     "locked": false,
     "schema_version": 1,
     "solution": true
    }
   },
   "outputs": [],
   "source": [
    "# TODO: Load airlines.dat.txt into a dataframe called airlines_df\n",
    "# Again, check Dataset Descriptions!\n",
    "\n",
    "# YOUR CODE HERE\n",
    "airlines_df = pd.read_csv('airlines.dat.txt', header = None, names =['airline_id','airline_name','alias','airline_iata','airline_icao','airline_callsign','airline_country','active'])"
   ]
  },
  {
   "cell_type": "code",
   "execution_count": 13,
   "metadata": {},
   "outputs": [
    {
     "data": {
      "text/plain": [
       "6048"
      ]
     },
     "execution_count": 13,
     "metadata": {},
     "output_type": "execute_result"
    }
   ],
   "source": [
    "len(airlines_df)"
   ]
  },
  {
   "cell_type": "code",
   "execution_count": 14,
   "metadata": {
    "deletable": false,
    "editable": false,
    "nbgrader": {
     "checksum": "f10c095a594793fd20e18db9ff190713",
     "grade": false,
     "grade_id": "airlines_dtypes",
     "locked": true,
     "schema_version": 1,
     "solution": false
    }
   },
   "outputs": [
    {
     "data": {
      "text/plain": [
       "airline_id           int64\n",
       "airline_name        object\n",
       "alias               object\n",
       "airline_iata        object\n",
       "airline_icao        object\n",
       "airline_callsign    object\n",
       "airline_country     object\n",
       "active              object\n",
       "dtype: object"
      ]
     },
     "execution_count": 14,
     "metadata": {},
     "output_type": "execute_result"
    }
   ],
   "source": [
    "airlines_df.dtypes"
   ]
  },
  {
   "cell_type": "code",
   "execution_count": 15,
   "metadata": {
    "deletable": false,
    "editable": false,
    "nbgrader": {
     "checksum": "1a43098f4b129911cf196eefffb35926",
     "grade": true,
     "grade_id": "test_airlines1",
     "locked": true,
     "points": 0,
     "schema_version": 1,
     "solution": false
    }
   },
   "outputs": [
    {
     "name": "stdout",
     "output_type": "stream",
     "text": [
      "[CIS 545 Test Cases] (0 pts)\n"
     ]
    }
   ],
   "source": [
    "# [CIS 545 Test Cases] (0 pts)\n",
    "\n",
    "if (len(airlines_df) < 6030 or len(airlines_df) > 6060):\n",
    "    raise ValueError('Unexpected number of airlines rows')\n",
    "    \n",
    "if (len(airlines_df.columns) != 8):\n",
    "    raise ValueError('Unexpected number of columns in airlines')\n",
    "\n",
    "\n",
    "print('[CIS 545 Test Cases] (0 pts)')"
   ]
  },
  {
   "cell_type": "code",
   "execution_count": 16,
   "metadata": {
    "deletable": false,
    "editable": false,
    "nbgrader": {
     "checksum": "be0535772dfcb170b2fdbcc4c8dc4865",
     "grade": true,
     "grade_id": "test_airlines2",
     "locked": true,
     "points": 2,
     "schema_version": 1,
     "solution": false
    }
   },
   "outputs": [
    {
     "name": "stdout",
     "output_type": "stream",
     "text": [
      "[CIS 545 Test Cases] (2 pts)\n"
     ]
    }
   ],
   "source": [
    "# [CIS 545 Test Cases] (2 pts)\n",
    "\n",
    "\n",
    "print('[CIS 545 Test Cases] (2 pts)')"
   ]
  },
  {
   "cell_type": "markdown",
   "metadata": {
    "deletable": false,
    "editable": false,
    "nbgrader": {
     "checksum": "8a966884499671fdca34eadb0ea12b99",
     "grade": false,
     "grade_id": "overview_routes",
     "locked": true,
     "schema_version": 1,
     "solution": false
    }
   },
   "source": [
    "Now, let's do the same for `routes` - notice that we have source and destination ID and IATA/ICAO code. For `Source airport` please use `src_iata_icao` and for `Source airport ID` please use `source_id` - for the destinations, use `target` for both (`target_iata_icao` and `target_id`).\n",
    "\n",
    "Note that `Codeshare` you should import as `code_share`"
   ]
  },
  {
   "cell_type": "code",
   "execution_count": 17,
   "metadata": {
    "deletable": false,
    "nbgrader": {
     "checksum": "60b4f6d355182f659398818ae7e26fc9",
     "grade": false,
     "grade_id": "load_routes",
     "locked": false,
     "schema_version": 1,
     "solution": true
    }
   },
   "outputs": [],
   "source": [
    "# TODO: Load routes.dat.txt into a dataframe called routes_df\n",
    "# Same idea as before!\n",
    "\n",
    "# YOUR CODE HERE\n",
    "routes_df = pd.read_csv('routes.dat.txt', header = None, names =['airline_iata_icao','airline_id','src_iata_icao','source_id','target_iata_icao','target_id','code_share','stops','equipment'])"
   ]
  },
  {
   "cell_type": "code",
   "execution_count": 18,
   "metadata": {
    "deletable": false,
    "editable": false,
    "nbgrader": {
     "checksum": "29d425b3daa2bfa6c90bc319e0d0ede3",
     "grade": false,
     "grade_id": "routes_dtypes",
     "locked": true,
     "schema_version": 1,
     "solution": false
    }
   },
   "outputs": [
    {
     "data": {
      "text/plain": [
       "airline_iata_icao    object\n",
       "airline_id           object\n",
       "src_iata_icao        object\n",
       "source_id            object\n",
       "target_iata_icao     object\n",
       "target_id            object\n",
       "code_share           object\n",
       "stops                 int64\n",
       "equipment            object\n",
       "dtype: object"
      ]
     },
     "execution_count": 18,
     "metadata": {},
     "output_type": "execute_result"
    }
   ],
   "source": [
    "routes_df.dtypes"
   ]
  },
  {
   "cell_type": "code",
   "execution_count": 19,
   "metadata": {
    "deletable": false,
    "editable": false,
    "nbgrader": {
     "checksum": "ed516fa5b831eb2f5b422b4175da3744",
     "grade": true,
     "grade_id": "test_routes1",
     "locked": true,
     "points": 0,
     "schema_version": 1,
     "solution": false
    }
   },
   "outputs": [
    {
     "name": "stdout",
     "output_type": "stream",
     "text": [
      "[CIS 545 Test Cases] (0 pts)\n"
     ]
    }
   ],
   "source": [
    "# [CIS 545 Test Cases] (0 pts)\n",
    "# Basic routes_df tests\n",
    "\n",
    "if (len(routes_df) < 67660 or len(routes_df) > 67700):\n",
    "    raise ValueError('Unexpected number of routes')\n",
    "    \n",
    "if (len(routes_df.columns) != 9):\n",
    "    raise ValueError('Unexpected number of route columns')\n",
    "\n",
    "if ('source_id' not in routes_df.columns):\n",
    "    raise KeyError('Missing expected source_id field from routes')\n",
    "\n",
    "if ('target_iata_icao' not in routes_df.columns):\n",
    "    raise KeyError('Missing expected target_iata_iaco field from routes')\n",
    "\n",
    "\n",
    "print('[CIS 545 Test Cases] (0 pts)')"
   ]
  },
  {
   "cell_type": "code",
   "execution_count": 20,
   "metadata": {
    "deletable": false,
    "editable": false,
    "nbgrader": {
     "checksum": "12fa56be1d61d9f662a697363ba96ed4",
     "grade": true,
     "grade_id": "test_routes2",
     "locked": true,
     "points": 2,
     "schema_version": 1,
     "solution": false
    }
   },
   "outputs": [
    {
     "name": "stdout",
     "output_type": "stream",
     "text": [
      "[CIS 545 Test Cases] (2 pts)\n"
     ]
    }
   ],
   "source": [
    "# [CIS 545 Test Cases] (2 pts)\n",
    "# routes_df data tests\n",
    "\n",
    "\n",
    "print('[CIS 545 Test Cases] (2 pts)')"
   ]
  },
  {
   "cell_type": "markdown",
   "metadata": {
    "deletable": false,
    "editable": false,
    "nbgrader": {
     "checksum": "addd02bc351d88394726366065af1577",
     "grade": false,
     "grade_id": "overview_flights",
     "locked": true,
     "schema_version": 1,
     "solution": false
    }
   },
   "source": [
    "For the last dataframe, `flights_df`, you are importing from a CSV with a header.  For now, have Python use the header names already in the file. When calling read_csv, use the option use_cols to specify a list of columns to import.  Only include the following fields (these were named in the CSV file header from BTS, and thus don’t follow Python naming conventions): [`YEAR`,`MONTH`,`DAY_OF_MONTH`,`CARRIER`,`FL_NUM`,`ORIGIN`,`DEST`,`ARR_DELAY_NEW`,`CANCELLED`]\n",
    "\n",
    "The data is at: https://docs.google.com/uc?export=download&id=1PPtjGx8lr_cDUfVa3qwlk1W8yY6hY91n"
   ]
  },
  {
   "cell_type": "code",
   "execution_count": 21,
   "metadata": {
    "deletable": false,
    "nbgrader": {
     "checksum": "f2f3d10902c5064cb651e320cadc201d",
     "grade": false,
     "grade_id": "load_flights",
     "locked": false,
     "schema_version": 1,
     "solution": true
    }
   },
   "outputs": [],
   "source": [
    "# TODO: Import https://docs.google.com/uc?export=download&id=1PPtjGx8lr_cDUfVa3qwlk1W8yY6hY91n into flights_df, but\n",
    "# also restrict to the following columns: 'YEAR','MONTH','DAY_OF_MONTH','CARRIER',\n",
    "# 'FL_NUM','ORIGIN','DEST','ARR_DELAY_NEW','CANCELLED'\n",
    "\n",
    "import requests\n",
    "from io import StringIO\n",
    "\n",
    "remote = requests.get('https://docs.google.com/uc?export=download&id=1PPtjGx8lr_cDUfVa3qwlk1W8yY6hY91n').content\n",
    "#remote = requests.get('https://newsroom.fb.com/').content\n",
    "#remote\n",
    "\n"
   ]
  },
  {
   "cell_type": "code",
   "execution_count": 22,
   "metadata": {},
   "outputs": [
    {
     "data": {
      "text/plain": [
       "570118"
      ]
     },
     "execution_count": 22,
     "metadata": {},
     "output_type": "execute_result"
    }
   ],
   "source": [
    "# You can read from the remote file via:\n",
    "flights_df = pd.read_csv(StringIO(remote.decode('utf-8')),\n",
    "                      usecols = ['YEAR','MONTH','DAY_OF_MONTH','CARRIER','FL_NUM','ORIGIN','DEST','ARR_DELAY_NEW','CANCELLED'])\n",
    "    #这样为什么不可以？                  \n",
    "    #names = ['year','month','day_of_month','carrier','fl_num','flight_src','flight_target','arr_delay_new','cancelled'])\n",
    "flights_df.columns = ['year','month','day_of_month','carrier','fl_num','flight_src','flight_target','arr_delay_new','cancelled']                                \n",
    "len(flights_df)\n",
    "# But you also need to use particular columns as per the HW spec\n",
    "\n",
    "# YOUR CODE HERE"
   ]
  },
  {
   "cell_type": "code",
   "execution_count": 23,
   "metadata": {},
   "outputs": [],
   "source": [
    "#pd.read_csv? requests.get('https://').content"
   ]
  },
  {
   "cell_type": "code",
   "execution_count": 24,
   "metadata": {
    "deletable": false,
    "editable": false,
    "nbgrader": {
     "checksum": "06424f44664b2f97ed77f8cce4476415",
     "grade": true,
     "grade_id": "test_flights1",
     "locked": true,
     "points": 1,
     "schema_version": 1,
     "solution": false
    }
   },
   "outputs": [
    {
     "name": "stdout",
     "output_type": "stream",
     "text": [
      "[CIS 545 Test Cases] (1 pt)\n"
     ]
    }
   ],
   "source": [
    "# [CIS 545 Test Cases] (1 pt)\n",
    "# Basic checks on the size of flights - you should pass all these!\n",
    "\n",
    "if (len(flights_df) != 570118):\n",
    "    raise ValueError('Expected a different number of flights from' + str(len(flights_df)))\n",
    "    \n",
    "if (len(flights_df.columns) != 9):\n",
    "    raise ValueError('Perhaps you forgot to remove a column? Number of columns isn''t as expected, at ' + str(len(flights_df.columns)))\n",
    "        \n",
    "print('[CIS 545 Test Cases] (1 pt)')"
   ]
  },
  {
   "cell_type": "code",
   "execution_count": 25,
   "metadata": {
    "deletable": false,
    "editable": false,
    "nbgrader": {
     "checksum": "4921d32c12be7b7873e8af3a7be759af",
     "grade": true,
     "grade_id": "test_flights2",
     "locked": true,
     "points": 2,
     "schema_version": 1,
     "solution": false
    }
   },
   "outputs": [
    {
     "name": "stdout",
     "output_type": "stream",
     "text": [
      "[CIS 545 Test Cases] (2 pts)\n"
     ]
    }
   ],
   "source": [
    "# [CIS 545 Test Cases] (2 pts)\n",
    "\n",
    "\n",
    "print('[CIS 545 Test Cases] (2 pts)')"
   ]
  },
  {
   "cell_type": "markdown",
   "metadata": {
    "deletable": false,
    "editable": false,
    "nbgrader": {
     "checksum": "79a388129d66f667e99ac67a9e23f354",
     "grade": false,
     "grade_id": "notes_data",
     "locked": true,
     "schema_version": 1,
     "solution": false
    }
   },
   "source": [
    "## Notes on the data so far\n",
    "\n",
    "The data you've imported isn't yet perfect....\n",
    "\n",
    "**Nulls**.  You should see for airlines a variety of entries that say “NaN” (not a number), which represents “unknown” or null information.  In fact, if you look closely there are also other values representing “unknown” such as “\\N” and even “-”.  We’ll have to regularize all of this later!\n",
    "\n",
    "**Schemas**.  OK, you’ve loaded the DataFrames.  You can get the schemas -- the names and types of the columns -- of the DataFrames by the `dtypes` property.  Use `airlines_df.dtypes` and `routes_df.dtypes` to take a look at the schemas.  Now compare the types of `routes_df.airline_id` and `airlines_df.airline_id`.  You should see that one is `int64` and the other is `object`.\n",
    "\n",
    "Why is this?  Python automatically infers the types based on what it reads from the CSV files.  Unfortunately, things like “NaN” are actually floating-point (fractional) numbers and “\\N” is a string.  If a column has multiple kinds of values, Python will consider it to be an “object.”  Unfortunately, this will interfere with how we combine tables later, so we need to “clean” the data.  \n",
    "\n",
    "We'll come back to this later in Homework 1, Part I.  Before that we'll let you take a look at the data to see the issues, and then we'll import even more data (text data this time!)."
   ]
  },
  {
   "cell_type": "code",
   "execution_count": 26,
   "metadata": {
    "deletable": false,
    "nbgrader": {
     "checksum": "f4561febcff366c3ed1290cc38bbd665",
     "grade": false,
     "grade_id": "work1",
     "locked": false,
     "schema_version": 1,
     "solution": true
    }
   },
   "outputs": [],
   "source": [
    "# YOUR CODE HERE\n"
   ]
  },
  {
   "cell_type": "code",
   "execution_count": 27,
   "metadata": {
    "deletable": false,
    "nbgrader": {
     "checksum": "7db3fd01702729195f0300507edbcc6b",
     "grade": false,
     "grade_id": "work2",
     "locked": false,
     "schema_version": 1,
     "solution": true
    }
   },
   "outputs": [],
   "source": [
    "# YOUR CODE HERE\n"
   ]
  },
  {
   "cell_type": "markdown",
   "metadata": {
    "deletable": false,
    "editable": false,
    "nbgrader": {
     "checksum": "aa6ebfb791f8678e3b521b72fa0fed1f",
     "grade": false,
     "grade_id": "step1-1_results",
     "locked": true,
     "schema_version": 1,
     "solution": false
    }
   },
   "source": [
    "## 1.1 Final Results\n",
    "Just run these cells! We've made them read-only and they're not graded."
   ]
  },
  {
   "cell_type": "code",
   "execution_count": 28,
   "metadata": {
    "deletable": false,
    "editable": false,
    "nbgrader": {
     "checksum": "13290e5562e37626cac7a1d78b8faaf6",
     "grade": false,
     "grade_id": "airports_head1",
     "locked": true,
     "schema_version": 1,
     "solution": false
    }
   },
   "outputs": [
    {
     "data": {
      "text/html": [
       "<div>\n",
       "<style scoped>\n",
       "    .dataframe tbody tr th:only-of-type {\n",
       "        vertical-align: middle;\n",
       "    }\n",
       "\n",
       "    .dataframe tbody tr th {\n",
       "        vertical-align: top;\n",
       "    }\n",
       "\n",
       "    .dataframe thead th {\n",
       "        text-align: right;\n",
       "    }\n",
       "</style>\n",
       "<table border=\"1\" class=\"dataframe\">\n",
       "  <thead>\n",
       "    <tr style=\"text-align: right;\">\n",
       "      <th></th>\n",
       "      <th>airport_id</th>\n",
       "      <th>airport_name</th>\n",
       "      <th>airport_city</th>\n",
       "      <th>airport_country</th>\n",
       "      <th>airprot_iata_faa</th>\n",
       "      <th>airport_icao</th>\n",
       "      <th>latitude</th>\n",
       "      <th>longitude</th>\n",
       "      <th>altitude</th>\n",
       "      <th>timezone</th>\n",
       "      <th>dst</th>\n",
       "      <th>tz</th>\n",
       "    </tr>\n",
       "  </thead>\n",
       "  <tbody>\n",
       "    <tr>\n",
       "      <th>0</th>\n",
       "      <td>1</td>\n",
       "      <td>Goroka</td>\n",
       "      <td>Goroka</td>\n",
       "      <td>Papua New Guinea</td>\n",
       "      <td>GKA</td>\n",
       "      <td>AYGA</td>\n",
       "      <td>-6.081689</td>\n",
       "      <td>145.391881</td>\n",
       "      <td>5282</td>\n",
       "      <td>10.0</td>\n",
       "      <td>U</td>\n",
       "      <td>Pacific/Port_Moresby</td>\n",
       "    </tr>\n",
       "    <tr>\n",
       "      <th>1</th>\n",
       "      <td>2</td>\n",
       "      <td>Madang</td>\n",
       "      <td>Madang</td>\n",
       "      <td>Papua New Guinea</td>\n",
       "      <td>MAG</td>\n",
       "      <td>AYMD</td>\n",
       "      <td>-5.207083</td>\n",
       "      <td>145.788700</td>\n",
       "      <td>20</td>\n",
       "      <td>10.0</td>\n",
       "      <td>U</td>\n",
       "      <td>Pacific/Port_Moresby</td>\n",
       "    </tr>\n",
       "    <tr>\n",
       "      <th>2</th>\n",
       "      <td>3</td>\n",
       "      <td>Mount Hagen</td>\n",
       "      <td>Mount Hagen</td>\n",
       "      <td>Papua New Guinea</td>\n",
       "      <td>HGU</td>\n",
       "      <td>AYMH</td>\n",
       "      <td>-5.826789</td>\n",
       "      <td>144.295861</td>\n",
       "      <td>5388</td>\n",
       "      <td>10.0</td>\n",
       "      <td>U</td>\n",
       "      <td>Pacific/Port_Moresby</td>\n",
       "    </tr>\n",
       "    <tr>\n",
       "      <th>3</th>\n",
       "      <td>4</td>\n",
       "      <td>Nadzab</td>\n",
       "      <td>Nadzab</td>\n",
       "      <td>Papua New Guinea</td>\n",
       "      <td>LAE</td>\n",
       "      <td>AYNZ</td>\n",
       "      <td>-6.569828</td>\n",
       "      <td>146.726242</td>\n",
       "      <td>239</td>\n",
       "      <td>10.0</td>\n",
       "      <td>U</td>\n",
       "      <td>Pacific/Port_Moresby</td>\n",
       "    </tr>\n",
       "    <tr>\n",
       "      <th>4</th>\n",
       "      <td>5</td>\n",
       "      <td>Port Moresby Jacksons Intl</td>\n",
       "      <td>Port Moresby</td>\n",
       "      <td>Papua New Guinea</td>\n",
       "      <td>POM</td>\n",
       "      <td>AYPY</td>\n",
       "      <td>-9.443383</td>\n",
       "      <td>147.220050</td>\n",
       "      <td>146</td>\n",
       "      <td>10.0</td>\n",
       "      <td>U</td>\n",
       "      <td>Pacific/Port_Moresby</td>\n",
       "    </tr>\n",
       "    <tr>\n",
       "      <th>5</th>\n",
       "      <td>6</td>\n",
       "      <td>Wewak Intl</td>\n",
       "      <td>Wewak</td>\n",
       "      <td>Papua New Guinea</td>\n",
       "      <td>WWK</td>\n",
       "      <td>AYWK</td>\n",
       "      <td>-3.583828</td>\n",
       "      <td>143.669186</td>\n",
       "      <td>19</td>\n",
       "      <td>10.0</td>\n",
       "      <td>U</td>\n",
       "      <td>Pacific/Port_Moresby</td>\n",
       "    </tr>\n",
       "    <tr>\n",
       "      <th>6</th>\n",
       "      <td>7</td>\n",
       "      <td>Narsarsuaq</td>\n",
       "      <td>Narssarssuaq</td>\n",
       "      <td>Greenland</td>\n",
       "      <td>UAK</td>\n",
       "      <td>BGBW</td>\n",
       "      <td>61.160517</td>\n",
       "      <td>-45.425978</td>\n",
       "      <td>112</td>\n",
       "      <td>-3.0</td>\n",
       "      <td>E</td>\n",
       "      <td>America/Godthab</td>\n",
       "    </tr>\n",
       "    <tr>\n",
       "      <th>7</th>\n",
       "      <td>8</td>\n",
       "      <td>Nuuk</td>\n",
       "      <td>Godthaab</td>\n",
       "      <td>Greenland</td>\n",
       "      <td>GOH</td>\n",
       "      <td>BGGH</td>\n",
       "      <td>64.190922</td>\n",
       "      <td>-51.678064</td>\n",
       "      <td>283</td>\n",
       "      <td>-3.0</td>\n",
       "      <td>E</td>\n",
       "      <td>America/Godthab</td>\n",
       "    </tr>\n",
       "    <tr>\n",
       "      <th>8</th>\n",
       "      <td>9</td>\n",
       "      <td>Sondre Stromfjord</td>\n",
       "      <td>Sondrestrom</td>\n",
       "      <td>Greenland</td>\n",
       "      <td>SFJ</td>\n",
       "      <td>BGSF</td>\n",
       "      <td>67.016969</td>\n",
       "      <td>-50.689325</td>\n",
       "      <td>165</td>\n",
       "      <td>-3.0</td>\n",
       "      <td>E</td>\n",
       "      <td>America/Godthab</td>\n",
       "    </tr>\n",
       "    <tr>\n",
       "      <th>9</th>\n",
       "      <td>10</td>\n",
       "      <td>Thule Air Base</td>\n",
       "      <td>Thule</td>\n",
       "      <td>Greenland</td>\n",
       "      <td>THU</td>\n",
       "      <td>BGTL</td>\n",
       "      <td>76.531203</td>\n",
       "      <td>-68.703161</td>\n",
       "      <td>251</td>\n",
       "      <td>-4.0</td>\n",
       "      <td>E</td>\n",
       "      <td>America/Thule</td>\n",
       "    </tr>\n",
       "  </tbody>\n",
       "</table>\n",
       "</div>"
      ],
      "text/plain": [
       "   airport_id                airport_name  airport_city   airport_country  \\\n",
       "0           1                      Goroka        Goroka  Papua New Guinea   \n",
       "1           2                      Madang        Madang  Papua New Guinea   \n",
       "2           3                 Mount Hagen   Mount Hagen  Papua New Guinea   \n",
       "3           4                      Nadzab        Nadzab  Papua New Guinea   \n",
       "4           5  Port Moresby Jacksons Intl  Port Moresby  Papua New Guinea   \n",
       "5           6                  Wewak Intl         Wewak  Papua New Guinea   \n",
       "6           7                  Narsarsuaq  Narssarssuaq         Greenland   \n",
       "7           8                        Nuuk      Godthaab         Greenland   \n",
       "8           9           Sondre Stromfjord   Sondrestrom         Greenland   \n",
       "9          10              Thule Air Base         Thule         Greenland   \n",
       "\n",
       "  airprot_iata_faa airport_icao   latitude   longitude  altitude  timezone  \\\n",
       "0              GKA         AYGA  -6.081689  145.391881      5282      10.0   \n",
       "1              MAG         AYMD  -5.207083  145.788700        20      10.0   \n",
       "2              HGU         AYMH  -5.826789  144.295861      5388      10.0   \n",
       "3              LAE         AYNZ  -6.569828  146.726242       239      10.0   \n",
       "4              POM         AYPY  -9.443383  147.220050       146      10.0   \n",
       "5              WWK         AYWK  -3.583828  143.669186        19      10.0   \n",
       "6              UAK         BGBW  61.160517  -45.425978       112      -3.0   \n",
       "7              GOH         BGGH  64.190922  -51.678064       283      -3.0   \n",
       "8              SFJ         BGSF  67.016969  -50.689325       165      -3.0   \n",
       "9              THU         BGTL  76.531203  -68.703161       251      -4.0   \n",
       "\n",
       "  dst                    tz  \n",
       "0   U  Pacific/Port_Moresby  \n",
       "1   U  Pacific/Port_Moresby  \n",
       "2   U  Pacific/Port_Moresby  \n",
       "3   U  Pacific/Port_Moresby  \n",
       "4   U  Pacific/Port_Moresby  \n",
       "5   U  Pacific/Port_Moresby  \n",
       "6   E       America/Godthab  \n",
       "7   E       America/Godthab  \n",
       "8   E       America/Godthab  \n",
       "9   E         America/Thule  "
      ]
     },
     "execution_count": 28,
     "metadata": {},
     "output_type": "execute_result"
    }
   ],
   "source": [
    "# Output airports_df\n",
    "airports_df.head(10)"
   ]
  },
  {
   "cell_type": "code",
   "execution_count": 29,
   "metadata": {
    "deletable": false,
    "editable": false,
    "nbgrader": {
     "checksum": "0b0b14ced6b2bfc76ce22755dfd0ea7a",
     "grade": false,
     "grade_id": "airlines_head1",
     "locked": true,
     "schema_version": 1,
     "solution": false
    }
   },
   "outputs": [
    {
     "data": {
      "text/html": [
       "<div>\n",
       "<style scoped>\n",
       "    .dataframe tbody tr th:only-of-type {\n",
       "        vertical-align: middle;\n",
       "    }\n",
       "\n",
       "    .dataframe tbody tr th {\n",
       "        vertical-align: top;\n",
       "    }\n",
       "\n",
       "    .dataframe thead th {\n",
       "        text-align: right;\n",
       "    }\n",
       "</style>\n",
       "<table border=\"1\" class=\"dataframe\">\n",
       "  <thead>\n",
       "    <tr style=\"text-align: right;\">\n",
       "      <th></th>\n",
       "      <th>airline_id</th>\n",
       "      <th>airline_name</th>\n",
       "      <th>alias</th>\n",
       "      <th>airline_iata</th>\n",
       "      <th>airline_icao</th>\n",
       "      <th>airline_callsign</th>\n",
       "      <th>airline_country</th>\n",
       "      <th>active</th>\n",
       "    </tr>\n",
       "  </thead>\n",
       "  <tbody>\n",
       "    <tr>\n",
       "      <th>0</th>\n",
       "      <td>1</td>\n",
       "      <td>Private flight</td>\n",
       "      <td>\\N</td>\n",
       "      <td>-</td>\n",
       "      <td>NaN</td>\n",
       "      <td>NaN</td>\n",
       "      <td>NaN</td>\n",
       "      <td>Y</td>\n",
       "    </tr>\n",
       "    <tr>\n",
       "      <th>1</th>\n",
       "      <td>2</td>\n",
       "      <td>135 Airways</td>\n",
       "      <td>\\N</td>\n",
       "      <td>NaN</td>\n",
       "      <td>GNL</td>\n",
       "      <td>GENERAL</td>\n",
       "      <td>United States</td>\n",
       "      <td>N</td>\n",
       "    </tr>\n",
       "    <tr>\n",
       "      <th>2</th>\n",
       "      <td>3</td>\n",
       "      <td>1Time Airline</td>\n",
       "      <td>\\N</td>\n",
       "      <td>1T</td>\n",
       "      <td>RNX</td>\n",
       "      <td>NEXTIME</td>\n",
       "      <td>South Africa</td>\n",
       "      <td>Y</td>\n",
       "    </tr>\n",
       "    <tr>\n",
       "      <th>3</th>\n",
       "      <td>4</td>\n",
       "      <td>2 Sqn No 1 Elementary Flying Training School</td>\n",
       "      <td>\\N</td>\n",
       "      <td>NaN</td>\n",
       "      <td>WYT</td>\n",
       "      <td>NaN</td>\n",
       "      <td>United Kingdom</td>\n",
       "      <td>N</td>\n",
       "    </tr>\n",
       "    <tr>\n",
       "      <th>4</th>\n",
       "      <td>5</td>\n",
       "      <td>213 Flight Unit</td>\n",
       "      <td>\\N</td>\n",
       "      <td>NaN</td>\n",
       "      <td>TFU</td>\n",
       "      <td>NaN</td>\n",
       "      <td>Russia</td>\n",
       "      <td>N</td>\n",
       "    </tr>\n",
       "    <tr>\n",
       "      <th>5</th>\n",
       "      <td>6</td>\n",
       "      <td>223 Flight Unit State Airline</td>\n",
       "      <td>\\N</td>\n",
       "      <td>NaN</td>\n",
       "      <td>CHD</td>\n",
       "      <td>CHKALOVSK-AVIA</td>\n",
       "      <td>Russia</td>\n",
       "      <td>N</td>\n",
       "    </tr>\n",
       "    <tr>\n",
       "      <th>6</th>\n",
       "      <td>7</td>\n",
       "      <td>224th Flight Unit</td>\n",
       "      <td>\\N</td>\n",
       "      <td>NaN</td>\n",
       "      <td>TTF</td>\n",
       "      <td>CARGO UNIT</td>\n",
       "      <td>Russia</td>\n",
       "      <td>N</td>\n",
       "    </tr>\n",
       "    <tr>\n",
       "      <th>7</th>\n",
       "      <td>8</td>\n",
       "      <td>247 Jet Ltd</td>\n",
       "      <td>\\N</td>\n",
       "      <td>NaN</td>\n",
       "      <td>TWF</td>\n",
       "      <td>CLOUD RUNNER</td>\n",
       "      <td>United Kingdom</td>\n",
       "      <td>N</td>\n",
       "    </tr>\n",
       "    <tr>\n",
       "      <th>8</th>\n",
       "      <td>9</td>\n",
       "      <td>3D Aviation</td>\n",
       "      <td>\\N</td>\n",
       "      <td>NaN</td>\n",
       "      <td>SEC</td>\n",
       "      <td>SECUREX</td>\n",
       "      <td>United States</td>\n",
       "      <td>N</td>\n",
       "    </tr>\n",
       "    <tr>\n",
       "      <th>9</th>\n",
       "      <td>10</td>\n",
       "      <td>40-Mile Air</td>\n",
       "      <td>\\N</td>\n",
       "      <td>Q5</td>\n",
       "      <td>MLA</td>\n",
       "      <td>MILE-AIR</td>\n",
       "      <td>United States</td>\n",
       "      <td>Y</td>\n",
       "    </tr>\n",
       "  </tbody>\n",
       "</table>\n",
       "</div>"
      ],
      "text/plain": [
       "   airline_id                                  airline_name alias  \\\n",
       "0           1                                Private flight    \\N   \n",
       "1           2                                   135 Airways    \\N   \n",
       "2           3                                 1Time Airline    \\N   \n",
       "3           4  2 Sqn No 1 Elementary Flying Training School    \\N   \n",
       "4           5                               213 Flight Unit    \\N   \n",
       "5           6                 223 Flight Unit State Airline    \\N   \n",
       "6           7                             224th Flight Unit    \\N   \n",
       "7           8                                   247 Jet Ltd    \\N   \n",
       "8           9                                   3D Aviation    \\N   \n",
       "9          10                                   40-Mile Air    \\N   \n",
       "\n",
       "  airline_iata airline_icao airline_callsign airline_country active  \n",
       "0            -          NaN              NaN             NaN      Y  \n",
       "1          NaN          GNL          GENERAL   United States      N  \n",
       "2           1T          RNX          NEXTIME    South Africa      Y  \n",
       "3          NaN          WYT              NaN  United Kingdom      N  \n",
       "4          NaN          TFU              NaN          Russia      N  \n",
       "5          NaN          CHD   CHKALOVSK-AVIA          Russia      N  \n",
       "6          NaN          TTF       CARGO UNIT          Russia      N  \n",
       "7          NaN          TWF     CLOUD RUNNER  United Kingdom      N  \n",
       "8          NaN          SEC          SECUREX   United States      N  \n",
       "9           Q5          MLA         MILE-AIR   United States      Y  "
      ]
     },
     "execution_count": 29,
     "metadata": {},
     "output_type": "execute_result"
    }
   ],
   "source": [
    "# Output airlines_df\n",
    "airlines_df.head(10)"
   ]
  },
  {
   "cell_type": "code",
   "execution_count": 30,
   "metadata": {
    "deletable": false,
    "editable": false,
    "nbgrader": {
     "checksum": "10f5e6bb1a56bf86cdfc74117076b99b",
     "grade": false,
     "grade_id": "routes_head1",
     "locked": true,
     "schema_version": 1,
     "solution": false
    }
   },
   "outputs": [
    {
     "data": {
      "text/html": [
       "<div>\n",
       "<style scoped>\n",
       "    .dataframe tbody tr th:only-of-type {\n",
       "        vertical-align: middle;\n",
       "    }\n",
       "\n",
       "    .dataframe tbody tr th {\n",
       "        vertical-align: top;\n",
       "    }\n",
       "\n",
       "    .dataframe thead th {\n",
       "        text-align: right;\n",
       "    }\n",
       "</style>\n",
       "<table border=\"1\" class=\"dataframe\">\n",
       "  <thead>\n",
       "    <tr style=\"text-align: right;\">\n",
       "      <th></th>\n",
       "      <th>airline_iata_icao</th>\n",
       "      <th>airline_id</th>\n",
       "      <th>src_iata_icao</th>\n",
       "      <th>source_id</th>\n",
       "      <th>target_iata_icao</th>\n",
       "      <th>target_id</th>\n",
       "      <th>code_share</th>\n",
       "      <th>stops</th>\n",
       "      <th>equipment</th>\n",
       "    </tr>\n",
       "  </thead>\n",
       "  <tbody>\n",
       "    <tr>\n",
       "      <th>0</th>\n",
       "      <td>2B</td>\n",
       "      <td>410</td>\n",
       "      <td>AER</td>\n",
       "      <td>2965</td>\n",
       "      <td>KZN</td>\n",
       "      <td>2990</td>\n",
       "      <td>NaN</td>\n",
       "      <td>0</td>\n",
       "      <td>CR2</td>\n",
       "    </tr>\n",
       "    <tr>\n",
       "      <th>1</th>\n",
       "      <td>2B</td>\n",
       "      <td>410</td>\n",
       "      <td>ASF</td>\n",
       "      <td>2966</td>\n",
       "      <td>KZN</td>\n",
       "      <td>2990</td>\n",
       "      <td>NaN</td>\n",
       "      <td>0</td>\n",
       "      <td>CR2</td>\n",
       "    </tr>\n",
       "    <tr>\n",
       "      <th>2</th>\n",
       "      <td>2B</td>\n",
       "      <td>410</td>\n",
       "      <td>ASF</td>\n",
       "      <td>2966</td>\n",
       "      <td>MRV</td>\n",
       "      <td>2962</td>\n",
       "      <td>NaN</td>\n",
       "      <td>0</td>\n",
       "      <td>CR2</td>\n",
       "    </tr>\n",
       "    <tr>\n",
       "      <th>3</th>\n",
       "      <td>2B</td>\n",
       "      <td>410</td>\n",
       "      <td>CEK</td>\n",
       "      <td>2968</td>\n",
       "      <td>KZN</td>\n",
       "      <td>2990</td>\n",
       "      <td>NaN</td>\n",
       "      <td>0</td>\n",
       "      <td>CR2</td>\n",
       "    </tr>\n",
       "    <tr>\n",
       "      <th>4</th>\n",
       "      <td>2B</td>\n",
       "      <td>410</td>\n",
       "      <td>CEK</td>\n",
       "      <td>2968</td>\n",
       "      <td>OVB</td>\n",
       "      <td>4078</td>\n",
       "      <td>NaN</td>\n",
       "      <td>0</td>\n",
       "      <td>CR2</td>\n",
       "    </tr>\n",
       "    <tr>\n",
       "      <th>5</th>\n",
       "      <td>2B</td>\n",
       "      <td>410</td>\n",
       "      <td>DME</td>\n",
       "      <td>4029</td>\n",
       "      <td>KZN</td>\n",
       "      <td>2990</td>\n",
       "      <td>NaN</td>\n",
       "      <td>0</td>\n",
       "      <td>CR2</td>\n",
       "    </tr>\n",
       "    <tr>\n",
       "      <th>6</th>\n",
       "      <td>2B</td>\n",
       "      <td>410</td>\n",
       "      <td>DME</td>\n",
       "      <td>4029</td>\n",
       "      <td>NBC</td>\n",
       "      <td>6969</td>\n",
       "      <td>NaN</td>\n",
       "      <td>0</td>\n",
       "      <td>CR2</td>\n",
       "    </tr>\n",
       "    <tr>\n",
       "      <th>7</th>\n",
       "      <td>2B</td>\n",
       "      <td>410</td>\n",
       "      <td>DME</td>\n",
       "      <td>4029</td>\n",
       "      <td>TGK</td>\n",
       "      <td>\\N</td>\n",
       "      <td>NaN</td>\n",
       "      <td>0</td>\n",
       "      <td>CR2</td>\n",
       "    </tr>\n",
       "    <tr>\n",
       "      <th>8</th>\n",
       "      <td>2B</td>\n",
       "      <td>410</td>\n",
       "      <td>DME</td>\n",
       "      <td>4029</td>\n",
       "      <td>UUA</td>\n",
       "      <td>6160</td>\n",
       "      <td>NaN</td>\n",
       "      <td>0</td>\n",
       "      <td>CR2</td>\n",
       "    </tr>\n",
       "    <tr>\n",
       "      <th>9</th>\n",
       "      <td>2B</td>\n",
       "      <td>410</td>\n",
       "      <td>EGO</td>\n",
       "      <td>6156</td>\n",
       "      <td>KGD</td>\n",
       "      <td>2952</td>\n",
       "      <td>NaN</td>\n",
       "      <td>0</td>\n",
       "      <td>CR2</td>\n",
       "    </tr>\n",
       "  </tbody>\n",
       "</table>\n",
       "</div>"
      ],
      "text/plain": [
       "  airline_iata_icao airline_id src_iata_icao source_id target_iata_icao  \\\n",
       "0                2B        410           AER      2965              KZN   \n",
       "1                2B        410           ASF      2966              KZN   \n",
       "2                2B        410           ASF      2966              MRV   \n",
       "3                2B        410           CEK      2968              KZN   \n",
       "4                2B        410           CEK      2968              OVB   \n",
       "5                2B        410           DME      4029              KZN   \n",
       "6                2B        410           DME      4029              NBC   \n",
       "7                2B        410           DME      4029              TGK   \n",
       "8                2B        410           DME      4029              UUA   \n",
       "9                2B        410           EGO      6156              KGD   \n",
       "\n",
       "  target_id code_share  stops equipment  \n",
       "0      2990        NaN      0       CR2  \n",
       "1      2990        NaN      0       CR2  \n",
       "2      2962        NaN      0       CR2  \n",
       "3      2990        NaN      0       CR2  \n",
       "4      4078        NaN      0       CR2  \n",
       "5      2990        NaN      0       CR2  \n",
       "6      6969        NaN      0       CR2  \n",
       "7        \\N        NaN      0       CR2  \n",
       "8      6160        NaN      0       CR2  \n",
       "9      2952        NaN      0       CR2  "
      ]
     },
     "execution_count": 30,
     "metadata": {},
     "output_type": "execute_result"
    }
   ],
   "source": [
    "# Output routes_df\n",
    "routes_df.head(10)"
   ]
  },
  {
   "cell_type": "code",
   "execution_count": 31,
   "metadata": {
    "deletable": false,
    "editable": false,
    "nbgrader": {
     "checksum": "4e905f7a05cf2fb76fc845089db62c2a",
     "grade": false,
     "grade_id": "flights_head1",
     "locked": true,
     "schema_version": 1,
     "solution": false
    }
   },
   "outputs": [
    {
     "data": {
      "text/html": [
       "<div>\n",
       "<style scoped>\n",
       "    .dataframe tbody tr th:only-of-type {\n",
       "        vertical-align: middle;\n",
       "    }\n",
       "\n",
       "    .dataframe tbody tr th {\n",
       "        vertical-align: top;\n",
       "    }\n",
       "\n",
       "    .dataframe thead th {\n",
       "        text-align: right;\n",
       "    }\n",
       "</style>\n",
       "<table border=\"1\" class=\"dataframe\">\n",
       "  <thead>\n",
       "    <tr style=\"text-align: right;\">\n",
       "      <th></th>\n",
       "      <th>year</th>\n",
       "      <th>month</th>\n",
       "      <th>day_of_month</th>\n",
       "      <th>carrier</th>\n",
       "      <th>fl_num</th>\n",
       "      <th>flight_src</th>\n",
       "      <th>flight_target</th>\n",
       "      <th>arr_delay_new</th>\n",
       "      <th>cancelled</th>\n",
       "    </tr>\n",
       "  </thead>\n",
       "  <tbody>\n",
       "    <tr>\n",
       "      <th>0</th>\n",
       "      <td>2018</td>\n",
       "      <td>1</td>\n",
       "      <td>2</td>\n",
       "      <td>WN</td>\n",
       "      <td>1325</td>\n",
       "      <td>SJU</td>\n",
       "      <td>MCO</td>\n",
       "      <td>0.0</td>\n",
       "      <td>0.0</td>\n",
       "    </tr>\n",
       "    <tr>\n",
       "      <th>1</th>\n",
       "      <td>2018</td>\n",
       "      <td>1</td>\n",
       "      <td>2</td>\n",
       "      <td>WN</td>\n",
       "      <td>5159</td>\n",
       "      <td>SJU</td>\n",
       "      <td>MCO</td>\n",
       "      <td>0.0</td>\n",
       "      <td>0.0</td>\n",
       "    </tr>\n",
       "    <tr>\n",
       "      <th>2</th>\n",
       "      <td>2018</td>\n",
       "      <td>1</td>\n",
       "      <td>2</td>\n",
       "      <td>WN</td>\n",
       "      <td>5890</td>\n",
       "      <td>SJU</td>\n",
       "      <td>MCO</td>\n",
       "      <td>9.0</td>\n",
       "      <td>0.0</td>\n",
       "    </tr>\n",
       "    <tr>\n",
       "      <th>3</th>\n",
       "      <td>2018</td>\n",
       "      <td>1</td>\n",
       "      <td>2</td>\n",
       "      <td>WN</td>\n",
       "      <td>6618</td>\n",
       "      <td>SJU</td>\n",
       "      <td>MCO</td>\n",
       "      <td>0.0</td>\n",
       "      <td>0.0</td>\n",
       "    </tr>\n",
       "    <tr>\n",
       "      <th>4</th>\n",
       "      <td>2018</td>\n",
       "      <td>1</td>\n",
       "      <td>2</td>\n",
       "      <td>WN</td>\n",
       "      <td>1701</td>\n",
       "      <td>SJU</td>\n",
       "      <td>MDW</td>\n",
       "      <td>8.0</td>\n",
       "      <td>0.0</td>\n",
       "    </tr>\n",
       "    <tr>\n",
       "      <th>5</th>\n",
       "      <td>2018</td>\n",
       "      <td>1</td>\n",
       "      <td>2</td>\n",
       "      <td>WN</td>\n",
       "      <td>844</td>\n",
       "      <td>SJU</td>\n",
       "      <td>TPA</td>\n",
       "      <td>23.0</td>\n",
       "      <td>0.0</td>\n",
       "    </tr>\n",
       "    <tr>\n",
       "      <th>6</th>\n",
       "      <td>2018</td>\n",
       "      <td>1</td>\n",
       "      <td>2</td>\n",
       "      <td>WN</td>\n",
       "      <td>4679</td>\n",
       "      <td>SJU</td>\n",
       "      <td>TPA</td>\n",
       "      <td>0.0</td>\n",
       "      <td>0.0</td>\n",
       "    </tr>\n",
       "    <tr>\n",
       "      <th>7</th>\n",
       "      <td>2018</td>\n",
       "      <td>1</td>\n",
       "      <td>2</td>\n",
       "      <td>WN</td>\n",
       "      <td>6294</td>\n",
       "      <td>SLC</td>\n",
       "      <td>BUR</td>\n",
       "      <td>20.0</td>\n",
       "      <td>0.0</td>\n",
       "    </tr>\n",
       "    <tr>\n",
       "      <th>8</th>\n",
       "      <td>2018</td>\n",
       "      <td>1</td>\n",
       "      <td>2</td>\n",
       "      <td>WN</td>\n",
       "      <td>5245</td>\n",
       "      <td>SLC</td>\n",
       "      <td>DAL</td>\n",
       "      <td>0.0</td>\n",
       "      <td>0.0</td>\n",
       "    </tr>\n",
       "    <tr>\n",
       "      <th>9</th>\n",
       "      <td>2018</td>\n",
       "      <td>1</td>\n",
       "      <td>2</td>\n",
       "      <td>WN</td>\n",
       "      <td>2278</td>\n",
       "      <td>SLC</td>\n",
       "      <td>DEN</td>\n",
       "      <td>0.0</td>\n",
       "      <td>0.0</td>\n",
       "    </tr>\n",
       "  </tbody>\n",
       "</table>\n",
       "</div>"
      ],
      "text/plain": [
       "   year  month  day_of_month carrier  fl_num flight_src flight_target  \\\n",
       "0  2018      1             2      WN    1325        SJU           MCO   \n",
       "1  2018      1             2      WN    5159        SJU           MCO   \n",
       "2  2018      1             2      WN    5890        SJU           MCO   \n",
       "3  2018      1             2      WN    6618        SJU           MCO   \n",
       "4  2018      1             2      WN    1701        SJU           MDW   \n",
       "5  2018      1             2      WN     844        SJU           TPA   \n",
       "6  2018      1             2      WN    4679        SJU           TPA   \n",
       "7  2018      1             2      WN    6294        SLC           BUR   \n",
       "8  2018      1             2      WN    5245        SLC           DAL   \n",
       "9  2018      1             2      WN    2278        SLC           DEN   \n",
       "\n",
       "   arr_delay_new  cancelled  \n",
       "0            0.0        0.0  \n",
       "1            0.0        0.0  \n",
       "2            9.0        0.0  \n",
       "3            0.0        0.0  \n",
       "4            8.0        0.0  \n",
       "5           23.0        0.0  \n",
       "6            0.0        0.0  \n",
       "7           20.0        0.0  \n",
       "8            0.0        0.0  \n",
       "9            0.0        0.0  "
      ]
     },
     "execution_count": 31,
     "metadata": {},
     "output_type": "execute_result"
    }
   ],
   "source": [
    "# Output flights_df\n",
    "flights_df.head(10)"
   ]
  },
  {
   "cell_type": "code",
   "execution_count": 32,
   "metadata": {},
   "outputs": [],
   "source": [
    "#flights_df.day_of_month.value_counts()"
   ]
  },
  {
   "cell_type": "code",
   "execution_count": 33,
   "metadata": {},
   "outputs": [],
   "source": [
    "#flights_df.groupby(['day_of_month','flight_src']).count()\n",
    "#flights_df.sort_values(['fl_num','day_of_month'], ascending=True) # numpy -> order"
   ]
  },
  {
   "cell_type": "markdown",
   "metadata": {
    "deletable": false,
    "editable": false,
    "nbgrader": {
     "checksum": "1bc105d044445c5f8506565649f96c2e",
     "grade": false,
     "grade_id": "step1-2",
     "locked": true,
     "schema_version": 1,
     "solution": false
    }
   },
   "source": [
    "## 1.2 Importing Text Data\n",
    "\n",
    "We are going to scrape data from the aircraft_incidents.htm webpage using the *beautifulsoup4* package. More details can be found in the documentation: https://www.crummy.com/software/BeautifulSoup/bs4/doc/.\n",
    "\n",
    "Run the code snippet that stores the web content in soup. Once the content is extracted, we need to get rid of the HTML tags and select the data we are going to be looking at. The data we need are the year and the description of the incidents under that year. It can be seen that the HTML tag (almost always) for the year is `<h3>` and for the incidents it is `<li>`. "
   ]
  },
  {
   "cell_type": "code",
   "execution_count": 34,
   "metadata": {
    "deletable": false,
    "editable": false,
    "nbgrader": {
     "checksum": "7f49971b74ea804404280362bd0fb367",
     "grade": false,
     "grade_id": "bs4",
     "locked": true,
     "schema_version": 1,
     "solution": false
    }
   },
   "outputs": [],
   "source": [
    "# bs4 is one of the packages frequently used for HTML parsing!\n",
    "# Just run this cell, but reading the bs4 docs will help later...\n",
    "\n",
    "from bs4 import BeautifulSoup\n",
    "input_html = \"aircraft_incidents.htm\"\n",
    "\n",
    "# Open file I/O\n",
    "with open(input_html, \"r\") as ifile:\n",
    "    # soup is the bs4 object \n",
    "    soup = BeautifulSoup(ifile, 'html.parser')"
   ]
  },
  {
   "cell_type": "code",
   "execution_count": 1,
   "metadata": {},
   "outputs": [],
   "source": [
    "# file = requests.get(\"http://localhost:8888/view/hw1/aircraft_incidents.htm\").content\n",
    "# fi = BeautifulSoup(file)\n",
    "# fi\n",
    "# soup"
   ]
  },
  {
   "cell_type": "markdown",
   "metadata": {
    "deletable": false,
    "editable": false,
    "nbgrader": {
     "checksum": "f882bb5735977ed872198b5a13a8ad44",
     "grade": false,
     "grade_id": "bs4_findall",
     "locked": true,
     "schema_version": 1,
     "solution": false
    }
   },
   "source": [
    "Using beautifulsoup4’s `find_all`(list of tags) function, only select the content under those HTML tags. Store the data in a list of strings called `selected_data`, where each year or incident description is a separate string in the list. "
   ]
  },
  {
   "cell_type": "code",
   "execution_count": 36,
   "metadata": {},
   "outputs": [],
   "source": [
    "soup_tag = soup.find_all(['h3','li']) #h3: year, li: description"
   ]
  },
  {
   "cell_type": "code",
   "execution_count": 2,
   "metadata": {
    "deletable": false,
    "nbgrader": {
     "checksum": "b684c1663ba6f81aaf73f03fdcf51fe5",
     "grade": false,
     "grade_id": "selected_data",
     "locked": false,
     "schema_version": 1,
     "solution": true
    }
   },
   "outputs": [
    {
     "ename": "NameError",
     "evalue": "name 'soup_tag' is not defined",
     "output_type": "error",
     "traceback": [
      "\u001b[0;31m\u001b[0m",
      "\u001b[0;31mNameError\u001b[0mTraceback (most recent call last)",
      "\u001b[0;32m<ipython-input-2-8aa593162ae7>\u001b[0m in \u001b[0;36m<module>\u001b[0;34m\u001b[0m\n\u001b[1;32m      9\u001b[0m \u001b[0;31m#     selected_data.append(soup_tag[i])\u001b[0m\u001b[0;34m\u001b[0m\u001b[0;34m\u001b[0m\u001b[0;34m\u001b[0m\u001b[0m\n\u001b[1;32m     10\u001b[0m \u001b[0;31m## does every element in the list need to be a list?\u001b[0m\u001b[0;34m\u001b[0m\u001b[0;34m\u001b[0m\u001b[0;34m\u001b[0m\u001b[0m\n\u001b[0;32m---> 11\u001b[0;31m \u001b[0;32mfor\u001b[0m \u001b[0mitem\u001b[0m \u001b[0;32min\u001b[0m \u001b[0msoup_tag\u001b[0m\u001b[0;34m:\u001b[0m\u001b[0;34m\u001b[0m\u001b[0;34m\u001b[0m\u001b[0m\n\u001b[0m\u001b[1;32m     12\u001b[0m     \u001b[0mselected_data\u001b[0m\u001b[0;34m.\u001b[0m\u001b[0mappend\u001b[0m\u001b[0;34m(\u001b[0m\u001b[0mitem\u001b[0m\u001b[0;34m.\u001b[0m\u001b[0mget_text\u001b[0m\u001b[0;34m(\u001b[0m\u001b[0;34m)\u001b[0m\u001b[0;34m)\u001b[0m\u001b[0;34m\u001b[0m\u001b[0;34m\u001b[0m\u001b[0m\n\u001b[1;32m     13\u001b[0m \u001b[0;34m\u001b[0m\u001b[0m\n",
      "\u001b[0;31mNameError\u001b[0m: name 'soup_tag' is not defined"
     ]
    }
   ],
   "source": [
    "# TODO: Select Year and Incident description. It can be seen that they are usually\n",
    "# <h3> or <li> tags.\n",
    "\n",
    "# Assign the results to variable selected_data. \n",
    "selected_data = [] # Fill this in with your code after!\n",
    "\n",
    "# YOUR CODE HERE\n",
    "# for i in range(0,len(soup_tag)):\n",
    "#     selected_data.append(soup_tag[i])\n",
    "## does every element in the list need to be a list?\n",
    "for item in soup_tag:\n",
    "    selected_data.append(item.get_text())\n",
    "    \n",
    "print(selected_data)"
   ]
  },
  {
   "cell_type": "code",
   "execution_count": 38,
   "metadata": {
    "deletable": false,
    "editable": false,
    "nbgrader": {
     "checksum": "a3ee24655f43988da69fb9c7ed3b1c33",
     "grade": true,
     "grade_id": "test_selected1",
     "locked": true,
     "points": 1,
     "schema_version": 1,
     "solution": false
    }
   },
   "outputs": [
    {
     "name": "stdout",
     "output_type": "stream",
     "text": [
      "[CIS 545 Test Cases] (1 pt)\n"
     ]
    }
   ],
   "source": [
    "# [CIS 545 Test Cases] (1 pt)\n",
    "# Basic checks on selected_data\n",
    "\n",
    "if (not type(selected_data) is list):\n",
    "    raise ValueError('''For efficiency, please \n",
    "    store selected_data as list''')\n",
    "    \n",
    "if (len(selected_data) < 1570 or len(selected_data) > 1585):\n",
    "    raise ValueError(\"Don't have the expected number of entries\")\n",
    "    \n",
    "\n",
    "print('[CIS 545 Test Cases] (1 pt)')"
   ]
  },
  {
   "cell_type": "code",
   "execution_count": 39,
   "metadata": {
    "deletable": false,
    "editable": false,
    "nbgrader": {
     "checksum": "0e30165a68caedbf57a5a98bac08bc37",
     "grade": true,
     "grade_id": "test_selected2",
     "locked": true,
     "points": 2,
     "schema_version": 1,
     "solution": false
    }
   },
   "outputs": [
    {
     "name": "stdout",
     "output_type": "stream",
     "text": [
      "[CIS 545 Test Cases] (2 pts)\n"
     ]
    }
   ],
   "source": [
    "# [CIS 545 Test Cases] (2 pts)\n",
    "# Checking selected_data more rigorously\n",
    "\n",
    "\n",
    "print('[CIS 545 Test Cases] (2 pts)')"
   ]
  },
  {
   "cell_type": "code",
   "execution_count": 40,
   "metadata": {
    "deletable": false,
    "editable": false,
    "nbgrader": {
     "checksum": "51b5208b342fe481462be1770eb68a40",
     "grade": true,
     "grade_id": "test_selected3",
     "locked": true,
     "points": 2,
     "schema_version": 1,
     "solution": false
    }
   },
   "outputs": [
    {
     "name": "stdout",
     "output_type": "stream",
     "text": [
      "[CIS 545 Test Cases] (2 pts)\n"
     ]
    }
   ],
   "source": [
    "# [CIS 545 Test Cases] (2 pts)\n",
    "# Checking selected_data more rigorously\n",
    "\n",
    "\n",
    "print('[CIS 545 Test Cases] (2 pts)')"
   ]
  },
  {
   "cell_type": "markdown",
   "metadata": {
    "deletable": false,
    "editable": false,
    "nbgrader": {
     "checksum": "bd596ec29cee44acd4b6d7966cc43f74",
     "grade": false,
     "grade_id": "html_tags",
     "locked": true,
     "schema_version": 1,
     "solution": false
    }
   },
   "source": [
    "Finally, check if all the HTML tags have been removed. Output the message 'No Tag Found!’, if successful."
   ]
  },
  {
   "cell_type": "code",
   "execution_count": 41,
   "metadata": {
    "deletable": false,
    "nbgrader": {
     "checksum": "2164eb0742d6c27527ea2b19ceb1ee1e",
     "grade": false,
     "grade_id": "remove_html",
     "locked": false,
     "schema_version": 1,
     "solution": true
    }
   },
   "outputs": [
    {
     "name": "stdout",
     "output_type": "stream",
     "text": [
      "No Tag Found!\n"
     ]
    }
   ],
   "source": [
    "# TODO: Check if all tags have been removed\n",
    "# Output 'No Tag Found!' if no tags\n",
    "\n",
    "# YOUR CODE HERE\n",
    "if(('<' and '>' not in selected_data) == True):\n",
    "    print('No Tag Found!')\n",
    "else:\n",
    "    print('Tag Found!')\n",
    "#len(selected_data)\n"
   ]
  },
  {
   "cell_type": "code",
   "execution_count": 42,
   "metadata": {
    "deletable": false,
    "editable": false,
    "nbgrader": {
     "checksum": "6f3f751a65be47a95a2fcd3d73e08abf",
     "grade": true,
     "grade_id": "test_html1",
     "locked": true,
     "points": 2,
     "schema_version": 1,
     "solution": false
    }
   },
   "outputs": [
    {
     "name": "stdout",
     "output_type": "stream",
     "text": [
      "[CIS 545 Test Cases] (2 pts)\n"
     ]
    }
   ],
   "source": [
    "# [CIS 545 Test Cases] (2 pts)\n",
    "# Checking HTML cleaning\n",
    "\n",
    "\n",
    "print('[CIS 545 Test Cases] (2 pts)')"
   ]
  },
  {
   "cell_type": "code",
   "execution_count": 43,
   "metadata": {
    "deletable": false,
    "editable": false,
    "nbgrader": {
     "checksum": "a540839a63a74cad3fadf1b4818d1a49",
     "grade": false,
     "grade_id": "view_selected",
     "locked": true,
     "schema_version": 1,
     "solution": false
    }
   },
   "outputs": [
    {
     "data": {
      "text/plain": [
       "['1919[edit]',\n",
       " 'July 21 – The Goodyear dirigible Wingfoot Air Express catches fire and crashes into the Illinois Trust and Savings Building in Chicago, Illinois, while carrying passengers to a local amusement park, killing thirteen people: three out of the five on board and ten others on the ground, with 27 others on the ground being injured.',\n",
       " 'August 2 – A Caproni Ca.48 crashes at Verona, Italy, during a flight from Venice to Taliedo, Milan, killing all on board (14, 15, or 17 people, according to different sources).',\n",
       " '1920[edit]',\n",
       " 'December 14 – A Handley Page Transport Handley Page O/400 hits a tree and crashes at Golders Green, London, after failing to gain height following takeoff, killing four out of eight on board.',\n",
       " '1922[edit]',\n",
       " 'April 7 – In the first mid-air collision of airliners, a de Havilland DH.18A, G-EAWO, operated by Daimler Hire Ltd., collides with a Farman F.60 Goliath, F-GEAD, operated by Compagnie des Grands Express Aériens (CGEA), over the Thieulloy-St. Antoine road near Picardie, France, killing all seven people on both aircraft.',\n",
       " '1923[edit]',\n",
       " 'May 14 – An Air Union Farman F.60 Goliath crashes near Monsures, Somme, France, due to the structural failure of a wing, killing all six on board.',\n",
       " 'August 27 – An Air Union Farman F.60 Goliath crashes near East Malling, Kent, England, due to engine failure, and confusion among the passengers, killing one of 13 on board.',\n",
       " 'September 14 – A Daimler Airway de Havilland DH.34 crashes at Ivinghoe, Buckinghamshire, England, after stalling while attempting an emergency landing, killing all five on board.',\n",
       " '1924[edit]',\n",
       " 'December 24 – An Imperial Airways de Havilland DH.34 crashes near Purley, Surrey, England, due to a stall during an attempted emergency landing in response to an unknown mechanical defect, killing all eight on board.',\n",
       " '1926[edit]',\n",
       " 'August 18 – An Air Union Blériot 155 crashes while attempting an emergency landing at College Farm, Hurst, Aldington, England, due to engine failure, killing three of 15 on board; the pilot initially survives, but dies a day later.']"
      ]
     },
     "execution_count": 43,
     "metadata": {},
     "output_type": "execute_result"
    }
   ],
   "source": [
    "# View a slice of selected_data\n",
    "selected_data[:15]"
   ]
  },
  {
   "cell_type": "markdown",
   "metadata": {
    "deletable": false,
    "editable": false,
    "nbgrader": {
     "checksum": "b189c547bac334de57bd7b8400351b72",
     "grade": false,
     "grade_id": "overview_incidents",
     "locked": true,
     "schema_version": 1,
     "solution": false
    }
   },
   "source": [
    "Now we'd like you to save the results to a file called `incidents_raw.txt`.  You can use the file commands: `open`, `write`, and `close`.  Be sure to write a newline (`\\n`) after each line, so that later you can read the lines back."
   ]
  },
  {
   "cell_type": "code",
   "execution_count": 44,
   "metadata": {
    "deletable": false,
    "nbgrader": {
     "checksum": "c335ea7ba560d0b4363eac11be9c5edf",
     "grade": false,
     "grade_id": "incidents_raw",
     "locked": false,
     "schema_version": 1,
     "solution": true
    }
   },
   "outputs": [],
   "source": [
    "# TODO: Write selected_data to incidents_raw.txt\n",
    "\n",
    "# YOUR CODE HERE\n",
    "# data=selected_data[-500:]\n",
    "# data2\n",
    "# f = open('incidents_raw2.txt', 'w')\n",
    "# for item in data2:\n",
    "#     f.write(item)\n",
    "#     f.write('\\n')\n",
    "# f.close\n",
    "## 为什么用open就会最后一部分数据丢失\n",
    "\n",
    "with open('incidents_raw.txt', 'w') as f:\n",
    "    for item in selected_data:\n",
    "        f.write(item + '\\n')\n",
    "# with open('incidents_raw.txt', 'r') as f:\n",
    "#     print(f.read())"
   ]
  },
  {
   "cell_type": "code",
   "execution_count": 45,
   "metadata": {
    "deletable": false,
    "editable": false,
    "nbgrader": {
     "checksum": "6f7186860ce12010bffca90c81f214ef",
     "grade": true,
     "grade_id": "test_incidents",
     "locked": true,
     "points": 5,
     "schema_version": 1,
     "solution": false
    }
   },
   "outputs": [
    {
     "name": "stdout",
     "output_type": "stream",
     "text": [
      "[CIS 545 Test Cases] (5 pts)\n"
     ]
    }
   ],
   "source": [
    "# [CIS 545 Test Cases] (5 pts)\n",
    "# Checking incidents_raw processing - this is worth a lot!\n",
    "\n",
    "\n",
    "print('[CIS 545 Test Cases] (5 pts)')"
   ]
  },
  {
   "cell_type": "markdown",
   "metadata": {
    "deletable": false,
    "editable": false,
    "nbgrader": {
     "checksum": "52046ec767cda22ad3ea2f92601acddc",
     "grade": false,
     "grade_id": "step2",
     "locked": true,
     "schema_version": 1,
     "solution": false
    }
   },
   "source": [
    "## Step 2: Simple Data Cleaning\n",
    "\n",
    "Now we need to do some further cleaning to both the CSV and text data.\n",
    "\n",
    "(use Insert|Insert Cell Above or Insert Cell Below as needed to add further cells)"
   ]
  },
  {
   "cell_type": "markdown",
   "metadata": {
    "deletable": false,
    "editable": false,
    "nbgrader": {
     "checksum": "a95b66c5f1ee6f2749dde46b8a2b7dba",
     "grade": false,
     "grade_id": "step2-1",
     "locked": true,
     "schema_version": 1,
     "solution": false
    }
   },
   "source": [
    "## 2.1 Cleaning Tabular Data\n",
    "We are going to clean the `airlines_df`, `airports_df`, and `routes_df` DataFrames.  First, run a \"helper\" function we've defined for you."
   ]
  },
  {
   "cell_type": "code",
   "execution_count": 46,
   "metadata": {
    "deletable": false,
    "editable": false,
    "nbgrader": {
     "checksum": "8ed98ace6273fd666ebcd8e4efe8f6dd",
     "grade": false,
     "grade_id": "run_helper",
     "locked": true,
     "schema_version": 1,
     "solution": false
    }
   },
   "outputs": [],
   "source": [
    "# Replace NaNs with blanks if the column is a string\n",
    "# Everything should be of a consistent type\n",
    "def fillna_col(series):\n",
    "    if series.dtype is pd.np.dtype(object):\n",
    "        return series.fillna('')\n",
    "    else:\n",
    "        return series"
   ]
  },
  {
   "cell_type": "markdown",
   "metadata": {
    "deletable": false,
    "editable": false,
    "nbgrader": {
     "checksum": "9e9264c6c278958d1db149df2dcad36b",
     "grade": false,
     "grade_id": "overview_nullify",
     "locked": true,
     "schema_version": 1,
     "solution": false
    }
   },
   "source": [
    "Additionally, define a second function called `nullify` that takes a single parameter `x`. Given the parameter value `\\N` it returns `NaN`, otherwise it returns the value of the parameter."
   ]
  },
  {
   "cell_type": "code",
   "execution_count": 47,
   "metadata": {
    "deletable": false,
    "nbgrader": {
     "checksum": "3593d266e8e9e4622cb5e4915caa582b",
     "grade": false,
     "grade_id": "nullify",
     "locked": false,
     "schema_version": 1,
     "solution": true
    }
   },
   "outputs": [],
   "source": [
    "# TODO: Define nullify here\n",
    "\n",
    "# YOUR CODE HERE\n",
    "import numpy as np\n",
    "def nullify(x):\n",
    "    if x == r'\\N':\n",
    "        #x.fillna(NaN)\n",
    "        #print(x)\n",
    "        return np.NaN\n",
    "    else:\n",
    "        return x\n",
    "    \n",
    "## what does Given the parameter value \\N it returns NaN\n",
    "## 这里不知道对不对诶"
   ]
  },
  {
   "cell_type": "code",
   "execution_count": 48,
   "metadata": {},
   "outputs": [
    {
     "data": {
      "text/plain": [
       "dtype('O')"
      ]
     },
     "execution_count": 48,
     "metadata": {},
     "output_type": "execute_result"
    }
   ],
   "source": [
    "# if (nullify(r'\\N') != 'NaN'):\n",
    "#     raise ValueError(\"Nullify doesn't seem to work!\\n\")\n",
    "pd.np.dtype(object)"
   ]
  },
  {
   "cell_type": "code",
   "execution_count": 49,
   "metadata": {
    "deletable": false,
    "editable": false,
    "nbgrader": {
     "checksum": "0620848e16c060947480f70e31b736cd",
     "grade": true,
     "grade_id": "test_nullify1",
     "locked": true,
     "points": 2,
     "schema_version": 1,
     "solution": false
    }
   },
   "outputs": [
    {
     "name": "stdout",
     "output_type": "stream",
     "text": [
      "[CIS 545 Test Cases] (2 pts)\n"
     ]
    }
   ],
   "source": [
    "# [CIS 545 Test Cases] (2 pts)\n",
    "# Checking nullify\n",
    "\n",
    "# Test that nullify on 'abc' just returns the value\n",
    "if (nullify('abc') != 'abc'):\n",
    "    raise ValueError(\"Nullify doesn't seem to work!\\n\")\n",
    "\n",
    "# Ditto for an integer\n",
    "if (nullify(3) != 3):\n",
    "    raise ValueError(\"Nullify doesn't seem to work!\\n\")\n",
    "    \n",
    "print('[CIS 545 Test Cases] (2 pts)')"
   ]
  },
  {
   "cell_type": "code",
   "execution_count": 50,
   "metadata": {
    "deletable": false,
    "editable": false,
    "nbgrader": {
     "checksum": "a0d8e01fb53d6127670ae814933be98e",
     "grade": true,
     "grade_id": "test_nullify2",
     "locked": true,
     "points": 3,
     "schema_version": 1,
     "solution": false
    }
   },
   "outputs": [
    {
     "name": "stdout",
     "output_type": "stream",
     "text": [
      "[CIS 545 Test Cases] (3 pts)\n"
     ]
    }
   ],
   "source": [
    "# [CIS 545 Test Cases] (3 pts)\n",
    "# Checking nullify\n",
    "\n",
    "\n",
    "print('[CIS 545 Test Cases] (3 pts)')"
   ]
  },
  {
   "cell_type": "markdown",
   "metadata": {
    "deletable": false,
    "editable": false,
    "nbgrader": {
     "checksum": "22d67c90409253d575610511b39951c1",
     "grade": false,
     "grade_id": "step2-1-1",
     "locked": true,
     "schema_version": 1,
     "solution": false
    }
   },
   "source": [
    "### 2.1.1 Regularizing and removing nulls\n",
    "\n",
    "Next, we’ll need to use two functions to apply `nullify` and `fillna_col` to our DataFrames.  \n",
    "\n",
    "The DataFrame applymap function can be used to apply a function to every cell of a DataFrame.  We can use this to apply nullify to all of the elements in each of our DataFrames (airports, airlines, etc.) and get rid of all of the “\\N”s.\n",
    "\n",
    "The DataFrame `apply` function can be used to apply a function to every column of a DataFrame.  Let’s use that to call `fillna_col `on the DataFrames -- replacing the NaNs with blank strings if the column is otherwise an object.\n",
    "\n",
    "Also, let’s get rid of rows in `routes_df` that have null airline, source, or destination IDs.  Recall that `dropna` can be used here.\n",
    "\n",
    "You’ll want to update your DataFrames using all of the above functions.  Think carefully about the order in which to apply these."
   ]
  },
  {
   "cell_type": "code",
   "execution_count": 51,
   "metadata": {
    "deletable": false,
    "nbgrader": {
     "checksum": "a4d1c047594c0dcac6eae0ae526d8a50",
     "grade": false,
     "grade_id": "regularize",
     "locked": false,
     "schema_version": 1,
     "solution": true
    }
   },
   "outputs": [],
   "source": [
    "# TODO: regularize and remove nulls according to Step 2\n",
    "\n",
    "# YOUR CODE HERE\n",
    "#airports_df.head(20) \n",
    "#airlines_df.head(20)\n",
    "#routes_df.head(20)\n",
    "\n",
    "# a=0\n",
    "# for i in range(0,len(airports_df.columns)): \n",
    "#     print(airports_df.iloc[:,i].value_counts(r'\\N'))\n",
    "\n",
    "airports_df = airports_df.applymap(lambda x: nullify(x))\n",
    "airlines_df = airlines_df.applymap(lambda x: nullify(x))\n",
    "routes_df = routes_df.applymap(lambda x: nullify(x))\n",
    "#routes_df1.index == r'\\N'\n",
    "routes_df = routes_df.dropna(subset=['airline_id','source_id','target_id'], how='any')\n",
    "## 不知道他的要求是不是这个意思啊\n",
    "#routes_df.head(10)\n",
    "airports_df = airports_df.apply(lambda x: fillna_col(x))\n",
    "airlines_df = airlines_df.apply(lambda x: fillna_col(x))\n",
    "routes_df = routes_df.apply(lambda x: fillna_col(x))"
   ]
  },
  {
   "cell_type": "code",
   "execution_count": 52,
   "metadata": {
    "deletable": false,
    "editable": false,
    "nbgrader": {
     "checksum": "8bb1f3fc6f610c8ec8c10072f0d99d6f",
     "grade": true,
     "grade_id": "test_nullify3",
     "locked": true,
     "points": 1,
     "schema_version": 1,
     "solution": false
    }
   },
   "outputs": [
    {
     "name": "stdout",
     "output_type": "stream",
     "text": [
      "[CIS 545 Test Cases] (1 pt)\n"
     ]
    }
   ],
   "source": [
    "# [CIS 545 Test Cases] (1 pt)\n",
    "# Basic checks of your dataframes\n",
    "\n",
    "if airports_df.isnull().sum().sum() != 0:\n",
    "    raise ValueError('airports_df still has NaNs')\n",
    "    \n",
    "if airlines_df.isnull().sum().sum() != 0:\n",
    "    raise ValueError('airlines_df still has Nans')\n",
    "    \n",
    "if routes_df.isnull().sum().sum() != 0:\n",
    "    raise ValueError('routes_df still has Nans')\n",
    "    \n",
    "print('[CIS 545 Test Cases] (1 pt)')"
   ]
  },
  {
   "cell_type": "code",
   "execution_count": 53,
   "metadata": {
    "deletable": false,
    "editable": false,
    "nbgrader": {
     "checksum": "da81bc2428188da7e0d76e01dba66127",
     "grade": true,
     "grade_id": "test_nullify4",
     "locked": true,
     "points": 2,
     "schema_version": 1,
     "solution": false
    }
   },
   "outputs": [
    {
     "name": "stdout",
     "output_type": "stream",
     "text": [
      "[CIS 545 Test Cases] (2 pts)\n"
     ]
    }
   ],
   "source": [
    "## [CIS 545 Test Cases] (2 pts)\n",
    "# Checking your data cleaning\n",
    "\n",
    "\n",
    "print('[CIS 545 Test Cases] (2 pts)')"
   ]
  },
  {
   "cell_type": "code",
   "execution_count": 54,
   "metadata": {
    "deletable": false,
    "editable": false,
    "nbgrader": {
     "checksum": "54fb1817934fb37c4b8ca630716fcc1e",
     "grade": true,
     "grade_id": "test_nullify5",
     "locked": true,
     "points": 2,
     "schema_version": 1,
     "solution": false
    }
   },
   "outputs": [
    {
     "name": "stdout",
     "output_type": "stream",
     "text": [
      "[CIS 545 Test Cases] (2 pts)\n"
     ]
    }
   ],
   "source": [
    "# [CIS 545 Test Cases] (2 pts)\n",
    "# Checking your data cleaning\n",
    "\n",
    "\n",
    "print('[CIS 545 Test Cases] (2 pts)')"
   ]
  },
  {
   "cell_type": "markdown",
   "metadata": {
    "deletable": false,
    "editable": false,
    "nbgrader": {
     "checksum": "4a6399e99c8523046c41fe6bb3da935b",
     "grade": false,
     "grade_id": "step2-1-2",
     "locked": true,
     "schema_version": 1,
     "solution": false
    }
   },
   "source": [
    "### 2.1.2 Changing column types\n",
    "\n",
    "After all of this, `routes_df.airline_id` will only have integers, but will still have its existing type of object.  Later we’ll need it to be an integer, so that it can be compared directly with the entries from `airlines_df` and `airports_df`.  Let’s convert it to integer via:\n",
    "\n",
    "```\n",
    "routes_df['airline_id'] = routes_df['airline_id'].astype(int)\n",
    "```\n",
    "\n",
    "Repeat the same process for the source and destination airport IDs.  \n"
   ]
  },
  {
   "cell_type": "code",
   "execution_count": 55,
   "metadata": {
    "deletable": false,
    "nbgrader": {
     "checksum": "bd93933e664262172f80dac03c24b6c1",
     "grade": false,
     "grade_id": "change_cols",
     "locked": false,
     "schema_version": 1,
     "solution": true
    }
   },
   "outputs": [
    {
     "data": {
      "text/plain": [
       "dtype('int64')"
      ]
     },
     "execution_count": 55,
     "metadata": {},
     "output_type": "execute_result"
    }
   ],
   "source": [
    "# TODO: Change column types according to Step 2\n",
    "\n",
    "# YOUR CODE HERE\n",
    "#routes_df.head(10)\n",
    "routes_df['airline_id'] = routes_df['airline_id'].astype(int)\n",
    "routes_df['source_id'] = routes_df['source_id'].astype(int)\n",
    "routes_df['target_id'] = routes_df['target_id'].astype(int)\n",
    "routes_df['airline_id'].dtype"
   ]
  },
  {
   "cell_type": "code",
   "execution_count": 56,
   "metadata": {
    "deletable": false,
    "editable": false,
    "nbgrader": {
     "checksum": "179415cd4fd10aa98dd89b6a7db6b2df",
     "grade": true,
     "grade_id": "test_cols1",
     "locked": true,
     "points": 2,
     "schema_version": 1,
     "solution": false
    }
   },
   "outputs": [
    {
     "name": "stdout",
     "output_type": "stream",
     "text": [
      "[CIS 545 Test Cases] (2 pts)\n"
     ]
    }
   ],
   "source": [
    "# [CIS 545 Test Cases] (2 pts)\n",
    "\n",
    "\n",
    "print('[CIS 545 Test Cases] (2 pts)')"
   ]
  },
  {
   "cell_type": "markdown",
   "metadata": {
    "deletable": false,
    "editable": false,
    "nbgrader": {
     "checksum": "76306d926c2af506c18cbcd8ec1795f2",
     "grade": false,
     "grade_id": "step2-2",
     "locked": true,
     "schema_version": 1,
     "solution": false
    }
   },
   "source": [
    "## 2.2 Cleaning the Text Data\n",
    "\n",
    "We will clean the raw text data we stored in `incidents_raw.txt`. For each incident, we want it in the form:\n",
    "\n",
    "```\n",
    "1997 January 9 , Comair Flight 3272, an Embraer EMB 120 Brasília, crashes near Ida, Michigan, during a snowstorm, killing all 29 on board.\n",
    "```\n",
    "\n",
    "Points to follow during cleaning:\n",
    "\n",
    "* Remove `[edit]` from the year\n",
    "\n",
    "* Only select incidents that have occured in the year >= 1997\n",
    "\n",
    "* Since we extracted the data using tags `<h3>` and `<li>`, it is possible that there was other data extracted too. See the end of file `incidents_raw.txt`. However, if we look at the format of all the incidents, we can see that they all contain: *month*, the word `Flight` and the symbol `–`. Use these conditions to filter out unwanted data.\n",
    "\n",
    "* Store all the cleaned incidents in a list named `clean_incidents`."
   ]
  },
  {
   "cell_type": "code",
   "execution_count": 57,
   "metadata": {
    "deletable": false,
    "nbgrader": {
     "checksum": "264343d952820b2697340f7e0d237e10",
     "grade": false,
     "grade_id": "clean_incidents",
     "locked": false,
     "schema_version": 1,
     "solution": true
    }
   },
   "outputs": [
    {
     "data": {
      "text/plain": [
       "331"
      ]
     },
     "execution_count": 57,
     "metadata": {},
     "output_type": "execute_result"
    }
   ],
   "source": [
    "# TODO: Read and clean raw text file and store in clean_incidents\n",
    "\n",
    "# YOUR CODE HERE\n",
    "\n",
    "import re\n",
    "\n",
    "clean_incidents = []\n",
    "year = 0\n",
    "with open ('incidents_raw.txt','r') as f:\n",
    "    for line in f.readlines():\n",
    "        line = line.strip()\n",
    "        if '[edit]' in line:\n",
    "            line = line.strip('[edit]')\n",
    "            year = line\n",
    "        #elif re.match(r'^([a-zA-Z]+) ([0-9]+)(\\s*)(-|–)(\\s*)((.*)(\\s*)*)(Flight)',line) != None:\n",
    "        elif line.find(\"Flight\")!=-1 and line.find(\"–\")!=-1:\n",
    "#         re.match(r'(-|–) (Flight)',line) != None:\n",
    "            line = re.sub(r' (-|–) ', r' , ', line)\n",
    "            line = re.sub(r';', r',', line)\n",
    "            clean_incidents.append(year+' '+line)\n",
    "#         else:\n",
    "#             print(line)\n",
    "\n",
    "for i in range(0, len(clean_incidents)):\n",
    "    if re.match('1997',clean_incidents[i]) != None:\n",
    "        break\n",
    "clean_incidents = clean_incidents[i:]\n",
    "            \n",
    "len(clean_incidents)\n",
    "#clean_incidents"
   ]
  },
  {
   "cell_type": "code",
   "execution_count": 58,
   "metadata": {
    "deletable": false,
    "editable": false,
    "nbgrader": {
     "checksum": "6403fb5aa311ecd11a19a10508a81cfd",
     "grade": true,
     "grade_id": "test_incidents1",
     "locked": true,
     "points": 2,
     "schema_version": 1,
     "solution": false
    }
   },
   "outputs": [
    {
     "name": "stdout",
     "output_type": "stream",
     "text": [
      "[CIS 545 Test Cases] (2 pts)\n"
     ]
    }
   ],
   "source": [
    "# [CIS 545 Test Cases] (2 pts)\n",
    "# Very basic testing of your dataframe...\n",
    "\n",
    "if len(clean_incidents) < 330 or len(clean_incidents) > 335: #331 expected\n",
    "    raise ValueError(\"Don't have the expected number of entries\")\n",
    "\n",
    "if not clean_incidents[0].startswith('1997'):\n",
    "    raise ValueError(\"Don't have the expected start date\")\n",
    "    \n",
    "print('[CIS 545 Test Cases] (2 pts)')"
   ]
  },
  {
   "cell_type": "code",
   "execution_count": 59,
   "metadata": {
    "deletable": false,
    "editable": false,
    "nbgrader": {
     "checksum": "a13d58288c29d6139cbe8f5a8a492f3b",
     "grade": true,
     "grade_id": "test_incidents2",
     "locked": true,
     "points": 2,
     "schema_version": 1,
     "solution": false
    }
   },
   "outputs": [
    {
     "name": "stdout",
     "output_type": "stream",
     "text": [
      "[CIS 545 Test Cases] (2 pts)\n"
     ]
    }
   ],
   "source": [
    "# [CIS 545 Test Cases] (2 pts)\n",
    "# Checking the values in clean_incidents\n",
    "\n",
    "\n",
    "print('[CIS 545 Test Cases] (2 pts)')"
   ]
  },
  {
   "cell_type": "code",
   "execution_count": 60,
   "metadata": {
    "deletable": false,
    "editable": false,
    "nbgrader": {
     "checksum": "4b8ab2b22fb510fc2b0c731a34d7ae68",
     "grade": true,
     "grade_id": "test_incidents3",
     "locked": true,
     "points": 2,
     "schema_version": 1,
     "solution": false
    }
   },
   "outputs": [
    {
     "name": "stdout",
     "output_type": "stream",
     "text": [
      "[CIS 545 Test Cases] (2 pts)\n"
     ]
    }
   ],
   "source": [
    "# [CIS 545 Test Cases] (2 pts)\n",
    "# Checking the values in clean_incidents\n",
    "\n",
    "\n",
    "print('[CIS 545 Test Cases] (2 pts)')"
   ]
  },
  {
   "cell_type": "code",
   "execution_count": 61,
   "metadata": {
    "deletable": false,
    "editable": false,
    "nbgrader": {
     "checksum": "f61bd4b11f71c66c942ddb0c2578e80c",
     "grade": true,
     "grade_id": "test_incidents4",
     "locked": true,
     "points": 2,
     "schema_version": 1,
     "solution": false
    }
   },
   "outputs": [
    {
     "name": "stdout",
     "output_type": "stream",
     "text": [
      "[CIS 545 Test Cases] (2 pts)\n"
     ]
    }
   ],
   "source": [
    "# [CIS 545 Test Cases] (2 pts)\n",
    "# Checking the values in clean_incidents\n",
    "\n",
    "\n",
    "print('[CIS 545 Test Cases] (2 pts)')"
   ]
  },
  {
   "cell_type": "markdown",
   "metadata": {
    "deletable": false,
    "editable": false,
    "nbgrader": {
     "checksum": "b7609b55b932edc6e1971c97b1b03b91",
     "grade": false,
     "grade_id": "convert_overview",
     "locked": true,
     "schema_version": 1,
     "solution": false
    }
   },
   "source": [
    "Now that we have all the aircraft incidents since 1997, we need to convert them into a Pandas DataFrame. Use the empty dataframe `incidents_df`.  For each entry in clean_incidents, extract the date, airline name and flight number (only the part that comes after `Flight`, and you should remove what are called \"stop words\" like a, an, the) then store it as a new row in `incidents_df`. Set the column type of `incidents_df['Date']` to `datetime`. Drop any duplicates from `incidents_df`."
   ]
  },
  {
   "cell_type": "code",
   "execution_count": 62,
   "metadata": {},
   "outputs": [
    {
     "data": {
      "text/plain": [
       "['1997 January 9 , Comair Flight 3272, an Embraer EMB 120 Brasília, crashes near Ida, Michigan, during a snowstorm, killing all 29 on board.',\n",
       " '1997 March 18 , Stavropolskaya Aktsionernaya Avia Flight 1023, an Antonov An-24, breaks up in flight and crashes near Cherkessk, Russia, all 50 on board die.',\n",
       " '1997 April 19 , Merpati Nusantara Airlines Flight 106, a BAe ATP crashes during a failed go-around in bad weather at Buluh Tumbang International Airport, Indonesia. 15 of the 53 passengers and crew are killed.',\n",
       " '1997 May 8 , China Southern Airlines Flight 3456, a Boeing 737, makes a hard landing in Shenzhen, China, during poor weather and crashes, killing 35 of the 74 people on board.',\n",
       " '1997 July 31 , FedEx Express Flight 14, a McDonnell Douglas MD-11, crashes upon landing at Newark Liberty International Airport, the two crew members and three passengers escape uninjured.',\n",
       " '1997 July 17 , Sempati Air Flight 304, a Fokker F27, crashes shortly after take off from Husein Sastranegara International Airport. 28 people were killed.',\n",
       " '1997 August 6 , Korean Air Flight 801, a Boeing 747, crashes while attempting to land in heavy rain at Guam International Airport, of the 254 people on board, only 26 survive.',\n",
       " '1997 August 10 , Formosa Airlines Flight 7601, a Dornier Do 228, crashes while attempting to land at Beigan, Lienchiang, in the Matsu Islands. All 16 passengers and crew on board are killed.',\n",
       " '1997 September 3 , Vietnam Airlines Flight 815, a Tupolev Tu-134, crashes on approach to Phnom Penh International Airport in heavy rain, killing 64 of the 66 people on board.',\n",
       " '1997 September 6 , Royal Brunei Airlines Flight 238, a Dornier Do 228, crashes into a hill side in Lambir Hills National Park, killing all 10 on board.']"
      ]
     },
     "execution_count": 62,
     "metadata": {},
     "output_type": "execute_result"
    }
   ],
   "source": [
    "clean_incidents[:10]"
   ]
  },
  {
   "cell_type": "code",
   "execution_count": 63,
   "metadata": {
    "deletable": false,
    "nbgrader": {
     "checksum": "fd85cb6a90a99648c0abd265b17e6b7b",
     "grade": false,
     "grade_id": "convert_incidents",
     "locked": false,
     "schema_version": 1,
     "solution": true
    }
   },
   "outputs": [
    {
     "name": "stdout",
     "output_type": "stream",
     "text": [
      "<class 'list'>\n"
     ]
    },
    {
     "data": {
      "text/html": [
       "<div>\n",
       "<style scoped>\n",
       "    .dataframe tbody tr th:only-of-type {\n",
       "        vertical-align: middle;\n",
       "    }\n",
       "\n",
       "    .dataframe tbody tr th {\n",
       "        vertical-align: top;\n",
       "    }\n",
       "\n",
       "    .dataframe thead th {\n",
       "        text-align: right;\n",
       "    }\n",
       "</style>\n",
       "<table border=\"1\" class=\"dataframe\">\n",
       "  <thead>\n",
       "    <tr style=\"text-align: right;\">\n",
       "      <th></th>\n",
       "      <th>Date</th>\n",
       "      <th>Airline</th>\n",
       "      <th>FlightNum</th>\n",
       "    </tr>\n",
       "  </thead>\n",
       "  <tbody>\n",
       "    <tr>\n",
       "      <th>0</th>\n",
       "      <td>1997 January 9</td>\n",
       "      <td>Comair</td>\n",
       "      <td>3272</td>\n",
       "    </tr>\n",
       "    <tr>\n",
       "      <th>1</th>\n",
       "      <td>1997 March 18</td>\n",
       "      <td>Stavropolskaya Aktsionernaya Avia</td>\n",
       "      <td>1023</td>\n",
       "    </tr>\n",
       "    <tr>\n",
       "      <th>2</th>\n",
       "      <td>1997 April 19</td>\n",
       "      <td>Merpati Nusantara Airlines</td>\n",
       "      <td>106</td>\n",
       "    </tr>\n",
       "    <tr>\n",
       "      <th>3</th>\n",
       "      <td>1997 May 8</td>\n",
       "      <td>China Southern Airlines</td>\n",
       "      <td>3456</td>\n",
       "    </tr>\n",
       "    <tr>\n",
       "      <th>4</th>\n",
       "      <td>1997 July 31</td>\n",
       "      <td>FedEx Express</td>\n",
       "      <td>14</td>\n",
       "    </tr>\n",
       "    <tr>\n",
       "      <th>5</th>\n",
       "      <td>1997 July 17</td>\n",
       "      <td>Sempati Air</td>\n",
       "      <td>304</td>\n",
       "    </tr>\n",
       "    <tr>\n",
       "      <th>6</th>\n",
       "      <td>1997 August 6</td>\n",
       "      <td>Korean Air</td>\n",
       "      <td>801</td>\n",
       "    </tr>\n",
       "    <tr>\n",
       "      <th>7</th>\n",
       "      <td>1997 August 10</td>\n",
       "      <td>Formosa Airlines</td>\n",
       "      <td>7601</td>\n",
       "    </tr>\n",
       "    <tr>\n",
       "      <th>8</th>\n",
       "      <td>1997 September 3</td>\n",
       "      <td>Vietnam Airlines</td>\n",
       "      <td>815</td>\n",
       "    </tr>\n",
       "    <tr>\n",
       "      <th>9</th>\n",
       "      <td>1997 September 6</td>\n",
       "      <td>Royal Brunei Airlines</td>\n",
       "      <td>238</td>\n",
       "    </tr>\n",
       "    <tr>\n",
       "      <th>10</th>\n",
       "      <td>1997 September 26</td>\n",
       "      <td>Garuda Indonesia</td>\n",
       "      <td>152</td>\n",
       "    </tr>\n",
       "    <tr>\n",
       "      <th>11</th>\n",
       "      <td>1997 October 10</td>\n",
       "      <td>Austral Líneas Aéreas</td>\n",
       "      <td>2553</td>\n",
       "    </tr>\n",
       "    <tr>\n",
       "      <th>12</th>\n",
       "      <td>1997 December 15</td>\n",
       "      <td>Tajikistan Airlines</td>\n",
       "      <td>3183</td>\n",
       "    </tr>\n",
       "    <tr>\n",
       "      <th>13</th>\n",
       "      <td>1997 December 17</td>\n",
       "      <td>Aerosvit</td>\n",
       "      <td>241</td>\n",
       "    </tr>\n",
       "    <tr>\n",
       "      <th>14</th>\n",
       "      <td>1997 December 19</td>\n",
       "      <td>SilkAir</td>\n",
       "      <td>185</td>\n",
       "    </tr>\n",
       "    <tr>\n",
       "      <th>15</th>\n",
       "      <td>1997 December 28</td>\n",
       "      <td>United Airlines</td>\n",
       "      <td>826</td>\n",
       "    </tr>\n",
       "    <tr>\n",
       "      <th>16</th>\n",
       "      <td>1998 February 2</td>\n",
       "      <td>Cebu Pacific</td>\n",
       "      <td>387</td>\n",
       "    </tr>\n",
       "    <tr>\n",
       "      <th>17</th>\n",
       "      <td>1998 February 16</td>\n",
       "      <td>China Airlines</td>\n",
       "      <td>676</td>\n",
       "    </tr>\n",
       "    <tr>\n",
       "      <th>18</th>\n",
       "      <td>1998 March 22</td>\n",
       "      <td>Philippine Airlines</td>\n",
       "      <td>137</td>\n",
       "    </tr>\n",
       "    <tr>\n",
       "      <th>19</th>\n",
       "      <td>1998 April 20</td>\n",
       "      <td>Air France</td>\n",
       "      <td>422</td>\n",
       "    </tr>\n",
       "    <tr>\n",
       "      <th>20</th>\n",
       "      <td>1998 May 25</td>\n",
       "      <td>PIA</td>\n",
       "      <td>544</td>\n",
       "    </tr>\n",
       "    <tr>\n",
       "      <th>21</th>\n",
       "      <td>1998 June 18</td>\n",
       "      <td>Propair</td>\n",
       "      <td>420</td>\n",
       "    </tr>\n",
       "    <tr>\n",
       "      <th>22</th>\n",
       "      <td>1998 July 30</td>\n",
       "      <td>Proteus Airlines</td>\n",
       "      <td>706</td>\n",
       "    </tr>\n",
       "    <tr>\n",
       "      <th>23</th>\n",
       "      <td>1998 August 24</td>\n",
       "      <td>Myanma Airways</td>\n",
       "      <td>635</td>\n",
       "    </tr>\n",
       "    <tr>\n",
       "      <th>24</th>\n",
       "      <td>1998 August 29</td>\n",
       "      <td>Cubana de Aviación</td>\n",
       "      <td>389</td>\n",
       "    </tr>\n",
       "    <tr>\n",
       "      <th>25</th>\n",
       "      <td>1998 September 2</td>\n",
       "      <td>Swissair</td>\n",
       "      <td>111</td>\n",
       "    </tr>\n",
       "    <tr>\n",
       "      <th>26</th>\n",
       "      <td>1998 September 25</td>\n",
       "      <td>PauknAir</td>\n",
       "      <td>4101</td>\n",
       "    </tr>\n",
       "    <tr>\n",
       "      <th>27</th>\n",
       "      <td>1998 September 29</td>\n",
       "      <td>Lionair</td>\n",
       "      <td>602</td>\n",
       "    </tr>\n",
       "    <tr>\n",
       "      <th>28</th>\n",
       "      <td>1998 December 11</td>\n",
       "      <td>Thai Airways International</td>\n",
       "      <td>261</td>\n",
       "    </tr>\n",
       "    <tr>\n",
       "      <th>29</th>\n",
       "      <td>1999 February 24</td>\n",
       "      <td>China Southwest Airlines</td>\n",
       "      <td>4509</td>\n",
       "    </tr>\n",
       "    <tr>\n",
       "      <th>30</th>\n",
       "      <td>1999 April 7</td>\n",
       "      <td>Turkish Airlines</td>\n",
       "      <td>5904</td>\n",
       "    </tr>\n",
       "    <tr>\n",
       "      <th>31</th>\n",
       "      <td>1999 April 15</td>\n",
       "      <td>Korean Air Cargo</td>\n",
       "      <td>6316</td>\n",
       "    </tr>\n",
       "    <tr>\n",
       "      <th>32</th>\n",
       "      <td>1999 June 1</td>\n",
       "      <td>American Airlines</td>\n",
       "      <td>1420</td>\n",
       "    </tr>\n",
       "    <tr>\n",
       "      <th>33</th>\n",
       "      <td>1999 July 24</td>\n",
       "      <td>Air Fiji</td>\n",
       "      <td>121</td>\n",
       "    </tr>\n",
       "    <tr>\n",
       "      <th>34</th>\n",
       "      <td>1999 July 24</td>\n",
       "      <td>All Nippon Airways</td>\n",
       "      <td>61</td>\n",
       "    </tr>\n",
       "    <tr>\n",
       "      <th>35</th>\n",
       "      <td>1999 August 7</td>\n",
       "      <td>TACV</td>\n",
       "      <td>5002</td>\n",
       "    </tr>\n",
       "    <tr>\n",
       "      <th>36</th>\n",
       "      <td>1999 August 22</td>\n",
       "      <td>China Airlines</td>\n",
       "      <td>642</td>\n",
       "    </tr>\n",
       "    <tr>\n",
       "      <th>37</th>\n",
       "      <td>1999 August 31</td>\n",
       "      <td>LAPA</td>\n",
       "      <td>3142</td>\n",
       "    </tr>\n",
       "    <tr>\n",
       "      <th>38</th>\n",
       "      <td>1999 September 5</td>\n",
       "      <td>Necon Air</td>\n",
       "      <td>128</td>\n",
       "    </tr>\n",
       "    <tr>\n",
       "      <th>39</th>\n",
       "      <td>1999 September 14</td>\n",
       "      <td>Britannia Airways</td>\n",
       "      <td>226A</td>\n",
       "    </tr>\n",
       "    <tr>\n",
       "      <th>40</th>\n",
       "      <td>1999 September 23</td>\n",
       "      <td>Qantas</td>\n",
       "      <td>1</td>\n",
       "    </tr>\n",
       "    <tr>\n",
       "      <th>41</th>\n",
       "      <td>1999 October 31</td>\n",
       "      <td>EgyptAir</td>\n",
       "      <td>990</td>\n",
       "    </tr>\n",
       "    <tr>\n",
       "      <th>42</th>\n",
       "      <td>1999 November 9</td>\n",
       "      <td>TAESA</td>\n",
       "      <td>725</td>\n",
       "    </tr>\n",
       "    <tr>\n",
       "      <th>43</th>\n",
       "      <td>1999 November 12</td>\n",
       "      <td>Si Fly</td>\n",
       "      <td>3275</td>\n",
       "    </tr>\n",
       "    <tr>\n",
       "      <th>44</th>\n",
       "      <td>1999 December 7</td>\n",
       "      <td>Asian Spirit</td>\n",
       "      <td>100</td>\n",
       "    </tr>\n",
       "    <tr>\n",
       "      <th>45</th>\n",
       "      <td>1999 December 11</td>\n",
       "      <td>SATA Air Açores</td>\n",
       "      <td>530M</td>\n",
       "    </tr>\n",
       "    <tr>\n",
       "      <th>46</th>\n",
       "      <td>1999 December 21</td>\n",
       "      <td>Cubana de Aviación</td>\n",
       "      <td>1216</td>\n",
       "    </tr>\n",
       "    <tr>\n",
       "      <th>47</th>\n",
       "      <td>1999 December 22</td>\n",
       "      <td>Korean Air Cargo</td>\n",
       "      <td>8509</td>\n",
       "    </tr>\n",
       "    <tr>\n",
       "      <th>48</th>\n",
       "      <td>1999 December 24</td>\n",
       "      <td>Indian Airlines</td>\n",
       "      <td>814</td>\n",
       "    </tr>\n",
       "    <tr>\n",
       "      <th>49</th>\n",
       "      <td>1999 December 25</td>\n",
       "      <td>Cubana de Aviación</td>\n",
       "      <td>310</td>\n",
       "    </tr>\n",
       "  </tbody>\n",
       "</table>\n",
       "</div>"
      ],
      "text/plain": [
       "                 Date                            Airline FlightNum\n",
       "0      1997 January 9                             Comair      3272\n",
       "1       1997 March 18  Stavropolskaya Aktsionernaya Avia      1023\n",
       "2       1997 April 19         Merpati Nusantara Airlines       106\n",
       "3          1997 May 8            China Southern Airlines      3456\n",
       "4        1997 July 31                      FedEx Express        14\n",
       "5        1997 July 17                        Sempati Air       304\n",
       "6       1997 August 6                         Korean Air       801\n",
       "7      1997 August 10                   Formosa Airlines      7601\n",
       "8    1997 September 3                   Vietnam Airlines       815\n",
       "9    1997 September 6              Royal Brunei Airlines       238\n",
       "10  1997 September 26                   Garuda Indonesia       152\n",
       "11    1997 October 10              Austral Líneas Aéreas      2553\n",
       "12   1997 December 15                Tajikistan Airlines      3183\n",
       "13   1997 December 17                           Aerosvit       241\n",
       "14   1997 December 19                            SilkAir       185\n",
       "15   1997 December 28                    United Airlines       826\n",
       "16    1998 February 2                       Cebu Pacific       387\n",
       "17   1998 February 16                     China Airlines       676\n",
       "18      1998 March 22                Philippine Airlines       137\n",
       "19      1998 April 20                         Air France       422\n",
       "20        1998 May 25                                PIA       544\n",
       "21       1998 June 18                            Propair       420\n",
       "22       1998 July 30                   Proteus Airlines       706\n",
       "23     1998 August 24                     Myanma Airways       635\n",
       "24     1998 August 29                 Cubana de Aviación       389\n",
       "25   1998 September 2                           Swissair       111\n",
       "26  1998 September 25                           PauknAir      4101\n",
       "27  1998 September 29                            Lionair       602\n",
       "28   1998 December 11         Thai Airways International       261\n",
       "29   1999 February 24           China Southwest Airlines      4509\n",
       "30       1999 April 7                   Turkish Airlines      5904\n",
       "31      1999 April 15                   Korean Air Cargo      6316\n",
       "32        1999 June 1                  American Airlines      1420\n",
       "33       1999 July 24                           Air Fiji       121\n",
       "34       1999 July 24                 All Nippon Airways        61\n",
       "35      1999 August 7                               TACV      5002\n",
       "36     1999 August 22                     China Airlines       642\n",
       "37     1999 August 31                               LAPA      3142\n",
       "38   1999 September 5                          Necon Air       128\n",
       "39  1999 September 14                  Britannia Airways      226A\n",
       "40  1999 September 23                             Qantas         1\n",
       "41    1999 October 31                           EgyptAir       990\n",
       "42    1999 November 9                              TAESA       725\n",
       "43   1999 November 12                             Si Fly      3275\n",
       "44    1999 December 7                       Asian Spirit       100\n",
       "45   1999 December 11                    SATA Air Açores      530M\n",
       "46   1999 December 21                 Cubana de Aviación      1216\n",
       "47   1999 December 22                   Korean Air Cargo      8509\n",
       "48   1999 December 24                    Indian Airlines       814\n",
       "49   1999 December 25                 Cubana de Aviación       310"
      ]
     },
     "execution_count": 63,
     "metadata": {},
     "output_type": "execute_result"
    }
   ],
   "source": [
    "# TODO: Convert clean_incidents into dataframe incidents_df\n",
    "\n",
    "# You might find the Natural Language Toolkit (nltk) useful.\n",
    "# See https://www.nltk.org/ for details.\n",
    "#\n",
    "# The stopwords module will let you find and remove not-very-useful\n",
    "# words like articles ('the', 'a'). (We imported it earlier in the assignment)\n",
    "\n",
    "# YOUR CODE HERE\n",
    "import nltk\n",
    "from nltk.corpus import stopwords\n",
    "\n",
    "words = stopwords.words('english')\n",
    "\n",
    "date = []\n",
    "flight = []\n",
    "flight_number = []\n",
    "print(type(date))\n",
    "\n",
    "#clean_incidents = pd.DataFrame(clean_incidents, split = ',')\n",
    "for i in range(0,len(clean_incidents)):\n",
    "    word_raw = nltk.word_tokenize(clean_incidents[i])#nltk 停用词问题\n",
    "    word = [w for w in word_raw if(w not in stopwords.words('english'))]\n",
    "    for j in range(0,len(word)):\n",
    "        if re.match(',',word[j]) != None:\n",
    "            break\n",
    "    for k in range(0,len(word)):\n",
    "        if re.match('Flight',word[k]) != None:\n",
    "            break\n",
    "    \n",
    "    d = ' '\n",
    "    d = d.join(word[:j])\n",
    "    date.append(d)\n",
    "    \n",
    "    fl = ' '\n",
    "    fl = fl.join(word[j+1:k])\n",
    "    flight.append(fl)\n",
    "    \n",
    "    fl_num = ' '\n",
    "    fl_num = fl_num.join(word[k+1:k+2])\n",
    "    flight_number.append(fl_num)\n",
    "\n",
    "    #p = re.match(',',word)\n",
    "    #print(p)\n",
    "incidents_df = pd.DataFrame({'Date':date,'Airline':flight,'FlightNum':flight_number})\n",
    "incidents_df.head(50)\n",
    "#len(incidents_df)\n",
    "# word  \n"
   ]
  },
  {
   "cell_type": "code",
   "execution_count": 64,
   "metadata": {
    "deletable": false,
    "editable": false,
    "nbgrader": {
     "checksum": "1a18f8476c8a4f84903eae25fb6e0c75",
     "grade": true,
     "grade_id": "test_incidents5",
     "locked": true,
     "points": 3,
     "schema_version": 1,
     "solution": false
    }
   },
   "outputs": [
    {
     "name": "stdout",
     "output_type": "stream",
     "text": [
      "[CIS 545 Test Cases] (3 pts)\n"
     ]
    }
   ],
   "source": [
    "# [CIS 545 Test Cases] (3 pts)\n",
    "# Checking your dataframe size and shape\n",
    "\n",
    "if len(incidents_df) < 330 or len(incidents_df) > 335: \n",
    "    raise ValueError(\"Don't have the expected number of entries\")\n",
    "\n",
    "if incidents_df.shape[1] != 3:\n",
    "    raise ValueError(\"Don't have the expected number of fields\")\n",
    "\n",
    "if not ((incidents_df['Airline'] == 'Cebu Pacific') & \\\n",
    "        (incidents_df['Date'] == '1998 February 2') & \\\n",
    "        (incidents_df['FlightNum'] == '387')).any():\n",
    "    raise ValueError('You might need to clean your data a bit better')\n",
    "    \n",
    "print('[CIS 545 Test Cases] (3 pts)')"
   ]
  },
  {
   "cell_type": "code",
   "execution_count": 65,
   "metadata": {
    "deletable": false,
    "editable": false,
    "nbgrader": {
     "checksum": "294cc185b98e4471bc9d8799e03bc54d",
     "grade": true,
     "grade_id": "test_incidents6",
     "locked": true,
     "points": 2,
     "schema_version": 1,
     "solution": false
    }
   },
   "outputs": [
    {
     "name": "stdout",
     "output_type": "stream",
     "text": [
      "[CIS 545 Test Cases] (2 pts)\n"
     ]
    }
   ],
   "source": [
    "# [CIS 545 Test Cases] (2 pts)\n",
    "# We're going to be testing your data cleaning more thoroughly here\n",
    "\n",
    "\n",
    "print('[CIS 545 Test Cases] (2 pts)')"
   ]
  },
  {
   "cell_type": "code",
   "execution_count": 66,
   "metadata": {
    "deletable": false,
    "editable": false,
    "nbgrader": {
     "checksum": "2c24edc486bf67c154e2763f49c676e6",
     "grade": true,
     "grade_id": "test_incidents7",
     "locked": true,
     "points": 2,
     "schema_version": 1,
     "solution": false
    }
   },
   "outputs": [
    {
     "name": "stdout",
     "output_type": "stream",
     "text": [
      "[CIS 545 Test Cases] (2 pts)\n"
     ]
    }
   ],
   "source": [
    "# [CIS 545 Test Cases] (2 pts)\n",
    "# We're going to be testing your data cleaning more thoroughly here\n",
    "\n",
    "\n",
    "print('[CIS 545 Test Cases] (2 pts)')"
   ]
  },
  {
   "cell_type": "markdown",
   "metadata": {
    "deletable": false,
    "editable": false,
    "nbgrader": {
     "checksum": "40860929554c3f871a43e8a1fa515328",
     "grade": false,
     "grade_id": "change_date_drops",
     "locked": true,
     "schema_version": 1,
     "solution": false
    }
   },
   "source": [
    "Now, we want to change the column type and clean data a bit further"
   ]
  },
  {
   "cell_type": "code",
   "execution_count": 67,
   "metadata": {
    "deletable": false,
    "nbgrader": {
     "checksum": "bafa402b0a69b2527bdc4f6b8ac76633",
     "grade": false,
     "grade_id": "change_date",
     "locked": false,
     "schema_version": 1,
     "solution": true
    }
   },
   "outputs": [
    {
     "data": {
      "text/html": [
       "<div>\n",
       "<style scoped>\n",
       "    .dataframe tbody tr th:only-of-type {\n",
       "        vertical-align: middle;\n",
       "    }\n",
       "\n",
       "    .dataframe tbody tr th {\n",
       "        vertical-align: top;\n",
       "    }\n",
       "\n",
       "    .dataframe thead th {\n",
       "        text-align: right;\n",
       "    }\n",
       "</style>\n",
       "<table border=\"1\" class=\"dataframe\">\n",
       "  <thead>\n",
       "    <tr style=\"text-align: right;\">\n",
       "      <th></th>\n",
       "      <th>Date</th>\n",
       "      <th>Airline</th>\n",
       "      <th>FlightNum</th>\n",
       "    </tr>\n",
       "  </thead>\n",
       "  <tbody>\n",
       "    <tr>\n",
       "      <th>0</th>\n",
       "      <td>1997-01-09</td>\n",
       "      <td>Comair</td>\n",
       "      <td>3272</td>\n",
       "    </tr>\n",
       "    <tr>\n",
       "      <th>1</th>\n",
       "      <td>1997-03-18</td>\n",
       "      <td>Stavropolskaya Aktsionernaya Avia</td>\n",
       "      <td>1023</td>\n",
       "    </tr>\n",
       "    <tr>\n",
       "      <th>2</th>\n",
       "      <td>1997-04-19</td>\n",
       "      <td>Merpati Nusantara Airlines</td>\n",
       "      <td>106</td>\n",
       "    </tr>\n",
       "    <tr>\n",
       "      <th>3</th>\n",
       "      <td>1997-05-08</td>\n",
       "      <td>China Southern Airlines</td>\n",
       "      <td>3456</td>\n",
       "    </tr>\n",
       "    <tr>\n",
       "      <th>4</th>\n",
       "      <td>1997-07-31</td>\n",
       "      <td>FedEx Express</td>\n",
       "      <td>14</td>\n",
       "    </tr>\n",
       "    <tr>\n",
       "      <th>5</th>\n",
       "      <td>1997-07-17</td>\n",
       "      <td>Sempati Air</td>\n",
       "      <td>304</td>\n",
       "    </tr>\n",
       "    <tr>\n",
       "      <th>6</th>\n",
       "      <td>1997-08-06</td>\n",
       "      <td>Korean Air</td>\n",
       "      <td>801</td>\n",
       "    </tr>\n",
       "    <tr>\n",
       "      <th>7</th>\n",
       "      <td>1997-08-10</td>\n",
       "      <td>Formosa Airlines</td>\n",
       "      <td>7601</td>\n",
       "    </tr>\n",
       "    <tr>\n",
       "      <th>8</th>\n",
       "      <td>1997-09-03</td>\n",
       "      <td>Vietnam Airlines</td>\n",
       "      <td>815</td>\n",
       "    </tr>\n",
       "    <tr>\n",
       "      <th>9</th>\n",
       "      <td>1997-09-06</td>\n",
       "      <td>Royal Brunei Airlines</td>\n",
       "      <td>238</td>\n",
       "    </tr>\n",
       "    <tr>\n",
       "      <th>10</th>\n",
       "      <td>1997-09-26</td>\n",
       "      <td>Garuda Indonesia</td>\n",
       "      <td>152</td>\n",
       "    </tr>\n",
       "    <tr>\n",
       "      <th>11</th>\n",
       "      <td>1997-10-10</td>\n",
       "      <td>Austral Líneas Aéreas</td>\n",
       "      <td>2553</td>\n",
       "    </tr>\n",
       "    <tr>\n",
       "      <th>12</th>\n",
       "      <td>1997-12-15</td>\n",
       "      <td>Tajikistan Airlines</td>\n",
       "      <td>3183</td>\n",
       "    </tr>\n",
       "    <tr>\n",
       "      <th>13</th>\n",
       "      <td>1997-12-17</td>\n",
       "      <td>Aerosvit</td>\n",
       "      <td>241</td>\n",
       "    </tr>\n",
       "    <tr>\n",
       "      <th>14</th>\n",
       "      <td>1997-12-19</td>\n",
       "      <td>SilkAir</td>\n",
       "      <td>185</td>\n",
       "    </tr>\n",
       "    <tr>\n",
       "      <th>15</th>\n",
       "      <td>1997-12-28</td>\n",
       "      <td>United Airlines</td>\n",
       "      <td>826</td>\n",
       "    </tr>\n",
       "    <tr>\n",
       "      <th>16</th>\n",
       "      <td>1998-02-02</td>\n",
       "      <td>Cebu Pacific</td>\n",
       "      <td>387</td>\n",
       "    </tr>\n",
       "    <tr>\n",
       "      <th>17</th>\n",
       "      <td>1998-02-16</td>\n",
       "      <td>China Airlines</td>\n",
       "      <td>676</td>\n",
       "    </tr>\n",
       "    <tr>\n",
       "      <th>18</th>\n",
       "      <td>1998-03-22</td>\n",
       "      <td>Philippine Airlines</td>\n",
       "      <td>137</td>\n",
       "    </tr>\n",
       "    <tr>\n",
       "      <th>19</th>\n",
       "      <td>1998-04-20</td>\n",
       "      <td>Air France</td>\n",
       "      <td>422</td>\n",
       "    </tr>\n",
       "    <tr>\n",
       "      <th>20</th>\n",
       "      <td>1998-05-25</td>\n",
       "      <td>PIA</td>\n",
       "      <td>544</td>\n",
       "    </tr>\n",
       "    <tr>\n",
       "      <th>21</th>\n",
       "      <td>1998-06-18</td>\n",
       "      <td>Propair</td>\n",
       "      <td>420</td>\n",
       "    </tr>\n",
       "    <tr>\n",
       "      <th>22</th>\n",
       "      <td>1998-07-30</td>\n",
       "      <td>Proteus Airlines</td>\n",
       "      <td>706</td>\n",
       "    </tr>\n",
       "    <tr>\n",
       "      <th>23</th>\n",
       "      <td>1998-08-24</td>\n",
       "      <td>Myanma Airways</td>\n",
       "      <td>635</td>\n",
       "    </tr>\n",
       "    <tr>\n",
       "      <th>24</th>\n",
       "      <td>1998-08-29</td>\n",
       "      <td>Cubana de Aviación</td>\n",
       "      <td>389</td>\n",
       "    </tr>\n",
       "    <tr>\n",
       "      <th>25</th>\n",
       "      <td>1998-09-02</td>\n",
       "      <td>Swissair</td>\n",
       "      <td>111</td>\n",
       "    </tr>\n",
       "    <tr>\n",
       "      <th>26</th>\n",
       "      <td>1998-09-25</td>\n",
       "      <td>PauknAir</td>\n",
       "      <td>4101</td>\n",
       "    </tr>\n",
       "    <tr>\n",
       "      <th>27</th>\n",
       "      <td>1998-09-29</td>\n",
       "      <td>Lionair</td>\n",
       "      <td>602</td>\n",
       "    </tr>\n",
       "    <tr>\n",
       "      <th>28</th>\n",
       "      <td>1998-12-11</td>\n",
       "      <td>Thai Airways International</td>\n",
       "      <td>261</td>\n",
       "    </tr>\n",
       "    <tr>\n",
       "      <th>29</th>\n",
       "      <td>1999-02-24</td>\n",
       "      <td>China Southwest Airlines</td>\n",
       "      <td>4509</td>\n",
       "    </tr>\n",
       "    <tr>\n",
       "      <th>...</th>\n",
       "      <td>...</td>\n",
       "      <td>...</td>\n",
       "      <td>...</td>\n",
       "    </tr>\n",
       "    <tr>\n",
       "      <th>301</th>\n",
       "      <td>2015-09-05</td>\n",
       "      <td>Ceiba Intercontinental Airlines</td>\n",
       "      <td>71</td>\n",
       "    </tr>\n",
       "    <tr>\n",
       "      <th>302</th>\n",
       "      <td>2015-09-08</td>\n",
       "      <td>British Airways</td>\n",
       "      <td>2276</td>\n",
       "    </tr>\n",
       "    <tr>\n",
       "      <th>303</th>\n",
       "      <td>2015-10-02</td>\n",
       "      <td>Aviastar</td>\n",
       "      <td>7503</td>\n",
       "    </tr>\n",
       "    <tr>\n",
       "      <th>304</th>\n",
       "      <td>2015-10-29</td>\n",
       "      <td>Dynamic Airways</td>\n",
       "      <td>405</td>\n",
       "    </tr>\n",
       "    <tr>\n",
       "      <th>305</th>\n",
       "      <td>2015-10-31</td>\n",
       "      <td>Metrojet</td>\n",
       "      <td>9268</td>\n",
       "    </tr>\n",
       "    <tr>\n",
       "      <th>306</th>\n",
       "      <td>2016-01-08</td>\n",
       "      <td>West Air Sweden</td>\n",
       "      <td>294</td>\n",
       "    </tr>\n",
       "    <tr>\n",
       "      <th>307</th>\n",
       "      <td>2016-02-02</td>\n",
       "      <td>Daallo Airlines</td>\n",
       "      <td>159</td>\n",
       "    </tr>\n",
       "    <tr>\n",
       "      <th>308</th>\n",
       "      <td>2016-02-24</td>\n",
       "      <td>Tara Air</td>\n",
       "      <td>193</td>\n",
       "    </tr>\n",
       "    <tr>\n",
       "      <th>309</th>\n",
       "      <td>2016-03-19</td>\n",
       "      <td>Flydubai</td>\n",
       "      <td>981</td>\n",
       "    </tr>\n",
       "    <tr>\n",
       "      <th>310</th>\n",
       "      <td>2016-03-29</td>\n",
       "      <td>EgyptAir</td>\n",
       "      <td>181</td>\n",
       "    </tr>\n",
       "    <tr>\n",
       "      <th>311</th>\n",
       "      <td>2016-04-04</td>\n",
       "      <td>Batik Air</td>\n",
       "      <td>7703</td>\n",
       "    </tr>\n",
       "    <tr>\n",
       "      <th>312</th>\n",
       "      <td>2016-05-19</td>\n",
       "      <td>EgyptAir</td>\n",
       "      <td>804</td>\n",
       "    </tr>\n",
       "    <tr>\n",
       "      <th>313</th>\n",
       "      <td>2016-05-27</td>\n",
       "      <td>Korean Air</td>\n",
       "      <td>2708</td>\n",
       "    </tr>\n",
       "    <tr>\n",
       "      <th>314</th>\n",
       "      <td>2016-06-27</td>\n",
       "      <td>Singapore Airlines</td>\n",
       "      <td>368</td>\n",
       "    </tr>\n",
       "    <tr>\n",
       "      <th>315</th>\n",
       "      <td>2016-08-03</td>\n",
       "      <td>Emirates</td>\n",
       "      <td>521</td>\n",
       "    </tr>\n",
       "    <tr>\n",
       "      <th>316</th>\n",
       "      <td>2016-08-05</td>\n",
       "      <td>ASL Airlines Hungary</td>\n",
       "      <td>7332</td>\n",
       "    </tr>\n",
       "    <tr>\n",
       "      <th>317</th>\n",
       "      <td>2016-08-27</td>\n",
       "      <td>Southwest Airlines</td>\n",
       "      <td>3472</td>\n",
       "    </tr>\n",
       "    <tr>\n",
       "      <th>318</th>\n",
       "      <td>2016-10-28</td>\n",
       "      <td>American Airlines</td>\n",
       "      <td>383</td>\n",
       "    </tr>\n",
       "    <tr>\n",
       "      <th>319</th>\n",
       "      <td>2016-10-28</td>\n",
       "      <td>FedEx Express</td>\n",
       "      <td>910</td>\n",
       "    </tr>\n",
       "    <tr>\n",
       "      <th>320</th>\n",
       "      <td>2016-11-28</td>\n",
       "      <td>LaMia Airlines</td>\n",
       "      <td>2933</td>\n",
       "    </tr>\n",
       "    <tr>\n",
       "      <th>321</th>\n",
       "      <td>2016-12-07</td>\n",
       "      <td>Pakistan International Airlines</td>\n",
       "      <td>661</td>\n",
       "    </tr>\n",
       "    <tr>\n",
       "      <th>322</th>\n",
       "      <td>2016-12-20</td>\n",
       "      <td>Aerosucre</td>\n",
       "      <td>4544</td>\n",
       "    </tr>\n",
       "    <tr>\n",
       "      <th>323</th>\n",
       "      <td>2016-12-23</td>\n",
       "      <td>Afriqiyah Airways</td>\n",
       "      <td>209</td>\n",
       "    </tr>\n",
       "    <tr>\n",
       "      <th>324</th>\n",
       "      <td>2017-01-16</td>\n",
       "      <td>Turkish Airlines</td>\n",
       "      <td>6491</td>\n",
       "    </tr>\n",
       "    <tr>\n",
       "      <th>325</th>\n",
       "      <td>2017-03-28</td>\n",
       "      <td>Peruvian Airlines</td>\n",
       "      <td>112</td>\n",
       "    </tr>\n",
       "    <tr>\n",
       "      <th>326</th>\n",
       "      <td>2017-05-27</td>\n",
       "      <td>Summit Air</td>\n",
       "      <td>409</td>\n",
       "    </tr>\n",
       "    <tr>\n",
       "      <th>327</th>\n",
       "      <td>2017-07-07</td>\n",
       "      <td>Air Canada</td>\n",
       "      <td>759</td>\n",
       "    </tr>\n",
       "    <tr>\n",
       "      <th>328</th>\n",
       "      <td>2017-09-30</td>\n",
       "      <td>Air France</td>\n",
       "      <td>66</td>\n",
       "    </tr>\n",
       "    <tr>\n",
       "      <th>329</th>\n",
       "      <td>2017-12-13</td>\n",
       "      <td>West Wind Aviation</td>\n",
       "      <td>280</td>\n",
       "    </tr>\n",
       "    <tr>\n",
       "      <th>330</th>\n",
       "      <td>2018-01-13</td>\n",
       "      <td>Pegasus Airlines</td>\n",
       "      <td>8622</td>\n",
       "    </tr>\n",
       "  </tbody>\n",
       "</table>\n",
       "<p>322 rows × 3 columns</p>\n",
       "</div>"
      ],
      "text/plain": [
       "          Date                            Airline FlightNum\n",
       "0   1997-01-09                             Comair      3272\n",
       "1   1997-03-18  Stavropolskaya Aktsionernaya Avia      1023\n",
       "2   1997-04-19         Merpati Nusantara Airlines       106\n",
       "3   1997-05-08            China Southern Airlines      3456\n",
       "4   1997-07-31                      FedEx Express        14\n",
       "5   1997-07-17                        Sempati Air       304\n",
       "6   1997-08-06                         Korean Air       801\n",
       "7   1997-08-10                   Formosa Airlines      7601\n",
       "8   1997-09-03                   Vietnam Airlines       815\n",
       "9   1997-09-06              Royal Brunei Airlines       238\n",
       "10  1997-09-26                   Garuda Indonesia       152\n",
       "11  1997-10-10              Austral Líneas Aéreas      2553\n",
       "12  1997-12-15                Tajikistan Airlines      3183\n",
       "13  1997-12-17                           Aerosvit       241\n",
       "14  1997-12-19                            SilkAir       185\n",
       "15  1997-12-28                    United Airlines       826\n",
       "16  1998-02-02                       Cebu Pacific       387\n",
       "17  1998-02-16                     China Airlines       676\n",
       "18  1998-03-22                Philippine Airlines       137\n",
       "19  1998-04-20                         Air France       422\n",
       "20  1998-05-25                                PIA       544\n",
       "21  1998-06-18                            Propair       420\n",
       "22  1998-07-30                   Proteus Airlines       706\n",
       "23  1998-08-24                     Myanma Airways       635\n",
       "24  1998-08-29                 Cubana de Aviación       389\n",
       "25  1998-09-02                           Swissair       111\n",
       "26  1998-09-25                           PauknAir      4101\n",
       "27  1998-09-29                            Lionair       602\n",
       "28  1998-12-11         Thai Airways International       261\n",
       "29  1999-02-24           China Southwest Airlines      4509\n",
       "..         ...                                ...       ...\n",
       "301 2015-09-05    Ceiba Intercontinental Airlines        71\n",
       "302 2015-09-08                    British Airways      2276\n",
       "303 2015-10-02                           Aviastar      7503\n",
       "304 2015-10-29                    Dynamic Airways       405\n",
       "305 2015-10-31                           Metrojet      9268\n",
       "306 2016-01-08                    West Air Sweden       294\n",
       "307 2016-02-02                    Daallo Airlines       159\n",
       "308 2016-02-24                           Tara Air       193\n",
       "309 2016-03-19                           Flydubai       981\n",
       "310 2016-03-29                           EgyptAir       181\n",
       "311 2016-04-04                          Batik Air      7703\n",
       "312 2016-05-19                           EgyptAir       804\n",
       "313 2016-05-27                         Korean Air      2708\n",
       "314 2016-06-27                 Singapore Airlines       368\n",
       "315 2016-08-03                           Emirates       521\n",
       "316 2016-08-05               ASL Airlines Hungary      7332\n",
       "317 2016-08-27                 Southwest Airlines      3472\n",
       "318 2016-10-28                  American Airlines       383\n",
       "319 2016-10-28                      FedEx Express       910\n",
       "320 2016-11-28                     LaMia Airlines      2933\n",
       "321 2016-12-07    Pakistan International Airlines       661\n",
       "322 2016-12-20                          Aerosucre      4544\n",
       "323 2016-12-23                  Afriqiyah Airways       209\n",
       "324 2017-01-16                   Turkish Airlines      6491\n",
       "325 2017-03-28                  Peruvian Airlines       112\n",
       "326 2017-05-27                         Summit Air       409\n",
       "327 2017-07-07                         Air Canada       759\n",
       "328 2017-09-30                         Air France        66\n",
       "329 2017-12-13                 West Wind Aviation       280\n",
       "330 2018-01-13                   Pegasus Airlines      8622\n",
       "\n",
       "[322 rows x 3 columns]"
      ]
     },
     "execution_count": 67,
     "metadata": {},
     "output_type": "execute_result"
    }
   ],
   "source": [
    "# TODO: Change column type of 'Date' and drop duplicates\n",
    "\n",
    "# YOUR CODE HERE\n",
    "from datetime import datetime\n",
    "# month = ['January','February','March','April','May','June','July','August','September','October','November','December']\n",
    "# month_num = []\n",
    "incidents_df.drop_duplicates(inplace=True)\n",
    "# for i in range(0, len(incidents_df['Date'])):\n",
    "#     incidents_df['Date'][i] = datetime.strptime(str(incidents_df['Date'][i]),'%Y %B %d')\n",
    "\n",
    "incidents_df['Date'] = pd.to_datetime(incidents_df['Date'])\n",
    "incidents_df"
   ]
  },
  {
   "cell_type": "code",
   "execution_count": 68,
   "metadata": {
    "deletable": false,
    "editable": false,
    "nbgrader": {
     "checksum": "5854a13da392e1c8af23ce50783f5c52",
     "grade": true,
     "grade_id": "test_date1",
     "locked": true,
     "points": 2,
     "schema_version": 1,
     "solution": false
    }
   },
   "outputs": [
    {
     "name": "stdout",
     "output_type": "stream",
     "text": [
      "[CIS 545 Test Cases] (2 pts)\n"
     ]
    }
   ],
   "source": [
    "# [CIS 545 Test Cases] (2 pts)\n",
    "\n",
    "\n",
    "print('[CIS 545 Test Cases] (2 pts)')"
   ]
  },
  {
   "cell_type": "markdown",
   "metadata": {
    "deletable": false,
    "editable": false,
    "nbgrader": {
     "checksum": "9affff4213c5b0b1c2a3cc2d0635572f",
     "grade": false,
     "grade_id": "final_output",
     "locked": true,
     "schema_version": 1,
     "solution": false
    }
   },
   "source": [
    "## Final Output\n",
    "\n",
    "The following cells just show what the data looks like.  You should sanity check that it makes sense."
   ]
  },
  {
   "cell_type": "code",
   "execution_count": 69,
   "metadata": {
    "deletable": false,
    "editable": false,
    "nbgrader": {
     "checksum": "e3d6cdbf5733e81ebbb0b087157f526a",
     "grade": false,
     "grade_id": "airports_head2",
     "locked": true,
     "schema_version": 1,
     "solution": false
    }
   },
   "outputs": [
    {
     "data": {
      "text/html": [
       "<div>\n",
       "<style scoped>\n",
       "    .dataframe tbody tr th:only-of-type {\n",
       "        vertical-align: middle;\n",
       "    }\n",
       "\n",
       "    .dataframe tbody tr th {\n",
       "        vertical-align: top;\n",
       "    }\n",
       "\n",
       "    .dataframe thead th {\n",
       "        text-align: right;\n",
       "    }\n",
       "</style>\n",
       "<table border=\"1\" class=\"dataframe\">\n",
       "  <thead>\n",
       "    <tr style=\"text-align: right;\">\n",
       "      <th></th>\n",
       "      <th>airport_id</th>\n",
       "      <th>airport_name</th>\n",
       "      <th>airport_city</th>\n",
       "      <th>airport_country</th>\n",
       "      <th>airprot_iata_faa</th>\n",
       "      <th>airport_icao</th>\n",
       "      <th>latitude</th>\n",
       "      <th>longitude</th>\n",
       "      <th>altitude</th>\n",
       "      <th>timezone</th>\n",
       "      <th>dst</th>\n",
       "      <th>tz</th>\n",
       "    </tr>\n",
       "  </thead>\n",
       "  <tbody>\n",
       "    <tr>\n",
       "      <th>0</th>\n",
       "      <td>1</td>\n",
       "      <td>Goroka</td>\n",
       "      <td>Goroka</td>\n",
       "      <td>Papua New Guinea</td>\n",
       "      <td>GKA</td>\n",
       "      <td>AYGA</td>\n",
       "      <td>-6.081689</td>\n",
       "      <td>145.391881</td>\n",
       "      <td>5282</td>\n",
       "      <td>10.0</td>\n",
       "      <td>U</td>\n",
       "      <td>Pacific/Port_Moresby</td>\n",
       "    </tr>\n",
       "    <tr>\n",
       "      <th>1</th>\n",
       "      <td>2</td>\n",
       "      <td>Madang</td>\n",
       "      <td>Madang</td>\n",
       "      <td>Papua New Guinea</td>\n",
       "      <td>MAG</td>\n",
       "      <td>AYMD</td>\n",
       "      <td>-5.207083</td>\n",
       "      <td>145.788700</td>\n",
       "      <td>20</td>\n",
       "      <td>10.0</td>\n",
       "      <td>U</td>\n",
       "      <td>Pacific/Port_Moresby</td>\n",
       "    </tr>\n",
       "    <tr>\n",
       "      <th>2</th>\n",
       "      <td>3</td>\n",
       "      <td>Mount Hagen</td>\n",
       "      <td>Mount Hagen</td>\n",
       "      <td>Papua New Guinea</td>\n",
       "      <td>HGU</td>\n",
       "      <td>AYMH</td>\n",
       "      <td>-5.826789</td>\n",
       "      <td>144.295861</td>\n",
       "      <td>5388</td>\n",
       "      <td>10.0</td>\n",
       "      <td>U</td>\n",
       "      <td>Pacific/Port_Moresby</td>\n",
       "    </tr>\n",
       "    <tr>\n",
       "      <th>3</th>\n",
       "      <td>4</td>\n",
       "      <td>Nadzab</td>\n",
       "      <td>Nadzab</td>\n",
       "      <td>Papua New Guinea</td>\n",
       "      <td>LAE</td>\n",
       "      <td>AYNZ</td>\n",
       "      <td>-6.569828</td>\n",
       "      <td>146.726242</td>\n",
       "      <td>239</td>\n",
       "      <td>10.0</td>\n",
       "      <td>U</td>\n",
       "      <td>Pacific/Port_Moresby</td>\n",
       "    </tr>\n",
       "    <tr>\n",
       "      <th>4</th>\n",
       "      <td>5</td>\n",
       "      <td>Port Moresby Jacksons Intl</td>\n",
       "      <td>Port Moresby</td>\n",
       "      <td>Papua New Guinea</td>\n",
       "      <td>POM</td>\n",
       "      <td>AYPY</td>\n",
       "      <td>-9.443383</td>\n",
       "      <td>147.220050</td>\n",
       "      <td>146</td>\n",
       "      <td>10.0</td>\n",
       "      <td>U</td>\n",
       "      <td>Pacific/Port_Moresby</td>\n",
       "    </tr>\n",
       "    <tr>\n",
       "      <th>5</th>\n",
       "      <td>6</td>\n",
       "      <td>Wewak Intl</td>\n",
       "      <td>Wewak</td>\n",
       "      <td>Papua New Guinea</td>\n",
       "      <td>WWK</td>\n",
       "      <td>AYWK</td>\n",
       "      <td>-3.583828</td>\n",
       "      <td>143.669186</td>\n",
       "      <td>19</td>\n",
       "      <td>10.0</td>\n",
       "      <td>U</td>\n",
       "      <td>Pacific/Port_Moresby</td>\n",
       "    </tr>\n",
       "    <tr>\n",
       "      <th>6</th>\n",
       "      <td>7</td>\n",
       "      <td>Narsarsuaq</td>\n",
       "      <td>Narssarssuaq</td>\n",
       "      <td>Greenland</td>\n",
       "      <td>UAK</td>\n",
       "      <td>BGBW</td>\n",
       "      <td>61.160517</td>\n",
       "      <td>-45.425978</td>\n",
       "      <td>112</td>\n",
       "      <td>-3.0</td>\n",
       "      <td>E</td>\n",
       "      <td>America/Godthab</td>\n",
       "    </tr>\n",
       "    <tr>\n",
       "      <th>7</th>\n",
       "      <td>8</td>\n",
       "      <td>Nuuk</td>\n",
       "      <td>Godthaab</td>\n",
       "      <td>Greenland</td>\n",
       "      <td>GOH</td>\n",
       "      <td>BGGH</td>\n",
       "      <td>64.190922</td>\n",
       "      <td>-51.678064</td>\n",
       "      <td>283</td>\n",
       "      <td>-3.0</td>\n",
       "      <td>E</td>\n",
       "      <td>America/Godthab</td>\n",
       "    </tr>\n",
       "    <tr>\n",
       "      <th>8</th>\n",
       "      <td>9</td>\n",
       "      <td>Sondre Stromfjord</td>\n",
       "      <td>Sondrestrom</td>\n",
       "      <td>Greenland</td>\n",
       "      <td>SFJ</td>\n",
       "      <td>BGSF</td>\n",
       "      <td>67.016969</td>\n",
       "      <td>-50.689325</td>\n",
       "      <td>165</td>\n",
       "      <td>-3.0</td>\n",
       "      <td>E</td>\n",
       "      <td>America/Godthab</td>\n",
       "    </tr>\n",
       "    <tr>\n",
       "      <th>9</th>\n",
       "      <td>10</td>\n",
       "      <td>Thule Air Base</td>\n",
       "      <td>Thule</td>\n",
       "      <td>Greenland</td>\n",
       "      <td>THU</td>\n",
       "      <td>BGTL</td>\n",
       "      <td>76.531203</td>\n",
       "      <td>-68.703161</td>\n",
       "      <td>251</td>\n",
       "      <td>-4.0</td>\n",
       "      <td>E</td>\n",
       "      <td>America/Thule</td>\n",
       "    </tr>\n",
       "  </tbody>\n",
       "</table>\n",
       "</div>"
      ],
      "text/plain": [
       "   airport_id                airport_name  airport_city   airport_country  \\\n",
       "0           1                      Goroka        Goroka  Papua New Guinea   \n",
       "1           2                      Madang        Madang  Papua New Guinea   \n",
       "2           3                 Mount Hagen   Mount Hagen  Papua New Guinea   \n",
       "3           4                      Nadzab        Nadzab  Papua New Guinea   \n",
       "4           5  Port Moresby Jacksons Intl  Port Moresby  Papua New Guinea   \n",
       "5           6                  Wewak Intl         Wewak  Papua New Guinea   \n",
       "6           7                  Narsarsuaq  Narssarssuaq         Greenland   \n",
       "7           8                        Nuuk      Godthaab         Greenland   \n",
       "8           9           Sondre Stromfjord   Sondrestrom         Greenland   \n",
       "9          10              Thule Air Base         Thule         Greenland   \n",
       "\n",
       "  airprot_iata_faa airport_icao   latitude   longitude  altitude  timezone  \\\n",
       "0              GKA         AYGA  -6.081689  145.391881      5282      10.0   \n",
       "1              MAG         AYMD  -5.207083  145.788700        20      10.0   \n",
       "2              HGU         AYMH  -5.826789  144.295861      5388      10.0   \n",
       "3              LAE         AYNZ  -6.569828  146.726242       239      10.0   \n",
       "4              POM         AYPY  -9.443383  147.220050       146      10.0   \n",
       "5              WWK         AYWK  -3.583828  143.669186        19      10.0   \n",
       "6              UAK         BGBW  61.160517  -45.425978       112      -3.0   \n",
       "7              GOH         BGGH  64.190922  -51.678064       283      -3.0   \n",
       "8              SFJ         BGSF  67.016969  -50.689325       165      -3.0   \n",
       "9              THU         BGTL  76.531203  -68.703161       251      -4.0   \n",
       "\n",
       "  dst                    tz  \n",
       "0   U  Pacific/Port_Moresby  \n",
       "1   U  Pacific/Port_Moresby  \n",
       "2   U  Pacific/Port_Moresby  \n",
       "3   U  Pacific/Port_Moresby  \n",
       "4   U  Pacific/Port_Moresby  \n",
       "5   U  Pacific/Port_Moresby  \n",
       "6   E       America/Godthab  \n",
       "7   E       America/Godthab  \n",
       "8   E       America/Godthab  \n",
       "9   E         America/Thule  "
      ]
     },
     "execution_count": 69,
     "metadata": {},
     "output_type": "execute_result"
    }
   ],
   "source": [
    "airports_df.head(10)"
   ]
  },
  {
   "cell_type": "code",
   "execution_count": 70,
   "metadata": {
    "deletable": false,
    "editable": false,
    "nbgrader": {
     "checksum": "7d9ce18e14b74280115a0c4b153b6c5d",
     "grade": false,
     "grade_id": "airlines_head2",
     "locked": true,
     "schema_version": 1,
     "solution": false
    }
   },
   "outputs": [
    {
     "data": {
      "text/html": [
       "<div>\n",
       "<style scoped>\n",
       "    .dataframe tbody tr th:only-of-type {\n",
       "        vertical-align: middle;\n",
       "    }\n",
       "\n",
       "    .dataframe tbody tr th {\n",
       "        vertical-align: top;\n",
       "    }\n",
       "\n",
       "    .dataframe thead th {\n",
       "        text-align: right;\n",
       "    }\n",
       "</style>\n",
       "<table border=\"1\" class=\"dataframe\">\n",
       "  <thead>\n",
       "    <tr style=\"text-align: right;\">\n",
       "      <th></th>\n",
       "      <th>airline_id</th>\n",
       "      <th>airline_name</th>\n",
       "      <th>alias</th>\n",
       "      <th>airline_iata</th>\n",
       "      <th>airline_icao</th>\n",
       "      <th>airline_callsign</th>\n",
       "      <th>airline_country</th>\n",
       "      <th>active</th>\n",
       "    </tr>\n",
       "  </thead>\n",
       "  <tbody>\n",
       "    <tr>\n",
       "      <th>0</th>\n",
       "      <td>1</td>\n",
       "      <td>Private flight</td>\n",
       "      <td></td>\n",
       "      <td>-</td>\n",
       "      <td></td>\n",
       "      <td></td>\n",
       "      <td></td>\n",
       "      <td>Y</td>\n",
       "    </tr>\n",
       "    <tr>\n",
       "      <th>1</th>\n",
       "      <td>2</td>\n",
       "      <td>135 Airways</td>\n",
       "      <td></td>\n",
       "      <td></td>\n",
       "      <td>GNL</td>\n",
       "      <td>GENERAL</td>\n",
       "      <td>United States</td>\n",
       "      <td>N</td>\n",
       "    </tr>\n",
       "    <tr>\n",
       "      <th>2</th>\n",
       "      <td>3</td>\n",
       "      <td>1Time Airline</td>\n",
       "      <td></td>\n",
       "      <td>1T</td>\n",
       "      <td>RNX</td>\n",
       "      <td>NEXTIME</td>\n",
       "      <td>South Africa</td>\n",
       "      <td>Y</td>\n",
       "    </tr>\n",
       "    <tr>\n",
       "      <th>3</th>\n",
       "      <td>4</td>\n",
       "      <td>2 Sqn No 1 Elementary Flying Training School</td>\n",
       "      <td></td>\n",
       "      <td></td>\n",
       "      <td>WYT</td>\n",
       "      <td></td>\n",
       "      <td>United Kingdom</td>\n",
       "      <td>N</td>\n",
       "    </tr>\n",
       "    <tr>\n",
       "      <th>4</th>\n",
       "      <td>5</td>\n",
       "      <td>213 Flight Unit</td>\n",
       "      <td></td>\n",
       "      <td></td>\n",
       "      <td>TFU</td>\n",
       "      <td></td>\n",
       "      <td>Russia</td>\n",
       "      <td>N</td>\n",
       "    </tr>\n",
       "    <tr>\n",
       "      <th>5</th>\n",
       "      <td>6</td>\n",
       "      <td>223 Flight Unit State Airline</td>\n",
       "      <td></td>\n",
       "      <td></td>\n",
       "      <td>CHD</td>\n",
       "      <td>CHKALOVSK-AVIA</td>\n",
       "      <td>Russia</td>\n",
       "      <td>N</td>\n",
       "    </tr>\n",
       "    <tr>\n",
       "      <th>6</th>\n",
       "      <td>7</td>\n",
       "      <td>224th Flight Unit</td>\n",
       "      <td></td>\n",
       "      <td></td>\n",
       "      <td>TTF</td>\n",
       "      <td>CARGO UNIT</td>\n",
       "      <td>Russia</td>\n",
       "      <td>N</td>\n",
       "    </tr>\n",
       "    <tr>\n",
       "      <th>7</th>\n",
       "      <td>8</td>\n",
       "      <td>247 Jet Ltd</td>\n",
       "      <td></td>\n",
       "      <td></td>\n",
       "      <td>TWF</td>\n",
       "      <td>CLOUD RUNNER</td>\n",
       "      <td>United Kingdom</td>\n",
       "      <td>N</td>\n",
       "    </tr>\n",
       "    <tr>\n",
       "      <th>8</th>\n",
       "      <td>9</td>\n",
       "      <td>3D Aviation</td>\n",
       "      <td></td>\n",
       "      <td></td>\n",
       "      <td>SEC</td>\n",
       "      <td>SECUREX</td>\n",
       "      <td>United States</td>\n",
       "      <td>N</td>\n",
       "    </tr>\n",
       "    <tr>\n",
       "      <th>9</th>\n",
       "      <td>10</td>\n",
       "      <td>40-Mile Air</td>\n",
       "      <td></td>\n",
       "      <td>Q5</td>\n",
       "      <td>MLA</td>\n",
       "      <td>MILE-AIR</td>\n",
       "      <td>United States</td>\n",
       "      <td>Y</td>\n",
       "    </tr>\n",
       "  </tbody>\n",
       "</table>\n",
       "</div>"
      ],
      "text/plain": [
       "   airline_id                                  airline_name alias  \\\n",
       "0           1                                Private flight         \n",
       "1           2                                   135 Airways         \n",
       "2           3                                 1Time Airline         \n",
       "3           4  2 Sqn No 1 Elementary Flying Training School         \n",
       "4           5                               213 Flight Unit         \n",
       "5           6                 223 Flight Unit State Airline         \n",
       "6           7                             224th Flight Unit         \n",
       "7           8                                   247 Jet Ltd         \n",
       "8           9                                   3D Aviation         \n",
       "9          10                                   40-Mile Air         \n",
       "\n",
       "  airline_iata airline_icao airline_callsign airline_country active  \n",
       "0            -                                                    Y  \n",
       "1                       GNL          GENERAL   United States      N  \n",
       "2           1T          RNX          NEXTIME    South Africa      Y  \n",
       "3                       WYT                   United Kingdom      N  \n",
       "4                       TFU                           Russia      N  \n",
       "5                       CHD   CHKALOVSK-AVIA          Russia      N  \n",
       "6                       TTF       CARGO UNIT          Russia      N  \n",
       "7                       TWF     CLOUD RUNNER  United Kingdom      N  \n",
       "8                       SEC          SECUREX   United States      N  \n",
       "9           Q5          MLA         MILE-AIR   United States      Y  "
      ]
     },
     "execution_count": 70,
     "metadata": {},
     "output_type": "execute_result"
    }
   ],
   "source": [
    "airlines_df.head(10)"
   ]
  },
  {
   "cell_type": "code",
   "execution_count": 71,
   "metadata": {
    "deletable": false,
    "editable": false,
    "nbgrader": {
     "checksum": "b9e432ac7472772ec82eeaa888206421",
     "grade": false,
     "grade_id": "routes_head2",
     "locked": true,
     "schema_version": 1,
     "solution": false
    }
   },
   "outputs": [
    {
     "data": {
      "text/html": [
       "<div>\n",
       "<style scoped>\n",
       "    .dataframe tbody tr th:only-of-type {\n",
       "        vertical-align: middle;\n",
       "    }\n",
       "\n",
       "    .dataframe tbody tr th {\n",
       "        vertical-align: top;\n",
       "    }\n",
       "\n",
       "    .dataframe thead th {\n",
       "        text-align: right;\n",
       "    }\n",
       "</style>\n",
       "<table border=\"1\" class=\"dataframe\">\n",
       "  <thead>\n",
       "    <tr style=\"text-align: right;\">\n",
       "      <th></th>\n",
       "      <th>airline_iata_icao</th>\n",
       "      <th>airline_id</th>\n",
       "      <th>src_iata_icao</th>\n",
       "      <th>source_id</th>\n",
       "      <th>target_iata_icao</th>\n",
       "      <th>target_id</th>\n",
       "      <th>code_share</th>\n",
       "      <th>stops</th>\n",
       "      <th>equipment</th>\n",
       "    </tr>\n",
       "  </thead>\n",
       "  <tbody>\n",
       "    <tr>\n",
       "      <th>0</th>\n",
       "      <td>2B</td>\n",
       "      <td>410</td>\n",
       "      <td>AER</td>\n",
       "      <td>2965</td>\n",
       "      <td>KZN</td>\n",
       "      <td>2990</td>\n",
       "      <td></td>\n",
       "      <td>0</td>\n",
       "      <td>CR2</td>\n",
       "    </tr>\n",
       "    <tr>\n",
       "      <th>1</th>\n",
       "      <td>2B</td>\n",
       "      <td>410</td>\n",
       "      <td>ASF</td>\n",
       "      <td>2966</td>\n",
       "      <td>KZN</td>\n",
       "      <td>2990</td>\n",
       "      <td></td>\n",
       "      <td>0</td>\n",
       "      <td>CR2</td>\n",
       "    </tr>\n",
       "    <tr>\n",
       "      <th>2</th>\n",
       "      <td>2B</td>\n",
       "      <td>410</td>\n",
       "      <td>ASF</td>\n",
       "      <td>2966</td>\n",
       "      <td>MRV</td>\n",
       "      <td>2962</td>\n",
       "      <td></td>\n",
       "      <td>0</td>\n",
       "      <td>CR2</td>\n",
       "    </tr>\n",
       "    <tr>\n",
       "      <th>3</th>\n",
       "      <td>2B</td>\n",
       "      <td>410</td>\n",
       "      <td>CEK</td>\n",
       "      <td>2968</td>\n",
       "      <td>KZN</td>\n",
       "      <td>2990</td>\n",
       "      <td></td>\n",
       "      <td>0</td>\n",
       "      <td>CR2</td>\n",
       "    </tr>\n",
       "    <tr>\n",
       "      <th>4</th>\n",
       "      <td>2B</td>\n",
       "      <td>410</td>\n",
       "      <td>CEK</td>\n",
       "      <td>2968</td>\n",
       "      <td>OVB</td>\n",
       "      <td>4078</td>\n",
       "      <td></td>\n",
       "      <td>0</td>\n",
       "      <td>CR2</td>\n",
       "    </tr>\n",
       "    <tr>\n",
       "      <th>5</th>\n",
       "      <td>2B</td>\n",
       "      <td>410</td>\n",
       "      <td>DME</td>\n",
       "      <td>4029</td>\n",
       "      <td>KZN</td>\n",
       "      <td>2990</td>\n",
       "      <td></td>\n",
       "      <td>0</td>\n",
       "      <td>CR2</td>\n",
       "    </tr>\n",
       "    <tr>\n",
       "      <th>6</th>\n",
       "      <td>2B</td>\n",
       "      <td>410</td>\n",
       "      <td>DME</td>\n",
       "      <td>4029</td>\n",
       "      <td>NBC</td>\n",
       "      <td>6969</td>\n",
       "      <td></td>\n",
       "      <td>0</td>\n",
       "      <td>CR2</td>\n",
       "    </tr>\n",
       "    <tr>\n",
       "      <th>8</th>\n",
       "      <td>2B</td>\n",
       "      <td>410</td>\n",
       "      <td>DME</td>\n",
       "      <td>4029</td>\n",
       "      <td>UUA</td>\n",
       "      <td>6160</td>\n",
       "      <td></td>\n",
       "      <td>0</td>\n",
       "      <td>CR2</td>\n",
       "    </tr>\n",
       "    <tr>\n",
       "      <th>9</th>\n",
       "      <td>2B</td>\n",
       "      <td>410</td>\n",
       "      <td>EGO</td>\n",
       "      <td>6156</td>\n",
       "      <td>KGD</td>\n",
       "      <td>2952</td>\n",
       "      <td></td>\n",
       "      <td>0</td>\n",
       "      <td>CR2</td>\n",
       "    </tr>\n",
       "    <tr>\n",
       "      <th>10</th>\n",
       "      <td>2B</td>\n",
       "      <td>410</td>\n",
       "      <td>EGO</td>\n",
       "      <td>6156</td>\n",
       "      <td>KZN</td>\n",
       "      <td>2990</td>\n",
       "      <td></td>\n",
       "      <td>0</td>\n",
       "      <td>CR2</td>\n",
       "    </tr>\n",
       "  </tbody>\n",
       "</table>\n",
       "</div>"
      ],
      "text/plain": [
       "   airline_iata_icao  airline_id src_iata_icao  source_id target_iata_icao  \\\n",
       "0                 2B         410           AER       2965              KZN   \n",
       "1                 2B         410           ASF       2966              KZN   \n",
       "2                 2B         410           ASF       2966              MRV   \n",
       "3                 2B         410           CEK       2968              KZN   \n",
       "4                 2B         410           CEK       2968              OVB   \n",
       "5                 2B         410           DME       4029              KZN   \n",
       "6                 2B         410           DME       4029              NBC   \n",
       "8                 2B         410           DME       4029              UUA   \n",
       "9                 2B         410           EGO       6156              KGD   \n",
       "10                2B         410           EGO       6156              KZN   \n",
       "\n",
       "    target_id code_share  stops equipment  \n",
       "0        2990                 0       CR2  \n",
       "1        2990                 0       CR2  \n",
       "2        2962                 0       CR2  \n",
       "3        2990                 0       CR2  \n",
       "4        4078                 0       CR2  \n",
       "5        2990                 0       CR2  \n",
       "6        6969                 0       CR2  \n",
       "8        6160                 0       CR2  \n",
       "9        2952                 0       CR2  \n",
       "10       2990                 0       CR2  "
      ]
     },
     "execution_count": 71,
     "metadata": {},
     "output_type": "execute_result"
    }
   ],
   "source": [
    "routes_df.head(10)"
   ]
  },
  {
   "cell_type": "code",
   "execution_count": 72,
   "metadata": {
    "deletable": false,
    "editable": false,
    "nbgrader": {
     "checksum": "ed8cfc9d74616872261ddb38efaa968d",
     "grade": false,
     "grade_id": "incidents_head2",
     "locked": true,
     "schema_version": 1,
     "solution": false
    }
   },
   "outputs": [
    {
     "data": {
      "text/html": [
       "<div>\n",
       "<style scoped>\n",
       "    .dataframe tbody tr th:only-of-type {\n",
       "        vertical-align: middle;\n",
       "    }\n",
       "\n",
       "    .dataframe tbody tr th {\n",
       "        vertical-align: top;\n",
       "    }\n",
       "\n",
       "    .dataframe thead th {\n",
       "        text-align: right;\n",
       "    }\n",
       "</style>\n",
       "<table border=\"1\" class=\"dataframe\">\n",
       "  <thead>\n",
       "    <tr style=\"text-align: right;\">\n",
       "      <th></th>\n",
       "      <th>Date</th>\n",
       "      <th>Airline</th>\n",
       "      <th>FlightNum</th>\n",
       "    </tr>\n",
       "  </thead>\n",
       "  <tbody>\n",
       "    <tr>\n",
       "      <th>0</th>\n",
       "      <td>1997-01-09</td>\n",
       "      <td>Comair</td>\n",
       "      <td>3272</td>\n",
       "    </tr>\n",
       "    <tr>\n",
       "      <th>1</th>\n",
       "      <td>1997-03-18</td>\n",
       "      <td>Stavropolskaya Aktsionernaya Avia</td>\n",
       "      <td>1023</td>\n",
       "    </tr>\n",
       "    <tr>\n",
       "      <th>2</th>\n",
       "      <td>1997-04-19</td>\n",
       "      <td>Merpati Nusantara Airlines</td>\n",
       "      <td>106</td>\n",
       "    </tr>\n",
       "    <tr>\n",
       "      <th>3</th>\n",
       "      <td>1997-05-08</td>\n",
       "      <td>China Southern Airlines</td>\n",
       "      <td>3456</td>\n",
       "    </tr>\n",
       "    <tr>\n",
       "      <th>4</th>\n",
       "      <td>1997-07-31</td>\n",
       "      <td>FedEx Express</td>\n",
       "      <td>14</td>\n",
       "    </tr>\n",
       "    <tr>\n",
       "      <th>5</th>\n",
       "      <td>1997-07-17</td>\n",
       "      <td>Sempati Air</td>\n",
       "      <td>304</td>\n",
       "    </tr>\n",
       "    <tr>\n",
       "      <th>6</th>\n",
       "      <td>1997-08-06</td>\n",
       "      <td>Korean Air</td>\n",
       "      <td>801</td>\n",
       "    </tr>\n",
       "    <tr>\n",
       "      <th>7</th>\n",
       "      <td>1997-08-10</td>\n",
       "      <td>Formosa Airlines</td>\n",
       "      <td>7601</td>\n",
       "    </tr>\n",
       "    <tr>\n",
       "      <th>8</th>\n",
       "      <td>1997-09-03</td>\n",
       "      <td>Vietnam Airlines</td>\n",
       "      <td>815</td>\n",
       "    </tr>\n",
       "    <tr>\n",
       "      <th>9</th>\n",
       "      <td>1997-09-06</td>\n",
       "      <td>Royal Brunei Airlines</td>\n",
       "      <td>238</td>\n",
       "    </tr>\n",
       "  </tbody>\n",
       "</table>\n",
       "</div>"
      ],
      "text/plain": [
       "        Date                            Airline FlightNum\n",
       "0 1997-01-09                             Comair      3272\n",
       "1 1997-03-18  Stavropolskaya Aktsionernaya Avia      1023\n",
       "2 1997-04-19         Merpati Nusantara Airlines       106\n",
       "3 1997-05-08            China Southern Airlines      3456\n",
       "4 1997-07-31                      FedEx Express        14\n",
       "5 1997-07-17                        Sempati Air       304\n",
       "6 1997-08-06                         Korean Air       801\n",
       "7 1997-08-10                   Formosa Airlines      7601\n",
       "8 1997-09-03                   Vietnam Airlines       815\n",
       "9 1997-09-06              Royal Brunei Airlines       238"
      ]
     },
     "execution_count": 72,
     "metadata": {},
     "output_type": "execute_result"
    }
   ],
   "source": [
    "incidents_df.head(10)"
   ]
  },
  {
   "cell_type": "markdown",
   "metadata": {
    "deletable": false,
    "editable": false,
    "nbgrader": {
     "checksum": "8d5cada1374b6b3f2928856299ffd0ac",
     "grade": false,
     "grade_id": "step3",
     "locked": true,
     "schema_version": 1,
     "solution": false
    }
   },
   "source": [
    "## Step 3: Making Data “Persistent”\n",
    "\n",
    "Now let’s actually save the data in a persistent way, specifically using a relational database.  For simplicity we’ll use SQLite here, but we could alternatively use a DBMS such as MySQL or PostgreSQL on the cloud (or in another Docker container).\n",
    "\n",
    "The cell below establishes a connection to an SQLite database, which will be written to the file HW1_DB in your HW1 Jupyter directory."
   ]
  },
  {
   "cell_type": "code",
   "execution_count": 73,
   "metadata": {
    "deletable": false,
    "editable": false,
    "nbgrader": {
     "checksum": "71312652d44744d492398bf73174dd87",
     "grade": false,
     "grade_id": "sqlite3",
     "locked": true,
     "schema_version": 1,
     "solution": false
    }
   },
   "outputs": [],
   "source": [
    "# sqlite3 allows for use of SQL queries in Python. Just run this cell, no edits needed!\n",
    "import sqlite3\n",
    "engine = sqlite3.connect('HW1_DB')"
   ]
  },
  {
   "cell_type": "markdown",
   "metadata": {
    "deletable": false,
    "editable": false,
    "nbgrader": {
     "checksum": "a58f5590f07e13527b3e8ccbc68ee9f1",
     "grade": false,
     "grade_id": "save_dfs",
     "locked": true,
     "schema_version": 1,
     "solution": false
    }
   },
   "source": [
    "Now save each of your DataFrames (`airlines_df`, `airports_df`, `flights_df`, `routes_df`, `incidents_df`) to the database.  To do this, call the `to_sql` method (make sure to not save the `index` column since it doesn't matter!) on the DataFrame.  Give it a table name matching the DataFrame name, and set the flag `if_exists=’replace’` in case you want to run this multiple times.\n",
    "\n",
    "Once this is all done, you can move on to Homework 1, Part 2, which will use the DataFrames saved to the SQL database."
   ]
  },
  {
   "cell_type": "code",
   "execution_count": 74,
   "metadata": {
    "deletable": false,
    "nbgrader": {
     "checksum": "b87eec6c86d8175cd3b046c0ad2e016c",
     "grade": false,
     "grade_id": "to_sql",
     "locked": false,
     "schema_version": 1,
     "solution": true
    }
   },
   "outputs": [],
   "source": [
    "# TODO: Use to_sql to save your Dataframes to the HW1_DB\n",
    "\n",
    "# YOUR CODE HERE\n",
    "airlines_df.to_sql('airlines', engine, if_exists='replace', index = None)\n",
    "airports_df.to_sql('airports', engine, if_exists='replace', index = None)\n",
    "flights_df.to_sql('flights', engine, if_exists='replace', index = None)\n",
    "routes_df.to_sql('routes', engine, if_exists='replace', index = None)\n",
    "incidents_df.to_sql('incidents', engine, if_exists='replace', index = None)\n",
    "#pd.read_sql('select * from airports',engine).head(10)"
   ]
  },
  {
   "cell_type": "code",
   "execution_count": 75,
   "metadata": {
    "deletable": false,
    "editable": false,
    "nbgrader": {
     "checksum": "005126c946c3feba6575b50777656fbb",
     "grade": true,
     "grade_id": "test_execute",
     "locked": true,
     "points": 0,
     "schema_version": 1,
     "solution": false
    }
   },
   "outputs": [
    {
     "name": "stdout",
     "output_type": "stream",
     "text": [
      "(1, 'Goroka', 'Goroka', 'Papua New Guinea', 'GKA', 'AYGA', -6.081689, 145.391881, 5282, 10.0, 'U', 'Pacific/Port_Moresby')\n",
      "(2, 'Madang', 'Madang', 'Papua New Guinea', 'MAG', 'AYMD', -5.207083, 145.7887, 20, 10.0, 'U', 'Pacific/Port_Moresby')\n",
      "(3, 'Mount Hagen', 'Mount Hagen', 'Papua New Guinea', 'HGU', 'AYMH', -5.826789, 144.295861, 5388, 10.0, 'U', 'Pacific/Port_Moresby')\n",
      "(4, 'Nadzab', 'Nadzab', 'Papua New Guinea', 'LAE', 'AYNZ', -6.569828, 146.72624199999998, 239, 10.0, 'U', 'Pacific/Port_Moresby')\n",
      "(5, 'Port Moresby Jacksons Intl', 'Port Moresby', 'Papua New Guinea', 'POM', 'AYPY', -9.443383, 147.22005, 146, 10.0, 'U', 'Pacific/Port_Moresby')\n",
      "(6, 'Wewak Intl', 'Wewak', 'Papua New Guinea', 'WWK', 'AYWK', -3.583828, 143.669186, 19, 10.0, 'U', 'Pacific/Port_Moresby')\n",
      "(7, 'Narsarsuaq', 'Narssarssuaq', 'Greenland', 'UAK', 'BGBW', 61.160517000000006, -45.425978, 112, -3.0, 'E', 'America/Godthab')\n",
      "(8, 'Nuuk', 'Godthaab', 'Greenland', 'GOH', 'BGGH', 64.190922, -51.678064, 283, -3.0, 'E', 'America/Godthab')\n",
      "(9, 'Sondre Stromfjord', 'Sondrestrom', 'Greenland', 'SFJ', 'BGSF', 67.01696899999999, -50.689325, 165, -3.0, 'E', 'America/Godthab')\n",
      "(10, 'Thule Air Base', 'Thule', 'Greenland', 'THU', 'BGTL', 76.531203, -68.703161, 251, -4.0, 'E', 'America/Thule')\n"
     ]
    }
   ],
   "source": [
    "# Test that the data is there!\n",
    "# No points for this test case!\n",
    "\n",
    "cursor = engine.execute('select * from airports limit 1000')\n",
    "rows = cursor.fetchall()\n",
    "\n",
    "# View some data\n",
    "for i in range(10):\n",
    "    print(rows[i])\n",
    "\n",
    "if len(rows) < 1000:\n",
    "    raise ValueError('Somehow fewer than 1000 airports were written')"
   ]
  },
  {
   "cell_type": "code",
   "execution_count": null,
   "metadata": {},
   "outputs": [],
   "source": []
  }
 ],
 "metadata": {
  "anaconda-cloud": {},
  "kernelspec": {
   "display_name": "Python 3",
   "language": "python",
   "name": "python3"
  },
  "language_info": {
   "codemirror_mode": {
    "name": "ipython",
    "version": 3
   },
   "file_extension": ".py",
   "mimetype": "text/x-python",
   "name": "python",
   "nbconvert_exporter": "python",
   "pygments_lexer": "ipython3",
   "version": "3.6.7"
  }
 },
 "nbformat": 4,
 "nbformat_minor": 2
}
