{
 "cells": [
  {
   "cell_type": "code",
   "execution_count": 484,
   "metadata": {},
   "outputs": [],
   "source": [
    "# CIS 545"
   ]
  },
  {
   "cell_type": "code",
   "execution_count": null,
   "metadata": {},
   "outputs": [],
   "source": []
  },
  {
   "cell_type": "code",
   "execution_count": 485,
   "metadata": {
    "deletable": false,
    "editable": false,
    "nbgrader": {
     "checksum": "b229a6dc7c38a2041fb06edd93f1609c",
     "grade": false,
     "grade_id": "setup",
     "locked": true,
     "schema_version": 1,
     "solution": false
    }
   },
   "outputs": [],
   "source": [
    "## CIS 545 Homework 1 - Spring 2019\n",
    "# Updated January 2019"
   ]
  },
  {
   "cell_type": "markdown",
   "metadata": {
    "deletable": false,
    "editable": false,
    "nbgrader": {
     "checksum": "8bf9d85584db5906fcbd41a3ab3ea66c",
     "grade": false,
     "grade_id": "hw1-2",
     "locked": true,
     "schema_version": 1,
     "solution": false
    }
   },
   "source": [
    "## Part 2: Data Wrangling and Analysis\n",
    "\n",
    "Now, having set up our data from Part 1 earlier, we can pull data from those tables and conduct some data analysis. Part of the reason we had you store tables in advance was to create a sort of \"checkpoint\" in the middle of the assignment - after running Homework 1-1, you should be able to just start from your `HW1_DB` - although you can definitely go back and update your 1-1, and then pull from the database again!\n",
    "\n",
    "To recap briefly from before: \n",
    "\n",
    "*Terminology*      \n",
    "We’ll generally use `field`, `column`, and `attribute` interchangeably to mean a named column in a DataFrame.  We’ll also generally assume that `table`, `DataFrame`, and `relation` mean the same thing.\n",
    "\n",
    "*Submission*      \n",
    "See the external document for submission information.  Remember to also do **Homework 1, Part 2** and optionally **Homework 1-Advanced**.\n",
    "\n",
    "*NBGrader Information*      \n",
    "We're using a package called `nbgrader` to grade your assignments using an autograding system. With that, there's a couple things to take note:\n",
    "- If we specify a format, please use it!\n",
    "- Some cells will not be able to be edited - that is totally fine, we'll mark them\n",
    "- You may add/remove cells, but if a cell is marked test cases, please don't change it...just add cells before/after it!"
   ]
  },
  {
   "cell_type": "markdown",
   "metadata": {
    "deletable": false,
    "editable": false,
    "nbgrader": {
     "checksum": "57120fe7038f0885fce0c0a98a6a5c99",
     "grade": false,
     "grade_id": "step4",
     "locked": true,
     "schema_version": 1,
     "solution": false
    }
   },
   "source": [
    "## Step 4: Data Wrangling\n",
    "\n",
    "Start off by connecting to the database (as above), import pandas as pd, and then load back your DataFrames: airlines, airports, routes, incidents and flights from SQL, using the syntax:\n",
    "\n",
    "`dataframe = pd.read_sql_query('select * from table_name', engine)`"
   ]
  },
  {
   "cell_type": "code",
   "execution_count": 486,
   "metadata": {
    "deletable": false,
    "editable": false,
    "nbgrader": {
     "checksum": "7c70fef798693182b38a9effe6d66f99",
     "grade": false,
     "grade_id": "sqlite-intro",
     "locked": true,
     "schema_version": 1,
     "solution": false
    }
   },
   "outputs": [],
   "source": [
    "# Just run this cell! Then proceed to the next one\n",
    "import sqlite3\n",
    "import pandas as pd\n",
    "\n",
    "engine = sqlite3.connect('HW1_DB')"
   ]
  },
  {
   "cell_type": "code",
   "execution_count": 487,
   "metadata": {
    "deletable": false,
    "nbgrader": {
     "checksum": "5d9a269a36e1e6b30bdf2f930880bc79",
     "grade": false,
     "grade_id": "reload-data",
     "locked": false,
     "schema_version": 1,
     "solution": true
    }
   },
   "outputs": [],
   "source": [
    "# TODO: Re-load dataframes from SQL\n",
    "\n",
    "# YOUR CODE HERE\n",
    "airlines_df = pd.read_sql_query('select * from airlines', engine)\n",
    "airports_df = pd.read_sql_query('select * from airports', engine)\n",
    "routes_df = pd.read_sql_query('select * from routes', engine)\n",
    "incidents_df = pd.read_sql_query('select * from incidents', engine)\n",
    "flights_df = pd.read_sql_query('select * from flights', engine)"
   ]
  },
  {
   "cell_type": "code",
   "execution_count": 488,
   "metadata": {
    "deletable": false,
    "editable": false,
    "nbgrader": {
     "checksum": "61edc0d81dcddeeda1b7d405b4e95c3d",
     "grade": true,
     "grade_id": "test-index",
     "locked": true,
     "points": 1,
     "schema_version": 1,
     "solution": false
    }
   },
   "outputs": [
    {
     "name": "stdout",
     "output_type": "stream",
     "text": [
      "[CIS 545 Test Cases] (1 pt)\n"
     ]
    }
   ],
   "source": [
    "# [CIS 545 Test Cases] (1 pt)\n",
    "# Just checking to make sure that your columns are correct at a very basic level\n",
    "\n",
    "if ('index' in airlines_df.columns):\n",
    "    raise ValueError(\"SQL added an index column -- shouldn't have that plus the Pandas index\")\n",
    "    \n",
    "if ('index' in airports_df.columns):\n",
    "    raise ValueError(\"SQL added an index column -- shouldn't have that plus the Pandas index\")\n",
    "\n",
    "if ('index' in routes_df.columns):\n",
    "    raise ValueError(\"SQL added an index column -- shouldn't have that plus the Pandas index\")\n",
    "\n",
    "if ('index' in incidents_df.columns):\n",
    "    raise ValueError(\"SQL added an index column -- shouldn't have that plus the Pandas index\")\n",
    "    \n",
    "print('[CIS 545 Test Cases] (1 pt)')"
   ]
  },
  {
   "cell_type": "markdown",
   "metadata": {
    "deletable": false,
    "editable": false,
    "nbgrader": {
     "checksum": "f766f26d6e4d4f46664a95d4d30ab3d6",
     "grade": false,
     "grade_id": "step4-1",
     "locked": true,
     "schema_version": 1,
     "solution": false
    }
   },
   "source": [
    "## Step 4.1: Understanding and inspecting routes_df\n",
    "\n",
    "Recall details of `routes_df`...note that we're using `.head(15)` for conciseness, but certainly feel free to view larger chunks of the data table as you go! "
   ]
  },
  {
   "cell_type": "code",
   "execution_count": 489,
   "metadata": {
    "deletable": false,
    "editable": false,
    "nbgrader": {
     "checksum": "99503fb5ef13dd236fba0f672d96d482",
     "grade": false,
     "grade_id": "routes-info-1",
     "locked": true,
     "schema_version": 1,
     "solution": false
    }
   },
   "outputs": [
    {
     "name": "stdout",
     "output_type": "stream",
     "text": [
      "<class 'pandas.core.frame.DataFrame'>\n",
      "RangeIndex: 66548 entries, 0 to 66547\n",
      "Data columns (total 9 columns):\n",
      "airline_iata_icao    66548 non-null object\n",
      "airline_id           66548 non-null int64\n",
      "src_iata_icao        66548 non-null object\n",
      "source_id            66548 non-null int64\n",
      "target_iata_icao     66548 non-null object\n",
      "target_id            66548 non-null int64\n",
      "code_share           66548 non-null object\n",
      "stops                66548 non-null int64\n",
      "equipment            66548 non-null object\n",
      "dtypes: int64(4), object(5)\n",
      "memory usage: 4.6+ MB\n"
     ]
    }
   ],
   "source": [
    "routes_df.info()"
   ]
  },
  {
   "cell_type": "code",
   "execution_count": 490,
   "metadata": {
    "deletable": false,
    "editable": false,
    "nbgrader": {
     "checksum": "fe18f83f85bc376d2bb4d1eb5b61b0c8",
     "grade": false,
     "grade_id": "routes-head-1",
     "locked": true,
     "schema_version": 1,
     "solution": false
    }
   },
   "outputs": [
    {
     "data": {
      "text/html": [
       "<div>\n",
       "<style scoped>\n",
       "    .dataframe tbody tr th:only-of-type {\n",
       "        vertical-align: middle;\n",
       "    }\n",
       "\n",
       "    .dataframe tbody tr th {\n",
       "        vertical-align: top;\n",
       "    }\n",
       "\n",
       "    .dataframe thead th {\n",
       "        text-align: right;\n",
       "    }\n",
       "</style>\n",
       "<table border=\"1\" class=\"dataframe\">\n",
       "  <thead>\n",
       "    <tr style=\"text-align: right;\">\n",
       "      <th></th>\n",
       "      <th>airline_iata_icao</th>\n",
       "      <th>airline_id</th>\n",
       "      <th>src_iata_icao</th>\n",
       "      <th>source_id</th>\n",
       "      <th>target_iata_icao</th>\n",
       "      <th>target_id</th>\n",
       "      <th>code_share</th>\n",
       "      <th>stops</th>\n",
       "      <th>equipment</th>\n",
       "    </tr>\n",
       "  </thead>\n",
       "  <tbody>\n",
       "    <tr>\n",
       "      <th>0</th>\n",
       "      <td>2B</td>\n",
       "      <td>410</td>\n",
       "      <td>AER</td>\n",
       "      <td>2965</td>\n",
       "      <td>KZN</td>\n",
       "      <td>2990</td>\n",
       "      <td></td>\n",
       "      <td>0</td>\n",
       "      <td>CR2</td>\n",
       "    </tr>\n",
       "    <tr>\n",
       "      <th>1</th>\n",
       "      <td>2B</td>\n",
       "      <td>410</td>\n",
       "      <td>ASF</td>\n",
       "      <td>2966</td>\n",
       "      <td>KZN</td>\n",
       "      <td>2990</td>\n",
       "      <td></td>\n",
       "      <td>0</td>\n",
       "      <td>CR2</td>\n",
       "    </tr>\n",
       "    <tr>\n",
       "      <th>2</th>\n",
       "      <td>2B</td>\n",
       "      <td>410</td>\n",
       "      <td>ASF</td>\n",
       "      <td>2966</td>\n",
       "      <td>MRV</td>\n",
       "      <td>2962</td>\n",
       "      <td></td>\n",
       "      <td>0</td>\n",
       "      <td>CR2</td>\n",
       "    </tr>\n",
       "    <tr>\n",
       "      <th>3</th>\n",
       "      <td>2B</td>\n",
       "      <td>410</td>\n",
       "      <td>CEK</td>\n",
       "      <td>2968</td>\n",
       "      <td>KZN</td>\n",
       "      <td>2990</td>\n",
       "      <td></td>\n",
       "      <td>0</td>\n",
       "      <td>CR2</td>\n",
       "    </tr>\n",
       "    <tr>\n",
       "      <th>4</th>\n",
       "      <td>2B</td>\n",
       "      <td>410</td>\n",
       "      <td>CEK</td>\n",
       "      <td>2968</td>\n",
       "      <td>OVB</td>\n",
       "      <td>4078</td>\n",
       "      <td></td>\n",
       "      <td>0</td>\n",
       "      <td>CR2</td>\n",
       "    </tr>\n",
       "    <tr>\n",
       "      <th>5</th>\n",
       "      <td>2B</td>\n",
       "      <td>410</td>\n",
       "      <td>DME</td>\n",
       "      <td>4029</td>\n",
       "      <td>KZN</td>\n",
       "      <td>2990</td>\n",
       "      <td></td>\n",
       "      <td>0</td>\n",
       "      <td>CR2</td>\n",
       "    </tr>\n",
       "    <tr>\n",
       "      <th>6</th>\n",
       "      <td>2B</td>\n",
       "      <td>410</td>\n",
       "      <td>DME</td>\n",
       "      <td>4029</td>\n",
       "      <td>NBC</td>\n",
       "      <td>6969</td>\n",
       "      <td></td>\n",
       "      <td>0</td>\n",
       "      <td>CR2</td>\n",
       "    </tr>\n",
       "    <tr>\n",
       "      <th>7</th>\n",
       "      <td>2B</td>\n",
       "      <td>410</td>\n",
       "      <td>DME</td>\n",
       "      <td>4029</td>\n",
       "      <td>UUA</td>\n",
       "      <td>6160</td>\n",
       "      <td></td>\n",
       "      <td>0</td>\n",
       "      <td>CR2</td>\n",
       "    </tr>\n",
       "    <tr>\n",
       "      <th>8</th>\n",
       "      <td>2B</td>\n",
       "      <td>410</td>\n",
       "      <td>EGO</td>\n",
       "      <td>6156</td>\n",
       "      <td>KGD</td>\n",
       "      <td>2952</td>\n",
       "      <td></td>\n",
       "      <td>0</td>\n",
       "      <td>CR2</td>\n",
       "    </tr>\n",
       "    <tr>\n",
       "      <th>9</th>\n",
       "      <td>2B</td>\n",
       "      <td>410</td>\n",
       "      <td>EGO</td>\n",
       "      <td>6156</td>\n",
       "      <td>KZN</td>\n",
       "      <td>2990</td>\n",
       "      <td></td>\n",
       "      <td>0</td>\n",
       "      <td>CR2</td>\n",
       "    </tr>\n",
       "    <tr>\n",
       "      <th>10</th>\n",
       "      <td>2B</td>\n",
       "      <td>410</td>\n",
       "      <td>GYD</td>\n",
       "      <td>2922</td>\n",
       "      <td>NBC</td>\n",
       "      <td>6969</td>\n",
       "      <td></td>\n",
       "      <td>0</td>\n",
       "      <td>CR2</td>\n",
       "    </tr>\n",
       "    <tr>\n",
       "      <th>11</th>\n",
       "      <td>2B</td>\n",
       "      <td>410</td>\n",
       "      <td>KGD</td>\n",
       "      <td>2952</td>\n",
       "      <td>EGO</td>\n",
       "      <td>6156</td>\n",
       "      <td></td>\n",
       "      <td>0</td>\n",
       "      <td>CR2</td>\n",
       "    </tr>\n",
       "    <tr>\n",
       "      <th>12</th>\n",
       "      <td>2B</td>\n",
       "      <td>410</td>\n",
       "      <td>KZN</td>\n",
       "      <td>2990</td>\n",
       "      <td>AER</td>\n",
       "      <td>2965</td>\n",
       "      <td></td>\n",
       "      <td>0</td>\n",
       "      <td>CR2</td>\n",
       "    </tr>\n",
       "    <tr>\n",
       "      <th>13</th>\n",
       "      <td>2B</td>\n",
       "      <td>410</td>\n",
       "      <td>KZN</td>\n",
       "      <td>2990</td>\n",
       "      <td>ASF</td>\n",
       "      <td>2966</td>\n",
       "      <td></td>\n",
       "      <td>0</td>\n",
       "      <td>CR2</td>\n",
       "    </tr>\n",
       "    <tr>\n",
       "      <th>14</th>\n",
       "      <td>2B</td>\n",
       "      <td>410</td>\n",
       "      <td>KZN</td>\n",
       "      <td>2990</td>\n",
       "      <td>CEK</td>\n",
       "      <td>2968</td>\n",
       "      <td></td>\n",
       "      <td>0</td>\n",
       "      <td>CR2</td>\n",
       "    </tr>\n",
       "  </tbody>\n",
       "</table>\n",
       "</div>"
      ],
      "text/plain": [
       "   airline_iata_icao  airline_id src_iata_icao  source_id target_iata_icao  \\\n",
       "0                 2B         410           AER       2965              KZN   \n",
       "1                 2B         410           ASF       2966              KZN   \n",
       "2                 2B         410           ASF       2966              MRV   \n",
       "3                 2B         410           CEK       2968              KZN   \n",
       "4                 2B         410           CEK       2968              OVB   \n",
       "5                 2B         410           DME       4029              KZN   \n",
       "6                 2B         410           DME       4029              NBC   \n",
       "7                 2B         410           DME       4029              UUA   \n",
       "8                 2B         410           EGO       6156              KGD   \n",
       "9                 2B         410           EGO       6156              KZN   \n",
       "10                2B         410           GYD       2922              NBC   \n",
       "11                2B         410           KGD       2952              EGO   \n",
       "12                2B         410           KZN       2990              AER   \n",
       "13                2B         410           KZN       2990              ASF   \n",
       "14                2B         410           KZN       2990              CEK   \n",
       "\n",
       "    target_id code_share  stops equipment  \n",
       "0        2990                 0       CR2  \n",
       "1        2990                 0       CR2  \n",
       "2        2962                 0       CR2  \n",
       "3        2990                 0       CR2  \n",
       "4        4078                 0       CR2  \n",
       "5        2990                 0       CR2  \n",
       "6        6969                 0       CR2  \n",
       "7        6160                 0       CR2  \n",
       "8        2952                 0       CR2  \n",
       "9        2990                 0       CR2  \n",
       "10       6969                 0       CR2  \n",
       "11       6156                 0       CR2  \n",
       "12       2965                 0       CR2  \n",
       "13       2966                 0       CR2  \n",
       "14       2968                 0       CR2  "
      ]
     },
     "execution_count": 490,
     "metadata": {},
     "output_type": "execute_result"
    }
   ],
   "source": [
    "routes_df.head(15)"
   ]
  },
  {
   "cell_type": "code",
   "execution_count": 491,
   "metadata": {
    "deletable": false,
    "editable": false,
    "nbgrader": {
     "checksum": "77c9bc510d377503d3ed5b4ce9d73a16",
     "grade": false,
     "grade_id": "routes-describe-1",
     "locked": true,
     "schema_version": 1,
     "solution": false
    }
   },
   "outputs": [
    {
     "data": {
      "text/html": [
       "<div>\n",
       "<style scoped>\n",
       "    .dataframe tbody tr th:only-of-type {\n",
       "        vertical-align: middle;\n",
       "    }\n",
       "\n",
       "    .dataframe tbody tr th {\n",
       "        vertical-align: top;\n",
       "    }\n",
       "\n",
       "    .dataframe thead th {\n",
       "        text-align: right;\n",
       "    }\n",
       "</style>\n",
       "<table border=\"1\" class=\"dataframe\">\n",
       "  <thead>\n",
       "    <tr style=\"text-align: right;\">\n",
       "      <th></th>\n",
       "      <th>airline_id</th>\n",
       "      <th>source_id</th>\n",
       "      <th>target_id</th>\n",
       "      <th>stops</th>\n",
       "    </tr>\n",
       "  </thead>\n",
       "  <tbody>\n",
       "    <tr>\n",
       "      <th>count</th>\n",
       "      <td>66548.000000</td>\n",
       "      <td>66548.000000</td>\n",
       "      <td>66548.000000</td>\n",
       "      <td>66548.000000</td>\n",
       "    </tr>\n",
       "    <tr>\n",
       "      <th>mean</th>\n",
       "      <td>3367.569754</td>\n",
       "      <td>2660.201929</td>\n",
       "      <td>2662.088192</td>\n",
       "      <td>0.000165</td>\n",
       "    </tr>\n",
       "    <tr>\n",
       "      <th>std</th>\n",
       "      <td>3182.024330</td>\n",
       "      <td>1577.965637</td>\n",
       "      <td>1578.661433</td>\n",
       "      <td>0.012856</td>\n",
       "    </tr>\n",
       "    <tr>\n",
       "      <th>min</th>\n",
       "      <td>10.000000</td>\n",
       "      <td>1.000000</td>\n",
       "      <td>1.000000</td>\n",
       "      <td>0.000000</td>\n",
       "    </tr>\n",
       "    <tr>\n",
       "      <th>25%</th>\n",
       "      <td>1317.000000</td>\n",
       "      <td>1382.000000</td>\n",
       "      <td>1382.000000</td>\n",
       "      <td>0.000000</td>\n",
       "    </tr>\n",
       "    <tr>\n",
       "      <th>50%</th>\n",
       "      <td>2942.000000</td>\n",
       "      <td>2958.000000</td>\n",
       "      <td>2958.000000</td>\n",
       "      <td>0.000000</td>\n",
       "    </tr>\n",
       "    <tr>\n",
       "      <th>75%</th>\n",
       "      <td>4608.000000</td>\n",
       "      <td>3670.000000</td>\n",
       "      <td>3670.000000</td>\n",
       "      <td>0.000000</td>\n",
       "    </tr>\n",
       "    <tr>\n",
       "      <th>max</th>\n",
       "      <td>19676.000000</td>\n",
       "      <td>9327.000000</td>\n",
       "      <td>9327.000000</td>\n",
       "      <td>1.000000</td>\n",
       "    </tr>\n",
       "  </tbody>\n",
       "</table>\n",
       "</div>"
      ],
      "text/plain": [
       "         airline_id     source_id     target_id         stops\n",
       "count  66548.000000  66548.000000  66548.000000  66548.000000\n",
       "mean    3367.569754   2660.201929   2662.088192      0.000165\n",
       "std     3182.024330   1577.965637   1578.661433      0.012856\n",
       "min       10.000000      1.000000      1.000000      0.000000\n",
       "25%     1317.000000   1382.000000   1382.000000      0.000000\n",
       "50%     2942.000000   2958.000000   2958.000000      0.000000\n",
       "75%     4608.000000   3670.000000   3670.000000      0.000000\n",
       "max    19676.000000   9327.000000   9327.000000      1.000000"
      ]
     },
     "execution_count": 491,
     "metadata": {},
     "output_type": "execute_result"
    }
   ],
   "source": [
    "routes_df.describe()"
   ]
  },
  {
   "cell_type": "markdown",
   "metadata": {
    "deletable": false,
    "editable": false,
    "nbgrader": {
     "checksum": "e141bdb90745c4a69723b92ef3e62dde",
     "grade": false,
     "grade_id": "step4-1-1",
     "locked": true,
     "schema_version": 1,
     "solution": false
    }
   },
   "source": [
    "### 4.1.1 Computing Flight Routes\n",
    "\n",
    "Now suppose you are interested in what flights are available out of PHL or JFK.  \n",
    "\n",
    "Compute this using `routes_df`, showing just the airline (`airline_iata`), source (`src_iata_icao`) and target (`target_iata_icao`). \n",
    "\n",
    "To make it easier to understand, order the result primarily by `src_iata_icao` and secondarily by `target_iata_icao`.\n",
    "\n",
    "Name your output `JFK_PHL_df` - this is important, since we'll be grading on this. If you do not follow these policies you may lose points and may not get all of them back - see the regrade policy!"
   ]
  },
  {
   "cell_type": "code",
   "execution_count": 492,
   "metadata": {
    "deletable": false,
    "nbgrader": {
     "checksum": "b4b78381242c8b53ec4e8d2cfb56a357",
     "grade": false,
     "grade_id": "jfk_phl",
     "locked": false,
     "schema_version": 1,
     "solution": true
    }
   },
   "outputs": [],
   "source": [
    "# TODO: Select routes out of PHL or JFK, showing just the airline (airline_iata), source (src_iata_icao) \n",
    "# and target (target_iata_icao).  Order the result primarily by src_iata_icao and secondarily by target_iata_icao.\n",
    "\n",
    "# YOUR CODE HERE\n",
    "routes_df = routes_df.rename(columns = {'airline_iata_icao':'airline_iata'})\n",
    "#routes_df\n",
    "JFK_PHL_df = routes_df.loc[routes_df.src_iata_icao.isin(['PHL','JFK'])][['airline_iata','src_iata_icao','target_iata_icao']].sort_values(['src_iata_icao','target_iata_icao'])"
   ]
  },
  {
   "cell_type": "code",
   "execution_count": 493,
   "metadata": {
    "deletable": false,
    "editable": false,
    "nbgrader": {
     "checksum": "6d6fb517ed155b35dec8aa8c1bc3b1f0",
     "grade": false,
     "grade_id": "view-jfk_phl_df",
     "locked": true,
     "schema_version": 1,
     "solution": false
    }
   },
   "outputs": [
    {
     "data": {
      "text/html": [
       "<div>\n",
       "<style scoped>\n",
       "    .dataframe tbody tr th:only-of-type {\n",
       "        vertical-align: middle;\n",
       "    }\n",
       "\n",
       "    .dataframe tbody tr th {\n",
       "        vertical-align: top;\n",
       "    }\n",
       "\n",
       "    .dataframe thead th {\n",
       "        text-align: right;\n",
       "    }\n",
       "</style>\n",
       "<table border=\"1\" class=\"dataframe\">\n",
       "  <thead>\n",
       "    <tr style=\"text-align: right;\">\n",
       "      <th></th>\n",
       "      <th>airline_iata</th>\n",
       "      <th>src_iata_icao</th>\n",
       "      <th>target_iata_icao</th>\n",
       "    </tr>\n",
       "  </thead>\n",
       "  <tbody>\n",
       "    <tr>\n",
       "      <th>13675</th>\n",
       "      <td>B6</td>\n",
       "      <td>JFK</td>\n",
       "      <td>ABQ</td>\n",
       "    </tr>\n",
       "    <tr>\n",
       "      <th>20490</th>\n",
       "      <td>DL</td>\n",
       "      <td>JFK</td>\n",
       "      <td>ACC</td>\n",
       "    </tr>\n",
       "    <tr>\n",
       "      <th>5231</th>\n",
       "      <td>AA</td>\n",
       "      <td>JFK</td>\n",
       "      <td>AMM</td>\n",
       "    </tr>\n",
       "    <tr>\n",
       "      <th>47125</th>\n",
       "      <td>RJ</td>\n",
       "      <td>JFK</td>\n",
       "      <td>AMM</td>\n",
       "    </tr>\n",
       "    <tr>\n",
       "      <th>58517</th>\n",
       "      <td>US</td>\n",
       "      <td>JFK</td>\n",
       "      <td>AMM</td>\n",
       "    </tr>\n",
       "    <tr>\n",
       "      <th>20491</th>\n",
       "      <td>DL</td>\n",
       "      <td>JFK</td>\n",
       "      <td>AMS</td>\n",
       "    </tr>\n",
       "    <tr>\n",
       "      <th>36079</th>\n",
       "      <td>KL</td>\n",
       "      <td>JFK</td>\n",
       "      <td>AMS</td>\n",
       "    </tr>\n",
       "    <tr>\n",
       "      <th>5232</th>\n",
       "      <td>AA</td>\n",
       "      <td>JFK</td>\n",
       "      <td>ANU</td>\n",
       "    </tr>\n",
       "    <tr>\n",
       "      <th>58518</th>\n",
       "      <td>US</td>\n",
       "      <td>JFK</td>\n",
       "      <td>ANU</td>\n",
       "    </tr>\n",
       "    <tr>\n",
       "      <th>22050</th>\n",
       "      <td>DY</td>\n",
       "      <td>JFK</td>\n",
       "      <td>ARN</td>\n",
       "    </tr>\n",
       "    <tr>\n",
       "      <th>9228</th>\n",
       "      <td>AF</td>\n",
       "      <td>JFK</td>\n",
       "      <td>ATL</td>\n",
       "    </tr>\n",
       "    <tr>\n",
       "      <th>10643</th>\n",
       "      <td>AM</td>\n",
       "      <td>JFK</td>\n",
       "      <td>ATL</td>\n",
       "    </tr>\n",
       "    <tr>\n",
       "      <th>13047</th>\n",
       "      <td>AZ</td>\n",
       "      <td>JFK</td>\n",
       "      <td>ATL</td>\n",
       "    </tr>\n",
       "    <tr>\n",
       "      <th>20492</th>\n",
       "      <td>DL</td>\n",
       "      <td>JFK</td>\n",
       "      <td>ATL</td>\n",
       "    </tr>\n",
       "    <tr>\n",
       "      <th>36080</th>\n",
       "      <td>KL</td>\n",
       "      <td>JFK</td>\n",
       "      <td>ATL</td>\n",
       "    </tr>\n",
       "    <tr>\n",
       "      <th>49974</th>\n",
       "      <td>SU</td>\n",
       "      <td>JFK</td>\n",
       "      <td>ATL</td>\n",
       "    </tr>\n",
       "    <tr>\n",
       "      <th>60843</th>\n",
       "      <td>VS</td>\n",
       "      <td>JFK</td>\n",
       "      <td>ATL</td>\n",
       "    </tr>\n",
       "    <tr>\n",
       "      <th>13676</th>\n",
       "      <td>B6</td>\n",
       "      <td>JFK</td>\n",
       "      <td>AUA</td>\n",
       "    </tr>\n",
       "    <tr>\n",
       "      <th>20493</th>\n",
       "      <td>DL</td>\n",
       "      <td>JFK</td>\n",
       "      <td>AUA</td>\n",
       "    </tr>\n",
       "    <tr>\n",
       "      <th>5233</th>\n",
       "      <td>AA</td>\n",
       "      <td>JFK</td>\n",
       "      <td>AUH</td>\n",
       "    </tr>\n",
       "  </tbody>\n",
       "</table>\n",
       "</div>"
      ],
      "text/plain": [
       "      airline_iata src_iata_icao target_iata_icao\n",
       "13675           B6           JFK              ABQ\n",
       "20490           DL           JFK              ACC\n",
       "5231            AA           JFK              AMM\n",
       "47125           RJ           JFK              AMM\n",
       "58517           US           JFK              AMM\n",
       "20491           DL           JFK              AMS\n",
       "36079           KL           JFK              AMS\n",
       "5232            AA           JFK              ANU\n",
       "58518           US           JFK              ANU\n",
       "22050           DY           JFK              ARN\n",
       "9228            AF           JFK              ATL\n",
       "10643           AM           JFK              ATL\n",
       "13047           AZ           JFK              ATL\n",
       "20492           DL           JFK              ATL\n",
       "36080           KL           JFK              ATL\n",
       "49974           SU           JFK              ATL\n",
       "60843           VS           JFK              ATL\n",
       "13676           B6           JFK              AUA\n",
       "20493           DL           JFK              AUA\n",
       "5233            AA           JFK              AUH"
      ]
     },
     "execution_count": 493,
     "metadata": {},
     "output_type": "execute_result"
    }
   ],
   "source": [
    "# View JFK_PHL_df\n",
    "JFK_PHL_df.head(20)"
   ]
  },
  {
   "cell_type": "code",
   "execution_count": 494,
   "metadata": {
    "deletable": false,
    "editable": false,
    "nbgrader": {
     "checksum": "88d23262b37e9cd3150665ef6089a5ed",
     "grade": true,
     "grade_id": "test_jfk-phl-1",
     "locked": true,
     "points": 2,
     "schema_version": 1,
     "solution": false
    }
   },
   "outputs": [
    {
     "name": "stdout",
     "output_type": "stream",
     "text": [
      "[CIS 545 Test Cases] (2 pts)\n"
     ]
    }
   ],
   "source": [
    "# [CIS 545 Test Cases] (2 pts)\n",
    "# Checking your table for correctness\n",
    "\n",
    "if (len(JFK_PHL_df.columns) != 3):\n",
    "    raise ValueError(\"Incorrect number of columns\")\n",
    "    \n",
    "\n",
    "print('[CIS 545 Test Cases] (2 pts)')"
   ]
  },
  {
   "cell_type": "code",
   "execution_count": 495,
   "metadata": {
    "deletable": false,
    "editable": false,
    "nbgrader": {
     "checksum": "3757766bc31ef4e5796878d186527f02",
     "grade": true,
     "grade_id": "test_jfk-phl-2",
     "locked": true,
     "points": 2,
     "schema_version": 1,
     "solution": false
    }
   },
   "outputs": [
    {
     "name": "stdout",
     "output_type": "stream",
     "text": [
      "[CIS 545 Test Cases] (2 pts)\n"
     ]
    }
   ],
   "source": [
    "# [CIS 545 Test Cases] (2 pts)\n",
    "# Checking your table for correctness\n",
    "\n",
    "\n",
    "print('[CIS 545 Test Cases] (2 pts)')"
   ]
  },
  {
   "cell_type": "code",
   "execution_count": 496,
   "metadata": {
    "deletable": false,
    "editable": false,
    "nbgrader": {
     "checksum": "54123d720312eee99d2e71c49ec11088",
     "grade": true,
     "grade_id": "test_jfk-phl-3",
     "locked": true,
     "points": 3,
     "schema_version": 1,
     "solution": false
    }
   },
   "outputs": [
    {
     "name": "stdout",
     "output_type": "stream",
     "text": [
      "[CIS 545 Test Cases] (3 pts)\n"
     ]
    }
   ],
   "source": [
    "# [CIS 545 Test Cases] (3 pts)\n",
    "# Checking values in the table\n",
    "\n",
    "\n",
    "print('[CIS 545 Test Cases] (3 pts)')"
   ]
  },
  {
   "cell_type": "markdown",
   "metadata": {
    "deletable": false,
    "editable": false,
    "nbgrader": {
     "checksum": "02685c25860cef006f29a202e5f3daac",
     "grade": false,
     "grade_id": "step4-1-2",
     "locked": true,
     "schema_version": 1,
     "solution": false
    }
   },
   "source": [
    "### 4.1.2 Busy Airports\n",
    "\n",
    "Now let's understand more about the really busy airports in `routes_df`.  To do this, create a dataframe `busy_df` which shows the number of flights out of each source airport, restricted to those with more than 500 such flights.\n",
    "\n",
    "Your result should be indexed by `src_iata_icao` with an aggregate field labeled `count` - order the result so that the busiest airport is first."
   ]
  },
  {
   "cell_type": "code",
   "execution_count": 497,
   "metadata": {
    "deletable": false,
    "nbgrader": {
     "checksum": "c6eb366acf8fdbec37c92a2147a7f64d",
     "grade": false,
     "grade_id": "busy-airports",
     "locked": false,
     "schema_version": 1,
     "solution": true
    }
   },
   "outputs": [],
   "source": [
    "# TODO: reate a dataframe busy_df which shows the number of flights out of each source airport, \n",
    "# restricted to those with more than 500 such flights. Your result should be indexed by src_iata_icao \n",
    "# with an aggregate field labeled “count”.\n",
    "\n",
    "# YOUR CODE HERE\n",
    "busy_df = routes_df.src_iata_icao.value_counts().to_frame().reset_index()\n",
    "busy_df = busy_df.rename(columns = {'index':'src_iata_icao','src_iata_icao':'count'})\n",
    "busy_df = busy_df.loc[busy_df['count']>=500]\n",
    "#busy_df[busy_df['count']>=500] 等价于上式\n",
    "#busy_df\n",
    "##真的有20个吗？"
   ]
  },
  {
   "cell_type": "code",
   "execution_count": 498,
   "metadata": {
    "deletable": false,
    "editable": false,
    "nbgrader": {
     "checksum": "f1629ad99ddd08f92e56d173151f0dcc",
     "grade": false,
     "grade_id": "view-busy_df",
     "locked": true,
     "schema_version": 1,
     "solution": false
    }
   },
   "outputs": [
    {
     "data": {
      "text/html": [
       "<div>\n",
       "<style scoped>\n",
       "    .dataframe tbody tr th:only-of-type {\n",
       "        vertical-align: middle;\n",
       "    }\n",
       "\n",
       "    .dataframe tbody tr th {\n",
       "        vertical-align: top;\n",
       "    }\n",
       "\n",
       "    .dataframe thead th {\n",
       "        text-align: right;\n",
       "    }\n",
       "</style>\n",
       "<table border=\"1\" class=\"dataframe\">\n",
       "  <thead>\n",
       "    <tr style=\"text-align: right;\">\n",
       "      <th></th>\n",
       "      <th>src_iata_icao</th>\n",
       "      <th>count</th>\n",
       "    </tr>\n",
       "  </thead>\n",
       "  <tbody>\n",
       "    <tr>\n",
       "      <th>0</th>\n",
       "      <td>ATL</td>\n",
       "      <td>909</td>\n",
       "    </tr>\n",
       "    <tr>\n",
       "      <th>1</th>\n",
       "      <td>ORD</td>\n",
       "      <td>558</td>\n",
       "    </tr>\n",
       "    <tr>\n",
       "      <th>2</th>\n",
       "      <td>LHR</td>\n",
       "      <td>527</td>\n",
       "    </tr>\n",
       "    <tr>\n",
       "      <th>3</th>\n",
       "      <td>PEK</td>\n",
       "      <td>527</td>\n",
       "    </tr>\n",
       "    <tr>\n",
       "      <th>4</th>\n",
       "      <td>CDG</td>\n",
       "      <td>524</td>\n",
       "    </tr>\n",
       "  </tbody>\n",
       "</table>\n",
       "</div>"
      ],
      "text/plain": [
       "  src_iata_icao  count\n",
       "0           ATL    909\n",
       "1           ORD    558\n",
       "2           LHR    527\n",
       "3           PEK    527\n",
       "4           CDG    524"
      ]
     },
     "execution_count": 498,
     "metadata": {},
     "output_type": "execute_result"
    }
   ],
   "source": [
    "# View busy_df\n",
    "busy_df.head(20)"
   ]
  },
  {
   "cell_type": "code",
   "execution_count": 499,
   "metadata": {
    "deletable": false,
    "editable": false,
    "nbgrader": {
     "checksum": "a9d4970c26de0d38bb3988480e245ec1",
     "grade": true,
     "grade_id": "test-busy1",
     "locked": true,
     "points": 1,
     "schema_version": 1,
     "solution": false
    }
   },
   "outputs": [
    {
     "name": "stdout",
     "output_type": "stream",
     "text": [
      "[CIS 545 Test Cases] (2 pts)\n"
     ]
    }
   ],
   "source": [
    "# [CIS 545 Test Cases] (2 pts)\n",
    "# Checking table setup\n",
    "\n",
    "\n",
    "print('[CIS 545 Test Cases] (2 pts)')"
   ]
  },
  {
   "cell_type": "code",
   "execution_count": 500,
   "metadata": {
    "deletable": false,
    "editable": false,
    "nbgrader": {
     "checksum": "2f195757f6fb40ec4d625e7d701f3b71",
     "grade": true,
     "grade_id": "test-busy2",
     "locked": true,
     "points": 2,
     "schema_version": 1,
     "solution": false
    }
   },
   "outputs": [
    {
     "name": "stdout",
     "output_type": "stream",
     "text": [
      "[CIS 545 Test Cases] (2 pts)\n"
     ]
    }
   ],
   "source": [
    "# [CIS 545 Test Cases] (2 pts)\n",
    "# Checking table values \n",
    "\n",
    "\n",
    "print('[CIS 545 Test Cases] (2 pts)')"
   ]
  },
  {
   "cell_type": "code",
   "execution_count": 501,
   "metadata": {
    "deletable": false,
    "editable": false,
    "nbgrader": {
     "checksum": "235ca5e86c0842b2298cabbb2bff2c8b",
     "grade": true,
     "grade_id": "test-busy3",
     "locked": true,
     "points": 2,
     "schema_version": 1,
     "solution": false
    }
   },
   "outputs": [
    {
     "name": "stdout",
     "output_type": "stream",
     "text": [
      "[CIS 545 Test Cases] (2 pts)\n"
     ]
    }
   ],
   "source": [
    "# [CIS 545 Test Cases] (2 pts)\n",
    "# Checking table values, more closely \n",
    "\n",
    "\n",
    "print('[CIS 545 Test Cases] (2 pts)')"
   ]
  },
  {
   "cell_type": "markdown",
   "metadata": {
    "deletable": false,
    "editable": false,
    "nbgrader": {
     "checksum": "844acbc1ac26837d941b3d7d8eae9bfe",
     "grade": false,
     "grade_id": "step4-1-3",
     "locked": true,
     "schema_version": 1,
     "solution": false
    }
   },
   "source": [
    "### 4.1.3 Data Visualization\n",
    "\n",
    "Visualize this result using a pie-chart with x as the value of `src_iata_icao` and y as the count. To do this, you will need to import `matplotlib`, and specify \"pie\" as the type of the plot."
   ]
  },
  {
   "cell_type": "code",
   "execution_count": 502,
   "metadata": {
    "deletable": false,
    "editable": false,
    "nbgrader": {
     "checksum": "095df391f22aa6e9a3c662aa5b88934a",
     "grade": false,
     "grade_id": "import-matplotlib",
     "locked": true,
     "schema_version": 1,
     "solution": false
    }
   },
   "outputs": [],
   "source": [
    "import matplotlib.pyplot as plt\n",
    "import numpy as np"
   ]
  },
  {
   "cell_type": "code",
   "execution_count": 503,
   "metadata": {
    "deletable": false,
    "nbgrader": {
     "checksum": "acbf72b2909b86956931bec79c4a8a45",
     "grade": false,
     "grade_id": "busy-piechart",
     "locked": false,
     "schema_version": 1,
     "solution": true
    }
   },
   "outputs": [
    {
     "data": {
      "text/plain": [
       "<matplotlib.axes._subplots.AxesSubplot at 0x7fbf2b4639e8>"
      ]
     },
     "execution_count": 503,
     "metadata": {},
     "output_type": "execute_result"
    },
    {
     "data": {
      "image/png": "[encoded data removed]",
      "text/plain": [
       "<Figure size 432x432 with 1 Axes>"
      ]
     },
     "metadata": {},
     "output_type": "display_data"
    }
   ],
   "source": [
    "# TODO: Create a pie-chart of busy_df \n",
    "# Set x as the value of src_iata_icao and y as the count.\n",
    "\n",
    "# YOUR CODE HERE\n",
    "busy_df.plot(x='src_iata_icao',y='count',kind='pie',figsize = (6,6), labels=busy_df.src_iata_icao)"
   ]
  },
  {
   "cell_type": "markdown",
   "metadata": {
    "deletable": false,
    "editable": false,
    "nbgrader": {
     "checksum": "333a0c934355f02b8bd895d8076811a0",
     "grade": false,
     "grade_id": "step4-2",
     "locked": true,
     "schema_version": 1,
     "solution": false
    }
   },
   "source": [
    "## 4.2 Understanding airline information\n",
    "\n",
    "Now let's understand the *airline* information within the datasets. "
   ]
  },
  {
   "cell_type": "markdown",
   "metadata": {
    "deletable": false,
    "editable": false,
    "nbgrader": {
     "checksum": "35ddd1d80ca78e1bd93441576b63cb45",
     "grade": false,
     "grade_id": "step4-2-1",
     "locked": true,
     "schema_version": 1,
     "solution": false
    }
   },
   "source": [
    "### 4.2.1 Airlines and Flights\n",
    "Start by recalling the details of `airlines_df` and `flights_df`, after extracting `flights_df` from the tables."
   ]
  },
  {
   "cell_type": "code",
   "execution_count": 504,
   "metadata": {
    "deletable": false,
    "nbgrader": {
     "checksum": "da9b15d4d5ce811d04bada63c4929cf2",
     "grade": false,
     "grade_id": "load-flights",
     "locked": false,
     "schema_version": 1,
     "solution": true
    }
   },
   "outputs": [],
   "source": [
    "# TODO: Load flights df from flights as you did earlier\n",
    "\n",
    "# YOUR CODE HERE\n",
    "flights_df = pd.read_sql_query('select * from flights',engine)"
   ]
  },
  {
   "cell_type": "code",
   "execution_count": 505,
   "metadata": {
    "deletable": false,
    "editable": false,
    "nbgrader": {
     "checksum": "fad010c140d3bca1204b6bd35b271b8a",
     "grade": true,
     "grade_id": "test-load-flights",
     "locked": true,
     "points": 1,
     "schema_version": 1,
     "solution": false
    }
   },
   "outputs": [
    {
     "name": "stdout",
     "output_type": "stream",
     "text": [
      "[CIS 545 Test Cases] (2 pts)\n"
     ]
    }
   ],
   "source": [
    "# [CIS 545 Test Cases] (2 pts)\n",
    "# Checking that you pulled flights_df correctly\n",
    "\n",
    "if (len(flights_df) != 570118):\n",
    "    raise ValueError(\"Make sure you imported the correct table!\")\n",
    "\n",
    "\n",
    "print('[CIS 545 Test Cases] (2 pts)')"
   ]
  },
  {
   "cell_type": "code",
   "execution_count": 506,
   "metadata": {
    "deletable": false,
    "editable": false,
    "nbgrader": {
     "checksum": "03ec93313f539cbdfc62e5385d5e53fd",
     "grade": false,
     "grade_id": "airlines-info-1",
     "locked": true,
     "schema_version": 1,
     "solution": false
    }
   },
   "outputs": [
    {
     "name": "stdout",
     "output_type": "stream",
     "text": [
      "<class 'pandas.core.frame.DataFrame'>\n",
      "RangeIndex: 6048 entries, 0 to 6047\n",
      "Data columns (total 8 columns):\n",
      "airline_id          6048 non-null int64\n",
      "airline_name        6048 non-null object\n",
      "alias               6048 non-null object\n",
      "airline_iata        6048 non-null object\n",
      "airline_icao        6048 non-null object\n",
      "airline_callsign    6048 non-null object\n",
      "airline_country     6048 non-null object\n",
      "active              6048 non-null object\n",
      "dtypes: int64(1), object(7)\n",
      "memory usage: 378.1+ KB\n"
     ]
    }
   ],
   "source": [
    "airlines_df.info()"
   ]
  },
  {
   "cell_type": "code",
   "execution_count": 507,
   "metadata": {
    "deletable": false,
    "editable": false,
    "nbgrader": {
     "checksum": "042c9d5a25100920837e207b6a4e4f01",
     "grade": false,
     "grade_id": "airlines-head-1",
     "locked": true,
     "schema_version": 1,
     "solution": false
    }
   },
   "outputs": [
    {
     "data": {
      "text/html": [
       "<div>\n",
       "<style scoped>\n",
       "    .dataframe tbody tr th:only-of-type {\n",
       "        vertical-align: middle;\n",
       "    }\n",
       "\n",
       "    .dataframe tbody tr th {\n",
       "        vertical-align: top;\n",
       "    }\n",
       "\n",
       "    .dataframe thead th {\n",
       "        text-align: right;\n",
       "    }\n",
       "</style>\n",
       "<table border=\"1\" class=\"dataframe\">\n",
       "  <thead>\n",
       "    <tr style=\"text-align: right;\">\n",
       "      <th></th>\n",
       "      <th>airline_id</th>\n",
       "      <th>airline_name</th>\n",
       "      <th>alias</th>\n",
       "      <th>airline_iata</th>\n",
       "      <th>airline_icao</th>\n",
       "      <th>airline_callsign</th>\n",
       "      <th>airline_country</th>\n",
       "      <th>active</th>\n",
       "    </tr>\n",
       "  </thead>\n",
       "  <tbody>\n",
       "    <tr>\n",
       "      <th>0</th>\n",
       "      <td>1</td>\n",
       "      <td>Private flight</td>\n",
       "      <td></td>\n",
       "      <td>-</td>\n",
       "      <td></td>\n",
       "      <td></td>\n",
       "      <td></td>\n",
       "      <td>Y</td>\n",
       "    </tr>\n",
       "    <tr>\n",
       "      <th>1</th>\n",
       "      <td>2</td>\n",
       "      <td>135 Airways</td>\n",
       "      <td></td>\n",
       "      <td></td>\n",
       "      <td>GNL</td>\n",
       "      <td>GENERAL</td>\n",
       "      <td>United States</td>\n",
       "      <td>N</td>\n",
       "    </tr>\n",
       "    <tr>\n",
       "      <th>2</th>\n",
       "      <td>3</td>\n",
       "      <td>1Time Airline</td>\n",
       "      <td></td>\n",
       "      <td>1T</td>\n",
       "      <td>RNX</td>\n",
       "      <td>NEXTIME</td>\n",
       "      <td>South Africa</td>\n",
       "      <td>Y</td>\n",
       "    </tr>\n",
       "    <tr>\n",
       "      <th>3</th>\n",
       "      <td>4</td>\n",
       "      <td>2 Sqn No 1 Elementary Flying Training School</td>\n",
       "      <td></td>\n",
       "      <td></td>\n",
       "      <td>WYT</td>\n",
       "      <td></td>\n",
       "      <td>United Kingdom</td>\n",
       "      <td>N</td>\n",
       "    </tr>\n",
       "    <tr>\n",
       "      <th>4</th>\n",
       "      <td>5</td>\n",
       "      <td>213 Flight Unit</td>\n",
       "      <td></td>\n",
       "      <td></td>\n",
       "      <td>TFU</td>\n",
       "      <td></td>\n",
       "      <td>Russia</td>\n",
       "      <td>N</td>\n",
       "    </tr>\n",
       "    <tr>\n",
       "      <th>5</th>\n",
       "      <td>6</td>\n",
       "      <td>223 Flight Unit State Airline</td>\n",
       "      <td></td>\n",
       "      <td></td>\n",
       "      <td>CHD</td>\n",
       "      <td>CHKALOVSK-AVIA</td>\n",
       "      <td>Russia</td>\n",
       "      <td>N</td>\n",
       "    </tr>\n",
       "    <tr>\n",
       "      <th>6</th>\n",
       "      <td>7</td>\n",
       "      <td>224th Flight Unit</td>\n",
       "      <td></td>\n",
       "      <td></td>\n",
       "      <td>TTF</td>\n",
       "      <td>CARGO UNIT</td>\n",
       "      <td>Russia</td>\n",
       "      <td>N</td>\n",
       "    </tr>\n",
       "    <tr>\n",
       "      <th>7</th>\n",
       "      <td>8</td>\n",
       "      <td>247 Jet Ltd</td>\n",
       "      <td></td>\n",
       "      <td></td>\n",
       "      <td>TWF</td>\n",
       "      <td>CLOUD RUNNER</td>\n",
       "      <td>United Kingdom</td>\n",
       "      <td>N</td>\n",
       "    </tr>\n",
       "    <tr>\n",
       "      <th>8</th>\n",
       "      <td>9</td>\n",
       "      <td>3D Aviation</td>\n",
       "      <td></td>\n",
       "      <td></td>\n",
       "      <td>SEC</td>\n",
       "      <td>SECUREX</td>\n",
       "      <td>United States</td>\n",
       "      <td>N</td>\n",
       "    </tr>\n",
       "    <tr>\n",
       "      <th>9</th>\n",
       "      <td>10</td>\n",
       "      <td>40-Mile Air</td>\n",
       "      <td></td>\n",
       "      <td>Q5</td>\n",
       "      <td>MLA</td>\n",
       "      <td>MILE-AIR</td>\n",
       "      <td>United States</td>\n",
       "      <td>Y</td>\n",
       "    </tr>\n",
       "    <tr>\n",
       "      <th>10</th>\n",
       "      <td>11</td>\n",
       "      <td>4D Air</td>\n",
       "      <td></td>\n",
       "      <td></td>\n",
       "      <td>QRT</td>\n",
       "      <td>QUARTET</td>\n",
       "      <td>Thailand</td>\n",
       "      <td>N</td>\n",
       "    </tr>\n",
       "    <tr>\n",
       "      <th>11</th>\n",
       "      <td>12</td>\n",
       "      <td>611897 Alberta Limited</td>\n",
       "      <td></td>\n",
       "      <td></td>\n",
       "      <td>THD</td>\n",
       "      <td>DONUT</td>\n",
       "      <td>Canada</td>\n",
       "      <td>N</td>\n",
       "    </tr>\n",
       "    <tr>\n",
       "      <th>12</th>\n",
       "      <td>13</td>\n",
       "      <td>Ansett Australia</td>\n",
       "      <td></td>\n",
       "      <td>AN</td>\n",
       "      <td>AAA</td>\n",
       "      <td>ANSETT</td>\n",
       "      <td>Australia</td>\n",
       "      <td>Y</td>\n",
       "    </tr>\n",
       "    <tr>\n",
       "      <th>13</th>\n",
       "      <td>14</td>\n",
       "      <td>Abacus International</td>\n",
       "      <td></td>\n",
       "      <td>1B</td>\n",
       "      <td></td>\n",
       "      <td></td>\n",
       "      <td>Singapore</td>\n",
       "      <td>Y</td>\n",
       "    </tr>\n",
       "    <tr>\n",
       "      <th>14</th>\n",
       "      <td>15</td>\n",
       "      <td>Abelag Aviation</td>\n",
       "      <td></td>\n",
       "      <td>W9</td>\n",
       "      <td>AAB</td>\n",
       "      <td>ABG</td>\n",
       "      <td>Belgium</td>\n",
       "      <td>N</td>\n",
       "    </tr>\n",
       "  </tbody>\n",
       "</table>\n",
       "</div>"
      ],
      "text/plain": [
       "    airline_id                                  airline_name alias  \\\n",
       "0            1                                Private flight         \n",
       "1            2                                   135 Airways         \n",
       "2            3                                 1Time Airline         \n",
       "3            4  2 Sqn No 1 Elementary Flying Training School         \n",
       "4            5                               213 Flight Unit         \n",
       "5            6                 223 Flight Unit State Airline         \n",
       "6            7                             224th Flight Unit         \n",
       "7            8                                   247 Jet Ltd         \n",
       "8            9                                   3D Aviation         \n",
       "9           10                                   40-Mile Air         \n",
       "10          11                                        4D Air         \n",
       "11          12                        611897 Alberta Limited         \n",
       "12          13                              Ansett Australia         \n",
       "13          14                          Abacus International         \n",
       "14          15                               Abelag Aviation         \n",
       "\n",
       "   airline_iata airline_icao airline_callsign airline_country active  \n",
       "0             -                                                    Y  \n",
       "1                        GNL          GENERAL   United States      N  \n",
       "2            1T          RNX          NEXTIME    South Africa      Y  \n",
       "3                        WYT                   United Kingdom      N  \n",
       "4                        TFU                           Russia      N  \n",
       "5                        CHD   CHKALOVSK-AVIA          Russia      N  \n",
       "6                        TTF       CARGO UNIT          Russia      N  \n",
       "7                        TWF     CLOUD RUNNER  United Kingdom      N  \n",
       "8                        SEC          SECUREX   United States      N  \n",
       "9            Q5          MLA         MILE-AIR   United States      Y  \n",
       "10                       QRT          QUARTET        Thailand      N  \n",
       "11                       THD            DONUT          Canada      N  \n",
       "12           AN          AAA           ANSETT       Australia      Y  \n",
       "13           1B                                     Singapore      Y  \n",
       "14           W9          AAB              ABG         Belgium      N  "
      ]
     },
     "execution_count": 507,
     "metadata": {},
     "output_type": "execute_result"
    }
   ],
   "source": [
    "airlines_df.head(15)"
   ]
  },
  {
   "cell_type": "code",
   "execution_count": 508,
   "metadata": {
    "deletable": false,
    "editable": false,
    "nbgrader": {
     "checksum": "d60a5383f93def9256ad23d065589136",
     "grade": false,
     "grade_id": "airlines-describe-1",
     "locked": true,
     "schema_version": 1,
     "solution": false
    }
   },
   "outputs": [
    {
     "data": {
      "text/html": [
       "<div>\n",
       "<style scoped>\n",
       "    .dataframe tbody tr th:only-of-type {\n",
       "        vertical-align: middle;\n",
       "    }\n",
       "\n",
       "    .dataframe tbody tr th {\n",
       "        vertical-align: top;\n",
       "    }\n",
       "\n",
       "    .dataframe thead th {\n",
       "        text-align: right;\n",
       "    }\n",
       "</style>\n",
       "<table border=\"1\" class=\"dataframe\">\n",
       "  <thead>\n",
       "    <tr style=\"text-align: right;\">\n",
       "      <th></th>\n",
       "      <th>airline_id</th>\n",
       "    </tr>\n",
       "  </thead>\n",
       "  <tbody>\n",
       "    <tr>\n",
       "      <th>count</th>\n",
       "      <td>6048.000000</td>\n",
       "    </tr>\n",
       "    <tr>\n",
       "      <th>mean</th>\n",
       "      <td>3844.729167</td>\n",
       "    </tr>\n",
       "    <tr>\n",
       "      <th>std</th>\n",
       "      <td>3945.495487</td>\n",
       "    </tr>\n",
       "    <tr>\n",
       "      <th>min</th>\n",
       "      <td>-1.000000</td>\n",
       "    </tr>\n",
       "    <tr>\n",
       "      <th>25%</th>\n",
       "      <td>1512.750000</td>\n",
       "    </tr>\n",
       "    <tr>\n",
       "      <th>50%</th>\n",
       "      <td>3025.500000</td>\n",
       "    </tr>\n",
       "    <tr>\n",
       "      <th>75%</th>\n",
       "      <td>4543.250000</td>\n",
       "    </tr>\n",
       "    <tr>\n",
       "      <th>max</th>\n",
       "      <td>19845.000000</td>\n",
       "    </tr>\n",
       "  </tbody>\n",
       "</table>\n",
       "</div>"
      ],
      "text/plain": [
       "         airline_id\n",
       "count   6048.000000\n",
       "mean    3844.729167\n",
       "std     3945.495487\n",
       "min       -1.000000\n",
       "25%     1512.750000\n",
       "50%     3025.500000\n",
       "75%     4543.250000\n",
       "max    19845.000000"
      ]
     },
     "execution_count": 508,
     "metadata": {},
     "output_type": "execute_result"
    }
   ],
   "source": [
    "airlines_df.describe()"
   ]
  },
  {
   "cell_type": "code",
   "execution_count": 509,
   "metadata": {
    "deletable": false,
    "editable": false,
    "nbgrader": {
     "checksum": "c766697fdfb293141c81e183a3b51a13",
     "grade": false,
     "grade_id": "flights-info-1",
     "locked": true,
     "schema_version": 1,
     "solution": false
    }
   },
   "outputs": [
    {
     "name": "stdout",
     "output_type": "stream",
     "text": [
      "<class 'pandas.core.frame.DataFrame'>\n",
      "RangeIndex: 570118 entries, 0 to 570117\n",
      "Data columns (total 9 columns):\n",
      "year             570118 non-null int64\n",
      "month            570118 non-null int64\n",
      "day_of_month     570118 non-null int64\n",
      "carrier          570118 non-null object\n",
      "fl_num           570118 non-null int64\n",
      "flight_src       570118 non-null object\n",
      "flight_target    570118 non-null object\n",
      "arr_delay_new    551498 non-null float64\n",
      "cancelled        570118 non-null float64\n",
      "dtypes: float64(2), int64(4), object(3)\n",
      "memory usage: 39.1+ MB\n"
     ]
    }
   ],
   "source": [
    "flights_df.info()"
   ]
  },
  {
   "cell_type": "code",
   "execution_count": 510,
   "metadata": {
    "deletable": false,
    "editable": false,
    "nbgrader": {
     "checksum": "69640a21b73037d31bd8794a886e8dae",
     "grade": false,
     "grade_id": "flights-head-1",
     "locked": true,
     "schema_version": 1,
     "solution": false
    }
   },
   "outputs": [
    {
     "data": {
      "text/html": [
       "<div>\n",
       "<style scoped>\n",
       "    .dataframe tbody tr th:only-of-type {\n",
       "        vertical-align: middle;\n",
       "    }\n",
       "\n",
       "    .dataframe tbody tr th {\n",
       "        vertical-align: top;\n",
       "    }\n",
       "\n",
       "    .dataframe thead th {\n",
       "        text-align: right;\n",
       "    }\n",
       "</style>\n",
       "<table border=\"1\" class=\"dataframe\">\n",
       "  <thead>\n",
       "    <tr style=\"text-align: right;\">\n",
       "      <th></th>\n",
       "      <th>year</th>\n",
       "      <th>month</th>\n",
       "      <th>day_of_month</th>\n",
       "      <th>carrier</th>\n",
       "      <th>fl_num</th>\n",
       "      <th>flight_src</th>\n",
       "      <th>flight_target</th>\n",
       "      <th>arr_delay_new</th>\n",
       "      <th>cancelled</th>\n",
       "    </tr>\n",
       "  </thead>\n",
       "  <tbody>\n",
       "    <tr>\n",
       "      <th>0</th>\n",
       "      <td>2018</td>\n",
       "      <td>1</td>\n",
       "      <td>2</td>\n",
       "      <td>WN</td>\n",
       "      <td>1325</td>\n",
       "      <td>SJU</td>\n",
       "      <td>MCO</td>\n",
       "      <td>0.0</td>\n",
       "      <td>0.0</td>\n",
       "    </tr>\n",
       "    <tr>\n",
       "      <th>1</th>\n",
       "      <td>2018</td>\n",
       "      <td>1</td>\n",
       "      <td>2</td>\n",
       "      <td>WN</td>\n",
       "      <td>5159</td>\n",
       "      <td>SJU</td>\n",
       "      <td>MCO</td>\n",
       "      <td>0.0</td>\n",
       "      <td>0.0</td>\n",
       "    </tr>\n",
       "    <tr>\n",
       "      <th>2</th>\n",
       "      <td>2018</td>\n",
       "      <td>1</td>\n",
       "      <td>2</td>\n",
       "      <td>WN</td>\n",
       "      <td>5890</td>\n",
       "      <td>SJU</td>\n",
       "      <td>MCO</td>\n",
       "      <td>9.0</td>\n",
       "      <td>0.0</td>\n",
       "    </tr>\n",
       "    <tr>\n",
       "      <th>3</th>\n",
       "      <td>2018</td>\n",
       "      <td>1</td>\n",
       "      <td>2</td>\n",
       "      <td>WN</td>\n",
       "      <td>6618</td>\n",
       "      <td>SJU</td>\n",
       "      <td>MCO</td>\n",
       "      <td>0.0</td>\n",
       "      <td>0.0</td>\n",
       "    </tr>\n",
       "    <tr>\n",
       "      <th>4</th>\n",
       "      <td>2018</td>\n",
       "      <td>1</td>\n",
       "      <td>2</td>\n",
       "      <td>WN</td>\n",
       "      <td>1701</td>\n",
       "      <td>SJU</td>\n",
       "      <td>MDW</td>\n",
       "      <td>8.0</td>\n",
       "      <td>0.0</td>\n",
       "    </tr>\n",
       "    <tr>\n",
       "      <th>5</th>\n",
       "      <td>2018</td>\n",
       "      <td>1</td>\n",
       "      <td>2</td>\n",
       "      <td>WN</td>\n",
       "      <td>844</td>\n",
       "      <td>SJU</td>\n",
       "      <td>TPA</td>\n",
       "      <td>23.0</td>\n",
       "      <td>0.0</td>\n",
       "    </tr>\n",
       "    <tr>\n",
       "      <th>6</th>\n",
       "      <td>2018</td>\n",
       "      <td>1</td>\n",
       "      <td>2</td>\n",
       "      <td>WN</td>\n",
       "      <td>4679</td>\n",
       "      <td>SJU</td>\n",
       "      <td>TPA</td>\n",
       "      <td>0.0</td>\n",
       "      <td>0.0</td>\n",
       "    </tr>\n",
       "    <tr>\n",
       "      <th>7</th>\n",
       "      <td>2018</td>\n",
       "      <td>1</td>\n",
       "      <td>2</td>\n",
       "      <td>WN</td>\n",
       "      <td>6294</td>\n",
       "      <td>SLC</td>\n",
       "      <td>BUR</td>\n",
       "      <td>20.0</td>\n",
       "      <td>0.0</td>\n",
       "    </tr>\n",
       "    <tr>\n",
       "      <th>8</th>\n",
       "      <td>2018</td>\n",
       "      <td>1</td>\n",
       "      <td>2</td>\n",
       "      <td>WN</td>\n",
       "      <td>5245</td>\n",
       "      <td>SLC</td>\n",
       "      <td>DAL</td>\n",
       "      <td>0.0</td>\n",
       "      <td>0.0</td>\n",
       "    </tr>\n",
       "    <tr>\n",
       "      <th>9</th>\n",
       "      <td>2018</td>\n",
       "      <td>1</td>\n",
       "      <td>2</td>\n",
       "      <td>WN</td>\n",
       "      <td>2278</td>\n",
       "      <td>SLC</td>\n",
       "      <td>DEN</td>\n",
       "      <td>0.0</td>\n",
       "      <td>0.0</td>\n",
       "    </tr>\n",
       "    <tr>\n",
       "      <th>10</th>\n",
       "      <td>2018</td>\n",
       "      <td>1</td>\n",
       "      <td>2</td>\n",
       "      <td>WN</td>\n",
       "      <td>5125</td>\n",
       "      <td>SLC</td>\n",
       "      <td>DEN</td>\n",
       "      <td>7.0</td>\n",
       "      <td>0.0</td>\n",
       "    </tr>\n",
       "    <tr>\n",
       "      <th>11</th>\n",
       "      <td>2018</td>\n",
       "      <td>1</td>\n",
       "      <td>2</td>\n",
       "      <td>WN</td>\n",
       "      <td>6215</td>\n",
       "      <td>SLC</td>\n",
       "      <td>DEN</td>\n",
       "      <td>0.0</td>\n",
       "      <td>0.0</td>\n",
       "    </tr>\n",
       "    <tr>\n",
       "      <th>12</th>\n",
       "      <td>2018</td>\n",
       "      <td>1</td>\n",
       "      <td>2</td>\n",
       "      <td>WN</td>\n",
       "      <td>6913</td>\n",
       "      <td>SLC</td>\n",
       "      <td>DEN</td>\n",
       "      <td>23.0</td>\n",
       "      <td>0.0</td>\n",
       "    </tr>\n",
       "    <tr>\n",
       "      <th>13</th>\n",
       "      <td>2018</td>\n",
       "      <td>1</td>\n",
       "      <td>2</td>\n",
       "      <td>WN</td>\n",
       "      <td>3731</td>\n",
       "      <td>SLC</td>\n",
       "      <td>HOU</td>\n",
       "      <td>94.0</td>\n",
       "      <td>0.0</td>\n",
       "    </tr>\n",
       "    <tr>\n",
       "      <th>14</th>\n",
       "      <td>2018</td>\n",
       "      <td>1</td>\n",
       "      <td>2</td>\n",
       "      <td>WN</td>\n",
       "      <td>5549</td>\n",
       "      <td>SLC</td>\n",
       "      <td>LAS</td>\n",
       "      <td>0.0</td>\n",
       "      <td>0.0</td>\n",
       "    </tr>\n",
       "  </tbody>\n",
       "</table>\n",
       "</div>"
      ],
      "text/plain": [
       "    year  month  day_of_month carrier  fl_num flight_src flight_target  \\\n",
       "0   2018      1             2      WN    1325        SJU           MCO   \n",
       "1   2018      1             2      WN    5159        SJU           MCO   \n",
       "2   2018      1             2      WN    5890        SJU           MCO   \n",
       "3   2018      1             2      WN    6618        SJU           MCO   \n",
       "4   2018      1             2      WN    1701        SJU           MDW   \n",
       "5   2018      1             2      WN     844        SJU           TPA   \n",
       "6   2018      1             2      WN    4679        SJU           TPA   \n",
       "7   2018      1             2      WN    6294        SLC           BUR   \n",
       "8   2018      1             2      WN    5245        SLC           DAL   \n",
       "9   2018      1             2      WN    2278        SLC           DEN   \n",
       "10  2018      1             2      WN    5125        SLC           DEN   \n",
       "11  2018      1             2      WN    6215        SLC           DEN   \n",
       "12  2018      1             2      WN    6913        SLC           DEN   \n",
       "13  2018      1             2      WN    3731        SLC           HOU   \n",
       "14  2018      1             2      WN    5549        SLC           LAS   \n",
       "\n",
       "    arr_delay_new  cancelled  \n",
       "0             0.0        0.0  \n",
       "1             0.0        0.0  \n",
       "2             9.0        0.0  \n",
       "3             0.0        0.0  \n",
       "4             8.0        0.0  \n",
       "5            23.0        0.0  \n",
       "6             0.0        0.0  \n",
       "7            20.0        0.0  \n",
       "8             0.0        0.0  \n",
       "9             0.0        0.0  \n",
       "10            7.0        0.0  \n",
       "11            0.0        0.0  \n",
       "12           23.0        0.0  \n",
       "13           94.0        0.0  \n",
       "14            0.0        0.0  "
      ]
     },
     "execution_count": 510,
     "metadata": {},
     "output_type": "execute_result"
    }
   ],
   "source": [
    "flights_df.head(15)"
   ]
  },
  {
   "cell_type": "code",
   "execution_count": 511,
   "metadata": {
    "deletable": false,
    "editable": false,
    "nbgrader": {
     "checksum": "ac964d0412fe6d8858381168eabc99e1",
     "grade": false,
     "grade_id": "flights-describe-1",
     "locked": true,
     "schema_version": 1,
     "solution": false
    }
   },
   "outputs": [
    {
     "data": {
      "text/html": [
       "<div>\n",
       "<style scoped>\n",
       "    .dataframe tbody tr th:only-of-type {\n",
       "        vertical-align: middle;\n",
       "    }\n",
       "\n",
       "    .dataframe tbody tr th {\n",
       "        vertical-align: top;\n",
       "    }\n",
       "\n",
       "    .dataframe thead th {\n",
       "        text-align: right;\n",
       "    }\n",
       "</style>\n",
       "<table border=\"1\" class=\"dataframe\">\n",
       "  <thead>\n",
       "    <tr style=\"text-align: right;\">\n",
       "      <th></th>\n",
       "      <th>year</th>\n",
       "      <th>month</th>\n",
       "      <th>day_of_month</th>\n",
       "      <th>fl_num</th>\n",
       "      <th>arr_delay_new</th>\n",
       "      <th>cancelled</th>\n",
       "    </tr>\n",
       "  </thead>\n",
       "  <tbody>\n",
       "    <tr>\n",
       "      <th>count</th>\n",
       "      <td>570118.0</td>\n",
       "      <td>570118.0</td>\n",
       "      <td>570118.000000</td>\n",
       "      <td>570118.000000</td>\n",
       "      <td>551498.000000</td>\n",
       "      <td>570118.000000</td>\n",
       "    </tr>\n",
       "    <tr>\n",
       "      <th>mean</th>\n",
       "      <td>2018.0</td>\n",
       "      <td>1.0</td>\n",
       "      <td>15.934526</td>\n",
       "      <td>2573.227781</td>\n",
       "      <td>12.697799</td>\n",
       "      <td>0.030115</td>\n",
       "    </tr>\n",
       "    <tr>\n",
       "      <th>std</th>\n",
       "      <td>0.0</td>\n",
       "      <td>0.0</td>\n",
       "      <td>8.983067</td>\n",
       "      <td>1886.212325</td>\n",
       "      <td>44.624218</td>\n",
       "      <td>0.170903</td>\n",
       "    </tr>\n",
       "    <tr>\n",
       "      <th>min</th>\n",
       "      <td>2018.0</td>\n",
       "      <td>1.0</td>\n",
       "      <td>1.000000</td>\n",
       "      <td>1.000000</td>\n",
       "      <td>0.000000</td>\n",
       "      <td>0.000000</td>\n",
       "    </tr>\n",
       "    <tr>\n",
       "      <th>25%</th>\n",
       "      <td>2018.0</td>\n",
       "      <td>1.0</td>\n",
       "      <td>8.000000</td>\n",
       "      <td>924.000000</td>\n",
       "      <td>0.000000</td>\n",
       "      <td>0.000000</td>\n",
       "    </tr>\n",
       "    <tr>\n",
       "      <th>50%</th>\n",
       "      <td>2018.0</td>\n",
       "      <td>1.0</td>\n",
       "      <td>16.000000</td>\n",
       "      <td>2027.000000</td>\n",
       "      <td>0.000000</td>\n",
       "      <td>0.000000</td>\n",
       "    </tr>\n",
       "    <tr>\n",
       "      <th>75%</th>\n",
       "      <td>2018.0</td>\n",
       "      <td>1.0</td>\n",
       "      <td>24.000000</td>\n",
       "      <td>4041.000000</td>\n",
       "      <td>6.000000</td>\n",
       "      <td>0.000000</td>\n",
       "    </tr>\n",
       "    <tr>\n",
       "      <th>max</th>\n",
       "      <td>2018.0</td>\n",
       "      <td>1.0</td>\n",
       "      <td>31.000000</td>\n",
       "      <td>7439.000000</td>\n",
       "      <td>2023.000000</td>\n",
       "      <td>1.000000</td>\n",
       "    </tr>\n",
       "  </tbody>\n",
       "</table>\n",
       "</div>"
      ],
      "text/plain": [
       "           year     month   day_of_month         fl_num  arr_delay_new  \\\n",
       "count  570118.0  570118.0  570118.000000  570118.000000  551498.000000   \n",
       "mean     2018.0       1.0      15.934526    2573.227781      12.697799   \n",
       "std         0.0       0.0       8.983067    1886.212325      44.624218   \n",
       "min      2018.0       1.0       1.000000       1.000000       0.000000   \n",
       "25%      2018.0       1.0       8.000000     924.000000       0.000000   \n",
       "50%      2018.0       1.0      16.000000    2027.000000       0.000000   \n",
       "75%      2018.0       1.0      24.000000    4041.000000       6.000000   \n",
       "max      2018.0       1.0      31.000000    7439.000000    2023.000000   \n",
       "\n",
       "           cancelled  \n",
       "count  570118.000000  \n",
       "mean        0.030115  \n",
       "std         0.170903  \n",
       "min         0.000000  \n",
       "25%         0.000000  \n",
       "50%         0.000000  \n",
       "75%         0.000000  \n",
       "max         1.000000  "
      ]
     },
     "execution_count": 511,
     "metadata": {},
     "output_type": "execute_result"
    }
   ],
   "source": [
    "flights_df.describe()"
   ]
  },
  {
   "cell_type": "markdown",
   "metadata": {
    "deletable": false,
    "editable": false,
    "nbgrader": {
     "checksum": "9911282db7f25e44ba4c0f642f113f06",
     "grade": false,
     "grade_id": "step4-2-2",
     "locked": true,
     "schema_version": 1,
     "solution": false
    }
   },
   "source": [
    "### 4.2.2 Airline Computations\n",
    "\n",
    "Now calculate the following information about airlines in the datasets. Be careful with capitalization and spelling!\n",
    "\n",
    "- active_airlines: the number of active airlines in `airlines_df` \n",
    "\n",
    "- flights_airlines:  the number of different airlines in `flights_df`\n",
    "\n",
    "- missing_flights:  the number of *active* airlines in `airlines_df` that are not in `flights_df`\n",
    "\n",
    "Output these in a dictionary called **results** with three keys: `active_airlines`, `flights_airlines`, `missing_flights`.  \n",
    "\n",
    "*Hint:  Be careul to use the right identifier for airlines.*"
   ]
  },
  {
   "cell_type": "code",
   "execution_count": 512,
   "metadata": {
    "deletable": false,
    "nbgrader": {
     "checksum": "d91ef62397b781d9b715cd0820f5cc82",
     "grade": false,
     "grade_id": "airline_dict",
     "locked": false,
     "schema_version": 1,
     "solution": true
    }
   },
   "outputs": [
    {
     "name": "stderr",
     "output_type": "stream",
     "text": [
      "/opt/conda/lib/python3.6/site-packages/ipykernel_launcher.py:9: UserWarning: Boolean Series key will be reindexed to match DataFrame index.\n",
      "  if __name__ == '__main__':\n"
     ]
    }
   ],
   "source": [
    "# TODO: output dictionary results {‘active_Airlines’: ___, ‘routes_Airlines’: ___, ‘missing_Routes’: ___}\n",
    "\n",
    "# YOUR CODE HERE\n",
    "results = {'active_airlines':[],'flights_airlines':[],'missing_flights':[]}\n",
    "airlines_df.duplicated().value_counts()\n",
    "#airlines_df[airlines_df.duplicated(subset=['airline_name','active'])]\n",
    "results['active_airlines'] = airlines_df.active.value_counts()[1]\n",
    "results['flights_airlines'] = len(flights_df['carrier'].drop_duplicates())\n",
    "results['missing_flights'] = len(airlines_df[airlines_df['active']=='Y'][~airlines_df['airline_iata'].isin(flights_df['carrier'])])\n",
    "##这几个数不知道对不对\n"
   ]
  },
  {
   "cell_type": "code",
   "execution_count": 513,
   "metadata": {
    "deletable": false,
    "editable": false,
    "nbgrader": {
     "checksum": "9b850d2cb45df39f1a999695b6a9c956",
     "grade": false,
     "grade_id": "view-results-dict",
     "locked": true,
     "schema_version": 1,
     "solution": false
    }
   },
   "outputs": [
    {
     "data": {
      "text/plain": [
       "{'active_airlines': 1161, 'flights_airlines': 18, 'missing_flights': 1143}"
      ]
     },
     "execution_count": 513,
     "metadata": {},
     "output_type": "execute_result"
    }
   ],
   "source": [
    "# View results\n",
    "results"
   ]
  },
  {
   "cell_type": "code",
   "execution_count": 514,
   "metadata": {
    "deletable": false,
    "editable": false,
    "nbgrader": {
     "checksum": "0588c3d344c5f025e4b133b987876251",
     "grade": true,
     "grade_id": "test-results1",
     "locked": true,
     "points": 2,
     "schema_version": 1,
     "solution": false
    }
   },
   "outputs": [
    {
     "name": "stdout",
     "output_type": "stream",
     "text": [
      "[CIS 545 Test Cases] (2 pts)\n"
     ]
    }
   ],
   "source": [
    "# [CIS 545 Test Cases] (2 pts)\n",
    "# Checking the structure and values of results\n",
    "\n",
    "if (type(results) != dict):\n",
    "    raise TypeError(\"You didn't create a dictionary\")\n",
    "\n",
    "\n",
    "print('[CIS 545 Test Cases] (2 pts)')"
   ]
  },
  {
   "cell_type": "code",
   "execution_count": 515,
   "metadata": {
    "deletable": false,
    "editable": false,
    "nbgrader": {
     "checksum": "841c0263c477dea2b3198e9f9fa7d99a",
     "grade": true,
     "grade_id": "test-results2",
     "locked": true,
     "points": 1,
     "schema_version": 1,
     "solution": false
    }
   },
   "outputs": [
    {
     "name": "stdout",
     "output_type": "stream",
     "text": [
      "[CIS 545 Test Cases] (1 pt)\n"
     ]
    }
   ],
   "source": [
    "# [CIS 545 Test Cases] (1 pt)\n",
    "# Checking the structure and values of results\n",
    "\n",
    "\n",
    "print('[CIS 545 Test Cases] (1 pt)')"
   ]
  },
  {
   "cell_type": "code",
   "execution_count": 516,
   "metadata": {
    "deletable": false,
    "editable": false,
    "nbgrader": {
     "checksum": "0cbfe61197020a65e6900534719d7d97",
     "grade": true,
     "grade_id": "test-results4",
     "locked": true,
     "points": 1,
     "schema_version": 1,
     "solution": false
    }
   },
   "outputs": [
    {
     "name": "stdout",
     "output_type": "stream",
     "text": [
      "[CIS 545 Test Cases] (1 pt)\n"
     ]
    }
   ],
   "source": [
    "# [CIS 545 Test Cases] (1 pt)\n",
    "# Checking the structure and values of results\n",
    "\n",
    "\n",
    "print('[CIS 545 Test Cases] (1 pt)')"
   ]
  },
  {
   "cell_type": "code",
   "execution_count": 517,
   "metadata": {
    "deletable": false,
    "editable": false,
    "nbgrader": {
     "checksum": "4a487e36382eb12e959ca42102f94a31",
     "grade": true,
     "grade_id": "test-results5",
     "locked": true,
     "points": 1,
     "schema_version": 1,
     "solution": false
    }
   },
   "outputs": [
    {
     "name": "stdout",
     "output_type": "stream",
     "text": [
      "[CIS 545 Test Cases] (1 pt)\n"
     ]
    }
   ],
   "source": [
    "# [CIS 545 Test Cases] (1 pt)\n",
    "# Checking the structure and values of results\n",
    "\n",
    "\n",
    "print('[CIS 545 Test Cases] (1 pt)')"
   ]
  },
  {
   "cell_type": "markdown",
   "metadata": {
    "deletable": false,
    "editable": false,
    "nbgrader": {
     "checksum": "d54a84f9735c7b5e9fe8fdf4d1f634d7",
     "grade": false,
     "grade_id": "step4-2-3",
     "locked": true,
     "schema_version": 1,
     "solution": false
    }
   },
   "source": [
    "### 4.2.3 \"Risky\" Airlines\n",
    "\n",
    "Using `incidents_df`, we want to understand the “risky” airlines.  To do this, calculate the frequency of occurrence of each airline in `incidents_df`, and choose the top-10.  Your result should be a DataFrame called `risky_df` indexed by rank (0 being the most risky), and columns `Airline` and `count`\n",
    "\n",
    "You may find the `.reset_index()` method useful.\n",
    "\n",
    "Again, we will start by recalling details about `incidents_df`."
   ]
  },
  {
   "cell_type": "code",
   "execution_count": 518,
   "metadata": {
    "deletable": false,
    "nbgrader": {
     "checksum": "ec83ff70f331eb79957de84f8a4bfe50",
     "grade": false,
     "grade_id": "cell-fdb2e4e2cff87fed",
     "locked": false,
     "schema_version": 1,
     "solution": true
    }
   },
   "outputs": [],
   "source": [
    "# YOUR CODE HERE\n",
    "incidents_df = pd.read_sql_query('select * from incidents', engine)"
   ]
  },
  {
   "cell_type": "code",
   "execution_count": 519,
   "metadata": {
    "deletable": false,
    "editable": false,
    "nbgrader": {
     "checksum": "b6e3aa33ed011062010d68b135858ffe",
     "grade": false,
     "grade_id": "incidents-info-1",
     "locked": true,
     "schema_version": 1,
     "solution": false
    }
   },
   "outputs": [
    {
     "name": "stdout",
     "output_type": "stream",
     "text": [
      "<class 'pandas.core.frame.DataFrame'>\n",
      "RangeIndex: 322 entries, 0 to 321\n",
      "Data columns (total 3 columns):\n",
      "Date         322 non-null object\n",
      "Airline      322 non-null object\n",
      "FlightNum    322 non-null object\n",
      "dtypes: object(3)\n",
      "memory usage: 7.6+ KB\n"
     ]
    }
   ],
   "source": [
    "incidents_df.info()"
   ]
  },
  {
   "cell_type": "code",
   "execution_count": 520,
   "metadata": {
    "deletable": false,
    "editable": false,
    "nbgrader": {
     "checksum": "6f0374853d242f8bdbd5da0841990315",
     "grade": false,
     "grade_id": "incidents-head1",
     "locked": true,
     "schema_version": 1,
     "solution": false
    }
   },
   "outputs": [
    {
     "data": {
      "text/html": [
       "<div>\n",
       "<style scoped>\n",
       "    .dataframe tbody tr th:only-of-type {\n",
       "        vertical-align: middle;\n",
       "    }\n",
       "\n",
       "    .dataframe tbody tr th {\n",
       "        vertical-align: top;\n",
       "    }\n",
       "\n",
       "    .dataframe thead th {\n",
       "        text-align: right;\n",
       "    }\n",
       "</style>\n",
       "<table border=\"1\" class=\"dataframe\">\n",
       "  <thead>\n",
       "    <tr style=\"text-align: right;\">\n",
       "      <th></th>\n",
       "      <th>Date</th>\n",
       "      <th>Airline</th>\n",
       "      <th>FlightNum</th>\n",
       "    </tr>\n",
       "  </thead>\n",
       "  <tbody>\n",
       "    <tr>\n",
       "      <th>0</th>\n",
       "      <td>1997-01-09 00:00:00</td>\n",
       "      <td>Comair</td>\n",
       "      <td>3272</td>\n",
       "    </tr>\n",
       "    <tr>\n",
       "      <th>1</th>\n",
       "      <td>1997-03-18 00:00:00</td>\n",
       "      <td>Stavropolskaya Aktsionernaya Avia</td>\n",
       "      <td>1023</td>\n",
       "    </tr>\n",
       "    <tr>\n",
       "      <th>2</th>\n",
       "      <td>1997-04-19 00:00:00</td>\n",
       "      <td>Merpati Nusantara Airlines</td>\n",
       "      <td>106</td>\n",
       "    </tr>\n",
       "    <tr>\n",
       "      <th>3</th>\n",
       "      <td>1997-05-08 00:00:00</td>\n",
       "      <td>China Southern Airlines</td>\n",
       "      <td>3456</td>\n",
       "    </tr>\n",
       "    <tr>\n",
       "      <th>4</th>\n",
       "      <td>1997-07-31 00:00:00</td>\n",
       "      <td>FedEx Express</td>\n",
       "      <td>14</td>\n",
       "    </tr>\n",
       "    <tr>\n",
       "      <th>5</th>\n",
       "      <td>1997-07-17 00:00:00</td>\n",
       "      <td>Sempati Air</td>\n",
       "      <td>304</td>\n",
       "    </tr>\n",
       "    <tr>\n",
       "      <th>6</th>\n",
       "      <td>1997-08-06 00:00:00</td>\n",
       "      <td>Korean Air</td>\n",
       "      <td>801</td>\n",
       "    </tr>\n",
       "    <tr>\n",
       "      <th>7</th>\n",
       "      <td>1997-08-10 00:00:00</td>\n",
       "      <td>Formosa Airlines</td>\n",
       "      <td>7601</td>\n",
       "    </tr>\n",
       "    <tr>\n",
       "      <th>8</th>\n",
       "      <td>1997-09-03 00:00:00</td>\n",
       "      <td>Vietnam Airlines</td>\n",
       "      <td>815</td>\n",
       "    </tr>\n",
       "    <tr>\n",
       "      <th>9</th>\n",
       "      <td>1997-09-06 00:00:00</td>\n",
       "      <td>Royal Brunei Airlines</td>\n",
       "      <td>238</td>\n",
       "    </tr>\n",
       "  </tbody>\n",
       "</table>\n",
       "</div>"
      ],
      "text/plain": [
       "                  Date                            Airline FlightNum\n",
       "0  1997-01-09 00:00:00                             Comair      3272\n",
       "1  1997-03-18 00:00:00  Stavropolskaya Aktsionernaya Avia      1023\n",
       "2  1997-04-19 00:00:00         Merpati Nusantara Airlines       106\n",
       "3  1997-05-08 00:00:00            China Southern Airlines      3456\n",
       "4  1997-07-31 00:00:00                      FedEx Express        14\n",
       "5  1997-07-17 00:00:00                        Sempati Air       304\n",
       "6  1997-08-06 00:00:00                         Korean Air       801\n",
       "7  1997-08-10 00:00:00                   Formosa Airlines      7601\n",
       "8  1997-09-03 00:00:00                   Vietnam Airlines       815\n",
       "9  1997-09-06 00:00:00              Royal Brunei Airlines       238"
      ]
     },
     "execution_count": 520,
     "metadata": {},
     "output_type": "execute_result"
    }
   ],
   "source": [
    "incidents_df.head(10)"
   ]
  },
  {
   "cell_type": "code",
   "execution_count": 521,
   "metadata": {
    "deletable": false,
    "editable": false,
    "nbgrader": {
     "checksum": "24d714ecaae3b3b6b50ae40af432ab51",
     "grade": false,
     "grade_id": "incidents-describe1",
     "locked": true,
     "schema_version": 1,
     "solution": false
    }
   },
   "outputs": [
    {
     "data": {
      "text/html": [
       "<div>\n",
       "<style scoped>\n",
       "    .dataframe tbody tr th:only-of-type {\n",
       "        vertical-align: middle;\n",
       "    }\n",
       "\n",
       "    .dataframe tbody tr th {\n",
       "        vertical-align: top;\n",
       "    }\n",
       "\n",
       "    .dataframe thead th {\n",
       "        text-align: right;\n",
       "    }\n",
       "</style>\n",
       "<table border=\"1\" class=\"dataframe\">\n",
       "  <thead>\n",
       "    <tr style=\"text-align: right;\">\n",
       "      <th></th>\n",
       "      <th>Date</th>\n",
       "      <th>Airline</th>\n",
       "      <th>FlightNum</th>\n",
       "    </tr>\n",
       "  </thead>\n",
       "  <tbody>\n",
       "    <tr>\n",
       "      <th>count</th>\n",
       "      <td>322</td>\n",
       "      <td>322</td>\n",
       "      <td>322</td>\n",
       "    </tr>\n",
       "    <tr>\n",
       "      <th>unique</th>\n",
       "      <td>309</td>\n",
       "      <td>240</td>\n",
       "      <td>302</td>\n",
       "    </tr>\n",
       "    <tr>\n",
       "      <th>top</th>\n",
       "      <td>2001-09-11 00:00:00</td>\n",
       "      <td>American Airlines</td>\n",
       "      <td>120</td>\n",
       "    </tr>\n",
       "    <tr>\n",
       "      <th>freq</th>\n",
       "      <td>4</td>\n",
       "      <td>6</td>\n",
       "      <td>3</td>\n",
       "    </tr>\n",
       "  </tbody>\n",
       "</table>\n",
       "</div>"
      ],
      "text/plain": [
       "                       Date            Airline FlightNum\n",
       "count                   322                322       322\n",
       "unique                  309                240       302\n",
       "top     2001-09-11 00:00:00  American Airlines       120\n",
       "freq                      4                  6         3"
      ]
     },
     "execution_count": 521,
     "metadata": {},
     "output_type": "execute_result"
    }
   ],
   "source": [
    "incidents_df.describe()"
   ]
  },
  {
   "cell_type": "code",
   "execution_count": 522,
   "metadata": {
    "deletable": false,
    "nbgrader": {
     "checksum": "9d2286518bb7a0f01675766ef57359f9",
     "grade": false,
     "grade_id": "risky_df",
     "locked": false,
     "schema_version": 1,
     "solution": true
    }
   },
   "outputs": [],
   "source": [
    "# TODO: calculate top-10 \"risky\" airlines\n",
    "# Put result in a DataFrame called risky_df \n",
    "# Index your df by rank (0 being the most frequent), and having columns 'Airline' and 'count'.\n",
    "\n",
    "# YOUR CODE HERE\n",
    "risky_df = incidents_df['Airline'].value_counts(ascending = False)[:10].to_frame().reset_index()\n",
    "risky_df.columns = ['Airline','count']"
   ]
  },
  {
   "cell_type": "code",
   "execution_count": 523,
   "metadata": {
    "deletable": false,
    "editable": false,
    "nbgrader": {
     "checksum": "965103394999fe3b0f8988a06fc624d4",
     "grade": false,
     "grade_id": "view-risky",
     "locked": true,
     "schema_version": 1,
     "solution": false
    }
   },
   "outputs": [
    {
     "data": {
      "text/html": [
       "<div>\n",
       "<style scoped>\n",
       "    .dataframe tbody tr th:only-of-type {\n",
       "        vertical-align: middle;\n",
       "    }\n",
       "\n",
       "    .dataframe tbody tr th {\n",
       "        vertical-align: top;\n",
       "    }\n",
       "\n",
       "    .dataframe thead th {\n",
       "        text-align: right;\n",
       "    }\n",
       "</style>\n",
       "<table border=\"1\" class=\"dataframe\">\n",
       "  <thead>\n",
       "    <tr style=\"text-align: right;\">\n",
       "      <th></th>\n",
       "      <th>Airline</th>\n",
       "      <th>count</th>\n",
       "    </tr>\n",
       "  </thead>\n",
       "  <tbody>\n",
       "    <tr>\n",
       "      <th>0</th>\n",
       "      <td>American Airlines</td>\n",
       "      <td>6</td>\n",
       "    </tr>\n",
       "    <tr>\n",
       "      <th>1</th>\n",
       "      <td>Turkish Airlines</td>\n",
       "      <td>6</td>\n",
       "    </tr>\n",
       "    <tr>\n",
       "      <th>2</th>\n",
       "      <td>EgyptAir</td>\n",
       "      <td>5</td>\n",
       "    </tr>\n",
       "    <tr>\n",
       "      <th>3</th>\n",
       "      <td>Merpati Nusantara Airlines</td>\n",
       "      <td>5</td>\n",
       "    </tr>\n",
       "    <tr>\n",
       "      <th>4</th>\n",
       "      <td>Air France</td>\n",
       "      <td>5</td>\n",
       "    </tr>\n",
       "    <tr>\n",
       "      <th>5</th>\n",
       "      <td>Southwest Airlines</td>\n",
       "      <td>5</td>\n",
       "    </tr>\n",
       "    <tr>\n",
       "      <th>6</th>\n",
       "      <td>China Airlines</td>\n",
       "      <td>4</td>\n",
       "    </tr>\n",
       "    <tr>\n",
       "      <th>7</th>\n",
       "      <td>FedEx Express</td>\n",
       "      <td>4</td>\n",
       "    </tr>\n",
       "    <tr>\n",
       "      <th>8</th>\n",
       "      <td>Qantas</td>\n",
       "      <td>4</td>\n",
       "    </tr>\n",
       "    <tr>\n",
       "      <th>9</th>\n",
       "      <td>British Airways</td>\n",
       "      <td>4</td>\n",
       "    </tr>\n",
       "  </tbody>\n",
       "</table>\n",
       "</div>"
      ],
      "text/plain": [
       "                      Airline  count\n",
       "0           American Airlines      6\n",
       "1            Turkish Airlines      6\n",
       "2                    EgyptAir      5\n",
       "3  Merpati Nusantara Airlines      5\n",
       "4                  Air France      5\n",
       "5          Southwest Airlines      5\n",
       "6              China Airlines      4\n",
       "7               FedEx Express      4\n",
       "8                      Qantas      4\n",
       "9             British Airways      4"
      ]
     },
     "execution_count": 523,
     "metadata": {},
     "output_type": "execute_result"
    }
   ],
   "source": [
    "# View your dataframe\n",
    "risky_df"
   ]
  },
  {
   "cell_type": "code",
   "execution_count": 524,
   "metadata": {
    "deletable": false,
    "editable": false,
    "nbgrader": {
     "checksum": "d2e019d61433f1dd2884070ad004afb7",
     "grade": true,
     "grade_id": "test-risky1",
     "locked": true,
     "points": 1,
     "schema_version": 1,
     "solution": false
    }
   },
   "outputs": [
    {
     "name": "stdout",
     "output_type": "stream",
     "text": [
      "[CIS 545 Test Cases] (1 pt)\n"
     ]
    }
   ],
   "source": [
    "# [CIS 545 Test Cases] (1 pt)\n",
    "# Checking that you created risky_df's base structure\n",
    "\n",
    "\n",
    "print('[CIS 545 Test Cases] (1 pt)')"
   ]
  },
  {
   "cell_type": "code",
   "execution_count": 525,
   "metadata": {
    "deletable": false,
    "editable": false,
    "nbgrader": {
     "checksum": "a7fe76af24785063672e1316a7ea9cad",
     "grade": true,
     "grade_id": "test-risky2",
     "locked": true,
     "points": 2,
     "schema_version": 1,
     "solution": false
    }
   },
   "outputs": [
    {
     "name": "stdout",
     "output_type": "stream",
     "text": [
      "[CIS 545 Test Cases] (2 pts)\n"
     ]
    }
   ],
   "source": [
    "# [CIS 545 Test Cases] (2 pts)\n",
    "# Checking that you created risky_df correctly\n",
    "\n",
    "\n",
    "print('[CIS 545 Test Cases] (2 pts)')"
   ]
  },
  {
   "cell_type": "code",
   "execution_count": 526,
   "metadata": {
    "deletable": false,
    "editable": false,
    "nbgrader": {
     "checksum": "3bb5e2c5ccd7f67e52c2775dba8c2765",
     "grade": true,
     "grade_id": "test-risky3",
     "locked": true,
     "points": 2,
     "schema_version": 1,
     "solution": false
    }
   },
   "outputs": [
    {
     "name": "stdout",
     "output_type": "stream",
     "text": [
      "[CIS 545 Test Cases] (2 pts)\n"
     ]
    }
   ],
   "source": [
    "# [CIS 545 Test Cases] (2 pts)\n",
    "# Checking that you created risky_df correctly\n",
    "\n",
    "\n",
    "print('[CIS 545 Test Cases] (2 pts)')"
   ]
  },
  {
   "cell_type": "markdown",
   "metadata": {
    "deletable": false,
    "editable": false,
    "nbgrader": {
     "checksum": "c32af8d02c36b744692d19d59873e77f",
     "grade": false,
     "grade_id": "step4-2-4",
     "locked": true,
     "schema_version": 1,
     "solution": false
    }
   },
   "source": [
    "### 4.2.4 Delayed and Cancelled\n",
    "\n",
    "Now calculate *all* airlines with delayed or cancelled flights, i.e. the airlines of flights in `flights_df` whose arrival was delayed by 30 min or more or which were cancelled.  We will call this `delayed_cancelled_df`, and will use this in the next part of the homework.\n",
    "\n",
    "The result should be a dataframe with two columns, `CARRIER` and `count` with the index indicating rank (i.e. entry 0 should be the highest count)."
   ]
  },
  {
   "cell_type": "code",
   "execution_count": 527,
   "metadata": {
    "deletable": false,
    "nbgrader": {
     "checksum": "002fd2cbffa360a7a0d07988f38ee841",
     "grade": false,
     "grade_id": "delayed-cancelled",
     "locked": false,
     "schema_version": 1,
     "solution": true
    }
   },
   "outputs": [
    {
     "data": {
      "text/html": [
       "<div>\n",
       "<style scoped>\n",
       "    .dataframe tbody tr th:only-of-type {\n",
       "        vertical-align: middle;\n",
       "    }\n",
       "\n",
       "    .dataframe tbody tr th {\n",
       "        vertical-align: top;\n",
       "    }\n",
       "\n",
       "    .dataframe thead th {\n",
       "        text-align: right;\n",
       "    }\n",
       "</style>\n",
       "<table border=\"1\" class=\"dataframe\">\n",
       "  <thead>\n",
       "    <tr style=\"text-align: right;\">\n",
       "      <th></th>\n",
       "      <th>year</th>\n",
       "      <th>month</th>\n",
       "      <th>day_of_month</th>\n",
       "      <th>carrier</th>\n",
       "      <th>fl_num</th>\n",
       "      <th>flight_src</th>\n",
       "      <th>flight_target</th>\n",
       "      <th>arr_delay_new</th>\n",
       "      <th>cancelled</th>\n",
       "    </tr>\n",
       "  </thead>\n",
       "  <tbody>\n",
       "    <tr>\n",
       "      <th>0</th>\n",
       "      <td>2018</td>\n",
       "      <td>1</td>\n",
       "      <td>2</td>\n",
       "      <td>WN</td>\n",
       "      <td>1325</td>\n",
       "      <td>SJU</td>\n",
       "      <td>MCO</td>\n",
       "      <td>0.0</td>\n",
       "      <td>0.0</td>\n",
       "    </tr>\n",
       "    <tr>\n",
       "      <th>1</th>\n",
       "      <td>2018</td>\n",
       "      <td>1</td>\n",
       "      <td>2</td>\n",
       "      <td>WN</td>\n",
       "      <td>5159</td>\n",
       "      <td>SJU</td>\n",
       "      <td>MCO</td>\n",
       "      <td>0.0</td>\n",
       "      <td>0.0</td>\n",
       "    </tr>\n",
       "    <tr>\n",
       "      <th>2</th>\n",
       "      <td>2018</td>\n",
       "      <td>1</td>\n",
       "      <td>2</td>\n",
       "      <td>WN</td>\n",
       "      <td>5890</td>\n",
       "      <td>SJU</td>\n",
       "      <td>MCO</td>\n",
       "      <td>9.0</td>\n",
       "      <td>0.0</td>\n",
       "    </tr>\n",
       "    <tr>\n",
       "      <th>3</th>\n",
       "      <td>2018</td>\n",
       "      <td>1</td>\n",
       "      <td>2</td>\n",
       "      <td>WN</td>\n",
       "      <td>6618</td>\n",
       "      <td>SJU</td>\n",
       "      <td>MCO</td>\n",
       "      <td>0.0</td>\n",
       "      <td>0.0</td>\n",
       "    </tr>\n",
       "    <tr>\n",
       "      <th>4</th>\n",
       "      <td>2018</td>\n",
       "      <td>1</td>\n",
       "      <td>2</td>\n",
       "      <td>WN</td>\n",
       "      <td>1701</td>\n",
       "      <td>SJU</td>\n",
       "      <td>MDW</td>\n",
       "      <td>8.0</td>\n",
       "      <td>0.0</td>\n",
       "    </tr>\n",
       "    <tr>\n",
       "      <th>5</th>\n",
       "      <td>2018</td>\n",
       "      <td>1</td>\n",
       "      <td>2</td>\n",
       "      <td>WN</td>\n",
       "      <td>844</td>\n",
       "      <td>SJU</td>\n",
       "      <td>TPA</td>\n",
       "      <td>23.0</td>\n",
       "      <td>0.0</td>\n",
       "    </tr>\n",
       "    <tr>\n",
       "      <th>6</th>\n",
       "      <td>2018</td>\n",
       "      <td>1</td>\n",
       "      <td>2</td>\n",
       "      <td>WN</td>\n",
       "      <td>4679</td>\n",
       "      <td>SJU</td>\n",
       "      <td>TPA</td>\n",
       "      <td>0.0</td>\n",
       "      <td>0.0</td>\n",
       "    </tr>\n",
       "    <tr>\n",
       "      <th>7</th>\n",
       "      <td>2018</td>\n",
       "      <td>1</td>\n",
       "      <td>2</td>\n",
       "      <td>WN</td>\n",
       "      <td>6294</td>\n",
       "      <td>SLC</td>\n",
       "      <td>BUR</td>\n",
       "      <td>20.0</td>\n",
       "      <td>0.0</td>\n",
       "    </tr>\n",
       "    <tr>\n",
       "      <th>8</th>\n",
       "      <td>2018</td>\n",
       "      <td>1</td>\n",
       "      <td>2</td>\n",
       "      <td>WN</td>\n",
       "      <td>5245</td>\n",
       "      <td>SLC</td>\n",
       "      <td>DAL</td>\n",
       "      <td>0.0</td>\n",
       "      <td>0.0</td>\n",
       "    </tr>\n",
       "    <tr>\n",
       "      <th>9</th>\n",
       "      <td>2018</td>\n",
       "      <td>1</td>\n",
       "      <td>2</td>\n",
       "      <td>WN</td>\n",
       "      <td>2278</td>\n",
       "      <td>SLC</td>\n",
       "      <td>DEN</td>\n",
       "      <td>0.0</td>\n",
       "      <td>0.0</td>\n",
       "    </tr>\n",
       "  </tbody>\n",
       "</table>\n",
       "</div>"
      ],
      "text/plain": [
       "   year  month  day_of_month carrier  fl_num flight_src flight_target  \\\n",
       "0  2018      1             2      WN    1325        SJU           MCO   \n",
       "1  2018      1             2      WN    5159        SJU           MCO   \n",
       "2  2018      1             2      WN    5890        SJU           MCO   \n",
       "3  2018      1             2      WN    6618        SJU           MCO   \n",
       "4  2018      1             2      WN    1701        SJU           MDW   \n",
       "5  2018      1             2      WN     844        SJU           TPA   \n",
       "6  2018      1             2      WN    4679        SJU           TPA   \n",
       "7  2018      1             2      WN    6294        SLC           BUR   \n",
       "8  2018      1             2      WN    5245        SLC           DAL   \n",
       "9  2018      1             2      WN    2278        SLC           DEN   \n",
       "\n",
       "   arr_delay_new  cancelled  \n",
       "0            0.0        0.0  \n",
       "1            0.0        0.0  \n",
       "2            9.0        0.0  \n",
       "3            0.0        0.0  \n",
       "4            8.0        0.0  \n",
       "5           23.0        0.0  \n",
       "6            0.0        0.0  \n",
       "7           20.0        0.0  \n",
       "8            0.0        0.0  \n",
       "9            0.0        0.0  "
      ]
     },
     "execution_count": 527,
     "metadata": {},
     "output_type": "execute_result"
    }
   ],
   "source": [
    "# TODO: calculate delayed_cancelled_df\n",
    "\n",
    "# YOUR CODE HERE\n",
    "flights_df.head(10)"
   ]
  },
  {
   "cell_type": "code",
   "execution_count": 528,
   "metadata": {},
   "outputs": [],
   "source": [
    "#flights_df.cancelled.value_counts()\n",
    "a = flights_df.loc[flights_df['cancelled'] == 1.0]\n",
    "# or ([flights_df['arr_delay_new'] >=30])  | flights_df['arr_delay_new'] >=30\n",
    "#flights_df['cancelled'] == 1.0 or flights_df['arr_delay_new'] >=30\n",
    "b = flights_df[flights_df['arr_delay_new'] >=30]\n",
    "delayed_cancelled_df = a.append(b)\n",
    "#len(delayed_cancelled_df)\n",
    "delayed_cancelled_df = delayed_cancelled_df.carrier.value_counts().to_frame().reset_index()\n",
    "delayed_cancelled_df.columns = ['CARRIER','count']"
   ]
  },
  {
   "cell_type": "code",
   "execution_count": 529,
   "metadata": {
    "deletable": false,
    "editable": false,
    "nbgrader": {
     "checksum": "0b32ca335a769e3ccbfd455036d28a38",
     "grade": false,
     "grade_id": "view-dc",
     "locked": true,
     "schema_version": 1,
     "solution": false
    }
   },
   "outputs": [
    {
     "data": {
      "text/html": [
       "<div>\n",
       "<style scoped>\n",
       "    .dataframe tbody tr th:only-of-type {\n",
       "        vertical-align: middle;\n",
       "    }\n",
       "\n",
       "    .dataframe tbody tr th {\n",
       "        vertical-align: top;\n",
       "    }\n",
       "\n",
       "    .dataframe thead th {\n",
       "        text-align: right;\n",
       "    }\n",
       "</style>\n",
       "<table border=\"1\" class=\"dataframe\">\n",
       "  <thead>\n",
       "    <tr style=\"text-align: right;\">\n",
       "      <th></th>\n",
       "      <th>CARRIER</th>\n",
       "      <th>count</th>\n",
       "    </tr>\n",
       "  </thead>\n",
       "  <tbody>\n",
       "    <tr>\n",
       "      <th>0</th>\n",
       "      <td>WN</td>\n",
       "      <td>11762</td>\n",
       "    </tr>\n",
       "    <tr>\n",
       "      <th>1</th>\n",
       "      <td>OO</td>\n",
       "      <td>11093</td>\n",
       "    </tr>\n",
       "    <tr>\n",
       "      <th>2</th>\n",
       "      <td>AA</td>\n",
       "      <td>8186</td>\n",
       "    </tr>\n",
       "    <tr>\n",
       "      <th>3</th>\n",
       "      <td>DL</td>\n",
       "      <td>7910</td>\n",
       "    </tr>\n",
       "    <tr>\n",
       "      <th>4</th>\n",
       "      <td>B6</td>\n",
       "      <td>6447</td>\n",
       "    </tr>\n",
       "    <tr>\n",
       "      <th>5</th>\n",
       "      <td>UA</td>\n",
       "      <td>4778</td>\n",
       "    </tr>\n",
       "    <tr>\n",
       "      <th>6</th>\n",
       "      <td>OH</td>\n",
       "      <td>4657</td>\n",
       "    </tr>\n",
       "    <tr>\n",
       "      <th>7</th>\n",
       "      <td>YX</td>\n",
       "      <td>4303</td>\n",
       "    </tr>\n",
       "    <tr>\n",
       "      <th>8</th>\n",
       "      <td>EV</td>\n",
       "      <td>3896</td>\n",
       "    </tr>\n",
       "    <tr>\n",
       "      <th>9</th>\n",
       "      <td>MQ</td>\n",
       "      <td>3870</td>\n",
       "    </tr>\n",
       "    <tr>\n",
       "      <th>10</th>\n",
       "      <td>9E</td>\n",
       "      <td>3325</td>\n",
       "    </tr>\n",
       "    <tr>\n",
       "      <th>11</th>\n",
       "      <td>YV</td>\n",
       "      <td>2739</td>\n",
       "    </tr>\n",
       "    <tr>\n",
       "      <th>12</th>\n",
       "      <td>F9</td>\n",
       "      <td>1663</td>\n",
       "    </tr>\n",
       "    <tr>\n",
       "      <th>13</th>\n",
       "      <td>NK</td>\n",
       "      <td>1613</td>\n",
       "    </tr>\n",
       "    <tr>\n",
       "      <th>14</th>\n",
       "      <td>G4</td>\n",
       "      <td>915</td>\n",
       "    </tr>\n",
       "    <tr>\n",
       "      <th>15</th>\n",
       "      <td>AS</td>\n",
       "      <td>894</td>\n",
       "    </tr>\n",
       "    <tr>\n",
       "      <th>16</th>\n",
       "      <td>VX</td>\n",
       "      <td>646</td>\n",
       "    </tr>\n",
       "    <tr>\n",
       "      <th>17</th>\n",
       "      <td>HA</td>\n",
       "      <td>352</td>\n",
       "    </tr>\n",
       "  </tbody>\n",
       "</table>\n",
       "</div>"
      ],
      "text/plain": [
       "   CARRIER  count\n",
       "0       WN  11762\n",
       "1       OO  11093\n",
       "2       AA   8186\n",
       "3       DL   7910\n",
       "4       B6   6447\n",
       "5       UA   4778\n",
       "6       OH   4657\n",
       "7       YX   4303\n",
       "8       EV   3896\n",
       "9       MQ   3870\n",
       "10      9E   3325\n",
       "11      YV   2739\n",
       "12      F9   1663\n",
       "13      NK   1613\n",
       "14      G4    915\n",
       "15      AS    894\n",
       "16      VX    646\n",
       "17      HA    352"
      ]
     },
     "execution_count": 529,
     "metadata": {},
     "output_type": "execute_result"
    }
   ],
   "source": [
    "# View your dataframe\n",
    "delayed_cancelled_df"
   ]
  },
  {
   "cell_type": "code",
   "execution_count": 530,
   "metadata": {
    "deletable": false,
    "editable": false,
    "nbgrader": {
     "checksum": "b1cfc1c17ddf1e24e5a6f3f9f38b0c49",
     "grade": true,
     "grade_id": "test-dc1",
     "locked": true,
     "points": 1,
     "schema_version": 1,
     "solution": false
    }
   },
   "outputs": [
    {
     "name": "stdout",
     "output_type": "stream",
     "text": [
      "[CIS 545 Test Cases] (1 pts)\n"
     ]
    }
   ],
   "source": [
    "# [CIS 545 Test Cases] (1 pt)\n",
    "# Checking that you created delayed_cancelled's base structure\n",
    "\n",
    "\n",
    "print('[CIS 545 Test Cases] (1 pts)')"
   ]
  },
  {
   "cell_type": "code",
   "execution_count": 531,
   "metadata": {
    "deletable": false,
    "editable": false,
    "nbgrader": {
     "checksum": "8c9538e9edd19c48444f565ce0d19375",
     "grade": true,
     "grade_id": "test-dc2",
     "locked": true,
     "points": 1,
     "schema_version": 1,
     "solution": false
    }
   },
   "outputs": [
    {
     "name": "stdout",
     "output_type": "stream",
     "text": [
      "[CIS 545 Test Cases] (1 pt)\n"
     ]
    }
   ],
   "source": [
    "# [CIS 545 Test Cases] (1 pt)\n",
    "# Checking that you created delayed_cancelled correctly\n",
    "\n",
    "\n",
    "print('[CIS 545 Test Cases] (1 pt)')"
   ]
  },
  {
   "cell_type": "code",
   "execution_count": 532,
   "metadata": {
    "deletable": false,
    "editable": false,
    "nbgrader": {
     "checksum": "1c9d0da183ef93ac4d2113d0050f3116",
     "grade": true,
     "grade_id": "test-dc3",
     "locked": true,
     "points": 2,
     "schema_version": 1,
     "solution": false
    }
   },
   "outputs": [
    {
     "name": "stdout",
     "output_type": "stream",
     "text": [
      "[CIS 545 Test Cases] (2 pts)\n"
     ]
    }
   ],
   "source": [
    "# [CIS 545 Test Cases] (2 pts)\n",
    "# Checking that you created risky_df correctly\n",
    "# Value checks, part 1\n",
    "\n",
    "\n",
    "print('[CIS 545 Test Cases] (2 pts)')"
   ]
  },
  {
   "cell_type": "code",
   "execution_count": 533,
   "metadata": {
    "deletable": false,
    "editable": false,
    "nbgrader": {
     "checksum": "747395949bea543aa7b1968f27c5f62f",
     "grade": true,
     "grade_id": "test-dc4",
     "locked": true,
     "points": 2,
     "schema_version": 1,
     "solution": false
    }
   },
   "outputs": [
    {
     "name": "stdout",
     "output_type": "stream",
     "text": [
      "[CIS 545 Test Cases] (2 pts)\n"
     ]
    }
   ],
   "source": [
    "# [CIS 545 Test Cases] (2 pts)\n",
    "# Checking that you created risky_df correctly\n",
    "# Value checks, part 2\n",
    "\n",
    "\n",
    "print('[CIS 545 Test Cases] (2 pts)')"
   ]
  },
  {
   "cell_type": "markdown",
   "metadata": {
    "deletable": false,
    "editable": false,
    "nbgrader": {
     "checksum": "c3e5a93e2b8fc39f0b9f01217e4a6e79",
     "grade": false,
     "grade_id": "step5",
     "locked": true,
     "schema_version": 1,
     "solution": false
    }
   },
   "source": [
    "## Step 5: Combining DataFrames \n",
    "\n",
    "In this part, we want to combine information about airlines from both sources, `risky_df` (pulled from `incidents_df`) and `delayed_cancelled_df` (pulled from `flights_df`) to calculate the “very bad” airlines.  These are airlines that are both “risky” and which are “bad flights.”   This is an example of **data integration**, i.e. of linking data across heterogeneous sources.\n",
    "\n",
    "Unfortunately, `incidents_df` uses the *names* of airlines whereas `flights_df` uses *IATA codes*.  However, the dataset `airlines_df` contains a correspondence between airline names and IATA codes which can be used to \"translate\" the airport IATA codes in `flights_df` to airline names. \n",
    "\n",
    "Although it may be clear to you which columns match between the two DataFrames, in general the number of columns (schemas) may be very large in datasets so it is not always obvious.  It is therefore helpfult to develop **schema matching** techniques to help discover these correspondences. \n",
    "\n",
    "We will use a very simple technique here to find what columns relate between `airlines_df` and `flights_df`, and then use this to combine `risky_df` and `delayed_cancelled_df`."
   ]
  },
  {
   "cell_type": "markdown",
   "metadata": {
    "deletable": false,
    "editable": false,
    "nbgrader": {
     "checksum": "bcf25683e21466a7787e9ecce723a871",
     "grade": false,
     "grade_id": "step5-1",
     "locked": true,
     "schema_version": 1,
     "solution": false
    }
   },
   "source": [
    "## 5.1 Relating Airlines and Flights: Schema Matching\n",
    "\n",
    "Let's start by detecting what fields (columns) “match” between the `airlines_df` and `flights_df` DataFrames.  \n",
    "\n",
    "To do this, let’s note that we only care about the “categorical” (string-valued) columns.  What we want is, e.g., to find fields that have lots of common values (for instance, airline abbreviations or airport codes).  To measure this in a principled way, we’ll use a measure called the Jaccard distance (or Jaccard index or Jaccard measure).  The Jaccard distance measures similarity between two sets A and B, and is merely:\n",
    "\n",
    "\\begin{equation*}\n",
    "| A \\cap B | / |A \\cup B|\n",
    "\\end{equation*}\n",
    "\n",
    "Let’s compute the Jaccard distances between (the values of) all pairs of attributes in `airlines_df` and `flights_df`. This will tell us which attributes include similar values - and thus which might represent the same concept. "
   ]
  },
  {
   "cell_type": "markdown",
   "metadata": {
    "deletable": false,
    "editable": false,
    "nbgrader": {
     "checksum": "b820be58d726432c578a6fb91ff3db67",
     "grade": false,
     "grade_id": "step5-1-1",
     "locked": true,
     "schema_version": 1,
     "solution": false
    }
   },
   "source": [
    "### 5.1.1 Column / Schema Matches\n",
    "\n",
    "Create a Cell with an algorithm that iterates over all `airlines_df` keys (columns) and all `flights_df` keys. Create a nested map of: \n",
    "\n",
    "$${r → {p → distance}}$$\n",
    "\n",
    "Your algorithm should store the Jaccard distance between the values in routes column $r$ to the values in performance column $p$ (for distances that are non-zero and only for non-numeric columns).  \n",
    "\n",
    "Remember, since there may be duplicates, you’ll need to convert columns into sets of unique values through `drop_duplicates()`.  \n",
    "\n",
    "Your keys for the outer dictionary, from flights, should be: `CARRIER`, `ORIGIN`, and `DEST`"
   ]
  },
  {
   "cell_type": "code",
   "execution_count": 534,
   "metadata": {
    "deletable": false,
    "nbgrader": {
     "checksum": "1c19419d995f06c0148135adda603e93",
     "grade": false,
     "grade_id": "best-match",
     "locked": false,
     "schema_version": 1,
     "solution": true
    }
   },
   "outputs": [
    {
     "name": "stdout",
     "output_type": "stream",
     "text": [
      "['airline_name', 'alias', 'airline_iata', 'airline_icao', 'airline_callsign', 'airline_country', 'active'] ['carrier', 'flight_src', 'flight_target']\n",
      "airline_name carrier 0.0\n",
      "alias carrier 0.0\n",
      "airline_iata carrier 1.651376146788991\n",
      "airline_icao carrier 0.0\n",
      "airline_callsign carrier 0.0\n",
      "airline_country carrier 0.0\n",
      "active carrier 0.0\n",
      "airline_name flight_src 0.0\n",
      "alias flight_src 0.0\n",
      "airline_iata flight_src 0.0\n",
      "airline_icao flight_src 3.5829512650704705\n",
      "airline_callsign flight_src 0.054093040028849626\n",
      "airline_country flight_src 0.0\n",
      "active flight_src 0.0\n",
      "airline_name flight_target 0.0\n",
      "alias flight_target 0.0\n",
      "airline_iata flight_target 0.0\n",
      "airline_icao flight_target 3.5829512650704705\n",
      "airline_callsign flight_target 0.054093040028849626\n",
      "airline_country flight_target 0.0\n",
      "active flight_target 0.0\n"
     ]
    }
   ],
   "source": [
    "# Find what columns relate in airlines_df and flights_df \n",
    "# TODO: create nested map of Jaccard distance\n",
    "# Your keys for the outer dictionary, from flights, should be:\n",
    "# CARRIER, ORIGIN, and DEST\n",
    "\n",
    "# YOUR CODE HERE\n",
    "#import pandas as pd\n",
    "\n",
    "best_match = {'CARRIER':{},'ORIGIN':{},'DEST':{}}\n",
    "best_match_col = ['CARRIER','ORIGIN','DEST']\n",
    "airlines_df = airlines_df.drop_duplicates()\n",
    "flights_df =flights_df.drop_duplicates()\n",
    "#for i in range(0,len(airlines_df.columns)) \n",
    "airlines_col = list(airlines_df.select_dtypes(include=['object']).columns)\n",
    "flights_col = list(flights_df.select_dtypes(include=['object']).columns)\n",
    "print(airlines_col, flights_col)\n",
    "\n",
    "for j in range(0,len(flights_col)):\n",
    "    for i in range(0, len(airlines_col)):\n",
    "        df_col = pd.DataFrame({})\n",
    "        d1 = airlines_df[airlines_col[i]].drop_duplicates()\n",
    "        d2 = flights_df[flights_col[j]].drop_duplicates()\n",
    "        df_col = d1.append(d2)\n",
    "        n1 = len(df_col.unique())\n",
    "        n2 = len(df_col)-n1\n",
    "        Jaccard_distance = n2/n1*100\n",
    "        best_match[best_match_col[j]][airlines_col[i]] = Jaccard_distance\n",
    "        print(airlines_df[airlines_col[i]].name,flights_df[flights_col[j]].name,Jaccard_distance)\n",
    "        \n",
    "\n",
    "# airlines_df.info()\n",
    "# flights_df.info()"
   ]
  },
  {
   "cell_type": "code",
   "execution_count": 535,
   "metadata": {},
   "outputs": [
    {
     "data": {
      "text/plain": [
       "{'CARRIER': {'airline_name': 0.0,\n",
       "  'alias': 0.0,\n",
       "  'airline_iata': 1.651376146788991,\n",
       "  'airline_icao': 0.0,\n",
       "  'airline_callsign': 0.0,\n",
       "  'airline_country': 0.0,\n",
       "  'active': 0.0},\n",
       " 'ORIGIN': {'airline_name': 0.0,\n",
       "  'alias': 0.0,\n",
       "  'airline_iata': 0.0,\n",
       "  'airline_icao': 3.5829512650704705,\n",
       "  'airline_callsign': 0.054093040028849626,\n",
       "  'airline_country': 0.0,\n",
       "  'active': 0.0},\n",
       " 'DEST': {'airline_name': 0.0,\n",
       "  'alias': 0.0,\n",
       "  'airline_iata': 0.0,\n",
       "  'airline_icao': 3.5829512650704705,\n",
       "  'airline_callsign': 0.054093040028849626,\n",
       "  'airline_country': 0.0,\n",
       "  'active': 0.0}}"
      ]
     },
     "execution_count": 535,
     "metadata": {},
     "output_type": "execute_result"
    }
   ],
   "source": [
    "# View your dictionary\n",
    "best_match"
   ]
  },
  {
   "cell_type": "code",
   "execution_count": 536,
   "metadata": {
    "deletable": false,
    "editable": false,
    "nbgrader": {
     "checksum": "71e75ad5c48392df4cf9799230330682",
     "grade": true,
     "grade_id": "test-jaccard1",
     "locked": true,
     "points": 2,
     "schema_version": 1,
     "solution": false
    }
   },
   "outputs": [
    {
     "name": "stdout",
     "output_type": "stream",
     "text": [
      "[CIS 545 Test Cases] (2 pts)\n"
     ]
    }
   ],
   "source": [
    "# [CIS 545 Test Cases] (2 pts)\n",
    "# Checking the structure of best_match\n",
    "\n",
    "if (type(best_match) != dict):\n",
    "    raise TypeError(\"You didn't create a dictionary\")\n",
    "    \n",
    "\n",
    "print('[CIS 545 Test Cases] (2 pts)')"
   ]
  },
  {
   "cell_type": "code",
   "execution_count": 537,
   "metadata": {
    "deletable": false,
    "editable": false,
    "nbgrader": {
     "checksum": "9b1c5c5579ead37baf60e5b01103f70f",
     "grade": true,
     "grade_id": "test-jaccard2",
     "locked": true,
     "points": 2,
     "schema_version": 1,
     "solution": false
    }
   },
   "outputs": [
    {
     "name": "stdout",
     "output_type": "stream",
     "text": [
      "[CIS 545 Test Cases] (2 pts)\n"
     ]
    }
   ],
   "source": [
    "# [CIS 545 Test Cases] (2 pts)\n",
    "# Checking the Jaccard mappings\n",
    "\n",
    "\n",
    "print('[CIS 545 Test Cases] (2 pts)')"
   ]
  },
  {
   "cell_type": "code",
   "execution_count": 538,
   "metadata": {
    "deletable": false,
    "editable": false,
    "nbgrader": {
     "checksum": "066e12a3d760c23bec4e8090fd511ed1",
     "grade": true,
     "grade_id": "test-jaccard3",
     "locked": true,
     "points": 3,
     "schema_version": 1,
     "solution": false
    }
   },
   "outputs": [
    {
     "name": "stdout",
     "output_type": "stream",
     "text": [
      "[CIS 545 Test Cases] (3 pts)\n"
     ]
    }
   ],
   "source": [
    "# [CIS 545 Test Cases] (3 pts)\n",
    "# Checking the Jaccard values\n",
    "\n",
    "    \n",
    "print('[CIS 545 Test Cases] (3 pts)')"
   ]
  },
  {
   "cell_type": "markdown",
   "metadata": {
    "deletable": false,
    "editable": false,
    "nbgrader": {
     "checksum": "22df29eacb4d575a1e239fb5b7515a48",
     "grade": false,
     "grade_id": "step5-1-2",
     "locked": true,
     "schema_version": 1,
     "solution": false
    }
   },
   "source": [
    "### 5.1.2 Matching columns\n",
    "\n",
    "The above map should help you decide which column in `airlines_df` is the best match for `CARRIER` in `flights_df`.\n",
    "\n",
    "Note that the ORIGIN and DEST codes also have a match which doesn't make much sense; they are 3-letter **airport** codes rather than a 3-letter **airline** codes.  So you need to use your own knowledge of the semantics of the fields to disambiguate which pairs are correct.  In this case, we will just use the match for `CARRIER`."
   ]
  },
  {
   "cell_type": "code",
   "execution_count": 539,
   "metadata": {
    "deletable": false,
    "nbgrader": {
     "checksum": "046f8129ecffae8f234f334a88232ff7",
     "grade": false,
     "grade_id": "carrier-mapping",
     "locked": false,
     "schema_version": 1,
     "solution": true
    }
   },
   "outputs": [
    {
     "data": {
      "text/plain": [
       "{'CARRIER': 'airline_iata'}"
      ]
     },
     "execution_count": 539,
     "metadata": {},
     "output_type": "execute_result"
    }
   ],
   "source": [
    "# TODO: pdate the dictionary to include the name of the attribute in airports_df that corresponds to CARRIER.\n",
    "\n",
    "# Update here!\n",
    "# YOUR CODE HERE\n",
    "\n",
    "#max(best_match['CARRIER'], best_match['CARRIER'].get)\n",
    "value = 0\n",
    "for key, val in best_match['CARRIER'].items():\n",
    "    if val > value:\n",
    "        my_choice = key\n",
    "\n",
    "mapping = {'CARRIER': my_choice} \n",
    "mapping\n"
   ]
  },
  {
   "cell_type": "code",
   "execution_count": 540,
   "metadata": {
    "deletable": false,
    "editable": false,
    "nbgrader": {
     "checksum": "a246a4d01a3d0d45ed36dcea602aa531",
     "grade": true,
     "grade_id": "test-carrier-mapping",
     "locked": true,
     "points": 1,
     "schema_version": 1,
     "solution": false
    }
   },
   "outputs": [
    {
     "name": "stdout",
     "output_type": "stream",
     "text": [
      "[CIS 545 Test Cases] (1 pt)\n"
     ]
    }
   ],
   "source": [
    "# [CIS 545 Test Cases] (1 pt)\n",
    "# Checking the Jaccard values\n",
    "\n",
    "\n",
    "print('[CIS 545 Test Cases] (1 pt)')"
   ]
  },
  {
   "cell_type": "markdown",
   "metadata": {
    "deletable": false,
    "editable": false,
    "nbgrader": {
     "checksum": "a48de6b4738bd10fab9bcd16eab245da",
     "grade": false,
     "grade_id": "step5-2",
     "locked": true,
     "schema_version": 1,
     "solution": false
    }
   },
   "source": [
    "## 5.2  Joining DataFrames\n",
    "\n",
    "Now that you know how `airports_df` and `flights_df` relate, use this to add the names of airports to `delayed_cancelled_df`.  Note that each data source (and thus DataFrame) is in fact incomplete.  For this step we’ll want to only consider the airport information and flight information that “intersect.”\n",
    "\n",
    "Create a DataFrame `delayed_cancelled_ext_df` by merging `delayed_cancelled_df` and `airports_df` on the fields that correspond to airport IATA codes in each DataFrame.  Use `delayed_cancelled.merge` as well as `left_on` and `right_on`.\n",
    "\n",
    "The result should have columns `airline_name`, `airline_id` and `count`.\n"
   ]
  },
  {
   "cell_type": "code",
   "execution_count": 541,
   "metadata": {
    "deletable": false,
    "nbgrader": {
     "checksum": "df80c3d29449c307708662d6a15eac20",
     "grade": false,
     "grade_id": "dc-ext",
     "locked": false,
     "schema_version": 1,
     "solution": true
    }
   },
   "outputs": [],
   "source": [
    "# TODO: create joint DataFrame delayed_cancelled_ext_df.  \n",
    "# The result should have columns airline_name, airline_id and count.\n",
    "\n",
    "# YOUR CODE HERE\n",
    "delayed_cancelled_ext_df = delayed_cancelled_df.merge(airlines_df[['airline_name','airline_iata','airline_id']], left_on='CARRIER', right_on='airline_iata', how = 'inner')"
   ]
  },
  {
   "cell_type": "code",
   "execution_count": 542,
   "metadata": {},
   "outputs": [],
   "source": [
    "delayed_cancelled_ext_df = delayed_cancelled_ext_df[['airline_name','airline_id','count']]"
   ]
  },
  {
   "cell_type": "code",
   "execution_count": 543,
   "metadata": {
    "deletable": false,
    "editable": false,
    "nbgrader": {
     "checksum": "dbd18794038d29290e0cfda10fdd2786",
     "grade": false,
     "grade_id": "view-dc-ext",
     "locked": true,
     "schema_version": 1,
     "solution": false
    }
   },
   "outputs": [
    {
     "data": {
      "text/html": [
       "<div>\n",
       "<style scoped>\n",
       "    .dataframe tbody tr th:only-of-type {\n",
       "        vertical-align: middle;\n",
       "    }\n",
       "\n",
       "    .dataframe tbody tr th {\n",
       "        vertical-align: top;\n",
       "    }\n",
       "\n",
       "    .dataframe thead th {\n",
       "        text-align: right;\n",
       "    }\n",
       "</style>\n",
       "<table border=\"1\" class=\"dataframe\">\n",
       "  <thead>\n",
       "    <tr style=\"text-align: right;\">\n",
       "      <th></th>\n",
       "      <th>airline_name</th>\n",
       "      <th>airline_id</th>\n",
       "      <th>count</th>\n",
       "    </tr>\n",
       "  </thead>\n",
       "  <tbody>\n",
       "    <tr>\n",
       "      <th>0</th>\n",
       "      <td>Southwest Airlines</td>\n",
       "      <td>4547</td>\n",
       "      <td>11762</td>\n",
       "    </tr>\n",
       "    <tr>\n",
       "      <th>1</th>\n",
       "      <td>SkyWest</td>\n",
       "      <td>4738</td>\n",
       "      <td>11093</td>\n",
       "    </tr>\n",
       "    <tr>\n",
       "      <th>2</th>\n",
       "      <td>American Airlines</td>\n",
       "      <td>24</td>\n",
       "      <td>8186</td>\n",
       "    </tr>\n",
       "    <tr>\n",
       "      <th>3</th>\n",
       "      <td>Delta Air Lines</td>\n",
       "      <td>2009</td>\n",
       "      <td>7910</td>\n",
       "    </tr>\n",
       "    <tr>\n",
       "      <th>4</th>\n",
       "      <td>JetBlue Airways</td>\n",
       "      <td>3029</td>\n",
       "      <td>6447</td>\n",
       "    </tr>\n",
       "    <tr>\n",
       "      <th>5</th>\n",
       "      <td>United Airlines</td>\n",
       "      <td>5209</td>\n",
       "      <td>4778</td>\n",
       "    </tr>\n",
       "    <tr>\n",
       "      <th>6</th>\n",
       "      <td>Comair</td>\n",
       "      <td>1828</td>\n",
       "      <td>4657</td>\n",
       "    </tr>\n",
       "    <tr>\n",
       "      <th>7</th>\n",
       "      <td>Midwest Airlines</td>\n",
       "      <td>3497</td>\n",
       "      <td>4303</td>\n",
       "    </tr>\n",
       "    <tr>\n",
       "      <th>8</th>\n",
       "      <td>Atlantic Southeast Airlines</td>\n",
       "      <td>452</td>\n",
       "      <td>3896</td>\n",
       "    </tr>\n",
       "    <tr>\n",
       "      <th>9</th>\n",
       "      <td>American Eagle Airlines</td>\n",
       "      <td>659</td>\n",
       "      <td>3870</td>\n",
       "    </tr>\n",
       "    <tr>\n",
       "      <th>10</th>\n",
       "      <td>Pinnacle Airlines</td>\n",
       "      <td>3976</td>\n",
       "      <td>3325</td>\n",
       "    </tr>\n",
       "    <tr>\n",
       "      <th>11</th>\n",
       "      <td>Mesa Airlines</td>\n",
       "      <td>3466</td>\n",
       "      <td>2739</td>\n",
       "    </tr>\n",
       "    <tr>\n",
       "      <th>12</th>\n",
       "      <td>Frontier Airlines</td>\n",
       "      <td>2468</td>\n",
       "      <td>1663</td>\n",
       "    </tr>\n",
       "    <tr>\n",
       "      <th>13</th>\n",
       "      <td>Spirit Airlines</td>\n",
       "      <td>4687</td>\n",
       "      <td>1613</td>\n",
       "    </tr>\n",
       "    <tr>\n",
       "      <th>14</th>\n",
       "      <td>Allegiant Air</td>\n",
       "      <td>35</td>\n",
       "      <td>915</td>\n",
       "    </tr>\n",
       "    <tr>\n",
       "      <th>15</th>\n",
       "      <td>Alaska Airlines</td>\n",
       "      <td>439</td>\n",
       "      <td>894</td>\n",
       "    </tr>\n",
       "    <tr>\n",
       "      <th>16</th>\n",
       "      <td>Virgin America</td>\n",
       "      <td>5331</td>\n",
       "      <td>646</td>\n",
       "    </tr>\n",
       "    <tr>\n",
       "      <th>17</th>\n",
       "      <td>Hawaiian Airlines</td>\n",
       "      <td>2688</td>\n",
       "      <td>352</td>\n",
       "    </tr>\n",
       "  </tbody>\n",
       "</table>\n",
       "</div>"
      ],
      "text/plain": [
       "                   airline_name  airline_id  count\n",
       "0            Southwest Airlines        4547  11762\n",
       "1                       SkyWest        4738  11093\n",
       "2             American Airlines          24   8186\n",
       "3               Delta Air Lines        2009   7910\n",
       "4               JetBlue Airways        3029   6447\n",
       "5               United Airlines        5209   4778\n",
       "6                        Comair        1828   4657\n",
       "7              Midwest Airlines        3497   4303\n",
       "8   Atlantic Southeast Airlines         452   3896\n",
       "9       American Eagle Airlines         659   3870\n",
       "10            Pinnacle Airlines        3976   3325\n",
       "11                Mesa Airlines        3466   2739\n",
       "12            Frontier Airlines        2468   1663\n",
       "13              Spirit Airlines        4687   1613\n",
       "14                Allegiant Air          35    915\n",
       "15              Alaska Airlines         439    894\n",
       "16               Virgin America        5331    646\n",
       "17            Hawaiian Airlines        2688    352"
      ]
     },
     "execution_count": 543,
     "metadata": {},
     "output_type": "execute_result"
    }
   ],
   "source": [
    "# View delayed_cancelled_ext_df\n",
    "delayed_cancelled_ext_df"
   ]
  },
  {
   "cell_type": "code",
   "execution_count": 544,
   "metadata": {
    "deletable": false,
    "editable": false,
    "nbgrader": {
     "checksum": "0b099c1e69cb247bad2f3203e06cb10d",
     "grade": true,
     "grade_id": "test-dc-ext1",
     "locked": true,
     "points": 1,
     "schema_version": 1,
     "solution": false
    }
   },
   "outputs": [
    {
     "name": "stdout",
     "output_type": "stream",
     "text": [
      "[CIS 545 Test Cases] (1 pt)\n"
     ]
    }
   ],
   "source": [
    "# [CIS 545 Test Cases] (1 pt)\n",
    "# Checking delayed_cancelled_ext_df\n",
    "\n",
    "if (delayed_cancelled_ext_df.shape[1] != 3):\n",
    "    raise ValueError(\"Unexpected number of columns\")\n",
    "    \n",
    "if (delayed_cancelled_ext_df.shape[0] <= 5):\n",
    "    raise ValueError(\"Probably missing rows...\")\n",
    "\n",
    "print('[CIS 545 Test Cases] (1 pt)')"
   ]
  },
  {
   "cell_type": "code",
   "execution_count": 545,
   "metadata": {
    "deletable": false,
    "editable": false,
    "nbgrader": {
     "checksum": "a605e8e4f4b8b02c841f5bf8afb6539f",
     "grade": true,
     "grade_id": "test-dc-ext2",
     "locked": true,
     "points": 1,
     "schema_version": 1,
     "solution": false
    }
   },
   "outputs": [
    {
     "name": "stdout",
     "output_type": "stream",
     "text": [
      "[CIS 545 Test Cases] (1 pt)\n"
     ]
    }
   ],
   "source": [
    "# [CIS 545 Test Cases] (1 pt)\n",
    "# Checking delayed_cancelled_ext_df\n",
    "\n",
    "\n",
    "print('[CIS 545 Test Cases] (1 pt)')"
   ]
  },
  {
   "cell_type": "code",
   "execution_count": 546,
   "metadata": {
    "deletable": false,
    "editable": false,
    "nbgrader": {
     "checksum": "e6bd030b303e88bb4e583bc33db97501",
     "grade": true,
     "grade_id": "test-dc-ext3",
     "locked": true,
     "points": 4,
     "schema_version": 1,
     "solution": false
    }
   },
   "outputs": [
    {
     "name": "stdout",
     "output_type": "stream",
     "text": [
      "[CIS 545 Test Cases] (4 pts)\n"
     ]
    }
   ],
   "source": [
    "# [CIS 545 Test Cases] (4 pts)\n",
    "# Checking delayed_cancelled_ext_df\n",
    "\n",
    "if (max(delayed_cancelled_ext_df['count']) < 1000):\n",
    "    raise ValueError(\"Maximum count seems too low\")\n",
    "\n",
    "\n",
    "print('[CIS 545 Test Cases] (4 pts)')"
   ]
  },
  {
   "cell_type": "markdown",
   "metadata": {
    "deletable": false,
    "editable": false,
    "nbgrader": {
     "checksum": "2bc1dceba7df2ddba805217fe8279388",
     "grade": false,
     "grade_id": "step5-3",
     "locked": true,
     "schema_version": 1,
     "solution": false
    }
   },
   "source": [
    "## 5.3 Calculate \"very bad\" airlines\n",
    "\n",
    "We are finally in a position to calculate the “very bad” airlines, i.e. those that are in both `risky_df` and `delayed_cancelled_ext_df`. Do this by merging the two DataFrames to create a result, `very_bad_df` - you'll note that this has two `count` columns, which won't work:\n",
    "\n",
    "- Rename the `risky_df` column to `accident_count`\n",
    "- For `delayed_cancelled_ext_df`, use `dc_count`\n",
    "\n",
    "Your dataframe should have `airline_name` as well as the two counts."
   ]
  },
  {
   "cell_type": "code",
   "execution_count": 547,
   "metadata": {
    "deletable": false,
    "nbgrader": {
     "checksum": "566837ba899c50a756073a40aa904de6",
     "grade": false,
     "grade_id": "very-bad",
     "locked": false,
     "schema_version": 1,
     "solution": true
    }
   },
   "outputs": [],
   "source": [
    "# TODO: Merge the two DataFrames to create a result that has airline_name, as well as accident_count and dc_count.\n",
    "\n",
    "# YOUR CODE HERE\n",
    "risky_df = risky_df.rename(columns = {'count':'accident_count'})\n",
    "delayed_cancelled_ext_df = delayed_cancelled_ext_df.rename(columns = {'count':'dc_count'})\n",
    "risky_df\n",
    "very_bad_df = delayed_cancelled_ext_df.merge(risky_df, left_on='airline_name', right_on='Airline', how='inner')\n",
    "very_bad_df['airline_name'] = very_bad_df['airline_name'].fillna(very_bad_df['Airline'])\n",
    "very_bad_df = very_bad_df[['airline_name','accident_count','dc_count']]"
   ]
  },
  {
   "cell_type": "code",
   "execution_count": 548,
   "metadata": {
    "deletable": false,
    "editable": false,
    "nbgrader": {
     "checksum": "cdbabab3cae6caa9327ae6b92435a935",
     "grade": false,
     "grade_id": "view-very-bad",
     "locked": true,
     "schema_version": 1,
     "solution": false
    }
   },
   "outputs": [
    {
     "data": {
      "text/html": [
       "<div>\n",
       "<style scoped>\n",
       "    .dataframe tbody tr th:only-of-type {\n",
       "        vertical-align: middle;\n",
       "    }\n",
       "\n",
       "    .dataframe tbody tr th {\n",
       "        vertical-align: top;\n",
       "    }\n",
       "\n",
       "    .dataframe thead th {\n",
       "        text-align: right;\n",
       "    }\n",
       "</style>\n",
       "<table border=\"1\" class=\"dataframe\">\n",
       "  <thead>\n",
       "    <tr style=\"text-align: right;\">\n",
       "      <th></th>\n",
       "      <th>airline_name</th>\n",
       "      <th>accident_count</th>\n",
       "      <th>dc_count</th>\n",
       "    </tr>\n",
       "  </thead>\n",
       "  <tbody>\n",
       "    <tr>\n",
       "      <th>0</th>\n",
       "      <td>Southwest Airlines</td>\n",
       "      <td>5</td>\n",
       "      <td>11762</td>\n",
       "    </tr>\n",
       "    <tr>\n",
       "      <th>1</th>\n",
       "      <td>American Airlines</td>\n",
       "      <td>6</td>\n",
       "      <td>8186</td>\n",
       "    </tr>\n",
       "  </tbody>\n",
       "</table>\n",
       "</div>"
      ],
      "text/plain": [
       "         airline_name  accident_count  dc_count\n",
       "0  Southwest Airlines               5     11762\n",
       "1   American Airlines               6      8186"
      ]
     },
     "execution_count": 548,
     "metadata": {},
     "output_type": "execute_result"
    }
   ],
   "source": [
    "# View very_bad_df\n",
    "very_bad_df"
   ]
  },
  {
   "cell_type": "code",
   "execution_count": 549,
   "metadata": {
    "deletable": false,
    "editable": false,
    "nbgrader": {
     "checksum": "21b440a6d715c7423cb37b08d868cf06",
     "grade": true,
     "grade_id": "test-vbad1",
     "locked": true,
     "points": 1,
     "schema_version": 1,
     "solution": false
    }
   },
   "outputs": [
    {
     "name": "stdout",
     "output_type": "stream",
     "text": [
      "[CIS 545 Test Cases] (1 pt)\n"
     ]
    }
   ],
   "source": [
    "# [CIS 545 Test Cases] (1 pt)\n",
    "# Checking very_bad_df\n",
    "\n",
    "\n",
    "print('[CIS 545 Test Cases] (1 pt)')"
   ]
  },
  {
   "cell_type": "code",
   "execution_count": 550,
   "metadata": {
    "deletable": false,
    "editable": false,
    "nbgrader": {
     "checksum": "ed29061541c6049560a1993c09323b7a",
     "grade": true,
     "grade_id": "test-vbad2",
     "locked": true,
     "points": 1,
     "schema_version": 1,
     "solution": false
    }
   },
   "outputs": [
    {
     "name": "stdout",
     "output_type": "stream",
     "text": [
      "[CIS 545 Test Cases] (1 pt)\n"
     ]
    }
   ],
   "source": [
    "# [CIS 545 Test Cases] (1 pt)\n",
    "# Checking very_bad_df - ballpark\n",
    "\n",
    "\n",
    "print('[CIS 545 Test Cases] (1 pt)')"
   ]
  },
  {
   "cell_type": "code",
   "execution_count": 551,
   "metadata": {
    "deletable": false,
    "editable": false,
    "nbgrader": {
     "checksum": "0e54410c9a03a921e4a88079952b2c89",
     "grade": true,
     "grade_id": "test-vbad3",
     "locked": true,
     "points": 1,
     "schema_version": 1,
     "solution": false
    }
   },
   "outputs": [
    {
     "name": "stdout",
     "output_type": "stream",
     "text": [
      "[CIS 545 Test Cases] (1 pt)\n"
     ]
    }
   ],
   "source": [
    "# [CIS 545 Test Cases] (1 pt)\n",
    "# Checking very_bad_df - exact\n",
    "\n",
    "\n",
    "print('[CIS 545 Test Cases] (1 pt)')"
   ]
  },
  {
   "cell_type": "code",
   "execution_count": 552,
   "metadata": {
    "deletable": false,
    "editable": false,
    "nbgrader": {
     "checksum": "0b46543110b980521765d54154b962a2",
     "grade": true,
     "grade_id": "test-vbad4",
     "locked": true,
     "points": 3,
     "schema_version": 1,
     "solution": false
    }
   },
   "outputs": [
    {
     "name": "stdout",
     "output_type": "stream",
     "text": [
      "[CIS 545 Test Cases] (3 pts)\n"
     ]
    }
   ],
   "source": [
    "# [CIS 545 Test Cases] (3 pts)\n",
    "# Checking very_bad_df - exact\n",
    " \n",
    "\n",
    "print('[CIS 545 Test Cases] (3 pts)')"
   ]
  },
  {
   "cell_type": "markdown",
   "metadata": {
    "deletable": false,
    "editable": false,
    "nbgrader": {
     "checksum": "8bc28f21f2b2f41b49f705566f6be609",
     "grade": false,
     "grade_id": "submit",
     "locked": true,
     "schema_version": 1,
     "solution": false
    }
   },
   "source": [
    "## Submission\n",
    "\n",
    "As per the Homework 1 write-up, please submit your assignment on OpenSubmit as a zip file, `hw1.zip`, containing **only** `Homework 1-1.ipynb` and `Homework 1-2.ipynb` - you should NOT include the dataset descriptions or any of the datasets in your submission!\n",
    "\n",
    "Please make sure to run your notebooks fully and make sure they work prior to submission. This will help you catch typos and other errors that could cost test case points.\n",
    "\n",
    "The assignment is due Feburary 11, 2019 at 10PM. Although we include a 1 hour grace period for submissions, that is meant to avoid having to take late days due to any errors in submission or validation or errors caught at the last minute. Going past this means you'll be taking late days, which will be 3 days after this period unless stated otherwise!"
   ]
  }
 ],
 "metadata": {
  "anaconda-cloud": {},
  "kernelspec": {
   "display_name": "Python 3",
   "language": "python",
   "name": "python3"
  },
  "language_info": {
   "codemirror_mode": {
    "name": "ipython",
    "version": 3
   },
   "file_extension": ".py",
   "mimetype": "text/x-python",
   "name": "python",
   "nbconvert_exporter": "python",
   "pygments_lexer": "ipython3",
   "version": "3.6.7"
  }
 },
 "nbformat": 4,
 "nbformat_minor": 1
}
